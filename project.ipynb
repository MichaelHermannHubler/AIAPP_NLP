{
 "cells": [
  {
   "cell_type": "markdown",
   "metadata": {},
   "source": [
    "# Kann mithilfe einer NLP-unterstützten Methodik festgestellt werden ob ein Amazon Review Positiv, Neutral oder Negativ ist, bzw. kann das angegebene Voting errechnet werden?\n",
    "\n",
    "- Michael Hermann-Hubler\n",
    "- Michael Kranl\n",
    "\n",
    "The used data was created by J. Ni, J. Li, and J. McAuley for „Justifying Recommendations using Distantly-Labeled Reviews and Fine-Grained Aspects“, in Proceedings of the 2019 Conference on mpirical Methods in Natural Language Processing and the 9th International Joint Conference on Natural Language Processing (EMNLP-IJCNLP), Hong Kong, China, 2019, S. 188–197. doi: 10.18653/v1/D19-1018. "
   ]
  },
  {
   "cell_type": "markdown",
   "metadata": {},
   "source": [
    "## Imports"
   ]
  },
  {
   "cell_type": "code",
   "execution_count": null,
   "metadata": {},
   "outputs": [],
   "source": [
    "import sys\n",
    "!{sys.executable} -m pip install gzinfo\n",
    "!{sys.executable} -m pip install nltk\n",
    "!{sys.executable} -m pip install pandas\n",
    "!{sys.executable} -m pip install seaborn\n",
    "!{sys.executable} -m pip install wordcloud\n",
    "!{sys.executable} -m pip install tensorflow\n",
    "!{sys.executable} -m pip install torch\n",
    "!{sys.executable} -m pip install gensim\n",
    "!{sys.executable} -m pip install sklearn"
   ]
  },
  {
   "cell_type": "code",
   "execution_count": 2,
   "metadata": {},
   "outputs": [
    {
     "name": "stderr",
     "output_type": "stream",
     "text": [
      "Enabling notebook extension jupyter-js-widgets/extension...\n",
      "      - Validating: ok\n"
     ]
    }
   ],
   "source": [
    "!jupyter nbextension enable --py widgetsnbextension"
   ]
  },
  {
   "cell_type": "code",
   "execution_count": 56,
   "metadata": {},
   "outputs": [
    {
     "name": "stderr",
     "output_type": "stream",
     "text": [
      "[nltk_data] Downloading package omw-1.4 to\n",
      "[nltk_data]     C:\\Users\\micha\\AppData\\Roaming\\nltk_data...\n",
      "[nltk_data]   Package omw-1.4 is already up-to-date!\n",
      "[nltk_data] Downloading package wordnet to\n",
      "[nltk_data]     C:\\Users\\micha\\AppData\\Roaming\\nltk_data...\n",
      "[nltk_data]   Package wordnet is already up-to-date!\n",
      "[nltk_data] Downloading package stopwords to\n",
      "[nltk_data]     C:\\Users\\micha\\AppData\\Roaming\\nltk_data...\n",
      "[nltk_data]   Package stopwords is already up-to-date!\n"
     ]
    }
   ],
   "source": [
    "# Intel Optimizer for Sklearn\n",
    "# from sklearnex import patch_sklearn\n",
    "# patch_sklearn()\n",
    "\n",
    "# General\n",
    "import pandas as pd\n",
    "import numpy as np\n",
    "from itertools import islice\n",
    "from sklearn.model_selection import train_test_split\n",
    "\n",
    "# Download\n",
    "import urllib.request\n",
    "import glob\n",
    "import gzip\n",
    "import gzinfo\n",
    "import os\n",
    "import shutil\n",
    "\n",
    "# Visualisation\n",
    "import seaborn as sns\n",
    "import matplotlib.pyplot as plt\n",
    "from wordcloud import WordCloud\n",
    "\n",
    "# Text Preprocessing\n",
    "from collections import Counter\n",
    "from keras_preprocessing.text import text_to_word_sequence\n",
    "import nltk\n",
    "nltk.download('omw-1.4')\n",
    "nltk.download('wordnet')\n",
    "nltk.download('stopwords')\n",
    "from nltk.stem import WordNetLemmatizer, PorterStemmer\n",
    "from nltk.corpus import stopwords\n",
    "import re\n",
    "\n",
    "# Feature Representation\n",
    "from nltk import ngrams\n",
    "from sklearn.feature_extraction.text import TfidfVectorizer\n",
    "from gensim.models import Word2Vec\n",
    "\n",
    "# Clustering\n",
    "from sklearn.cluster import KMeans\n",
    "from sklearn.decomposition import PCA\n",
    "from sklearn.manifold import TSNE\n",
    "from umap import UMAP\n",
    "\n",
    "# Prediction\n",
    "import tensorflow as tf\n",
    "from sklearn.svm import SVC, SVR\n",
    "from sklearn.ensemble import RandomForestClassifier, RandomForestRegressor\n",
    "\n",
    "# LSTM\n",
    "import torch\n",
    "import torch.nn as nn\n",
    "import torch.nn.functional as F\n",
    "\n",
    "device = torch.device('cuda:0' if torch.cuda.is_available() else 'cpu')\n",
    "\n",
    "# Huggingface\n",
    "from datasets import Dataset, features\n",
    "from transformers import AutoTokenizer\n",
    "from transformers import DataCollatorWithPadding\n",
    "from transformers import create_optimizer\n",
    "\n",
    "# RNN\n",
    "from keras.preprocessing.text import Tokenizer\n",
    "from keras.preprocessing.sequence import pad_sequences\n",
    "from keras.models import Sequential\n",
    "import keras.models as kmodels\n",
    "from keras.layers import Dense, Embedding, LSTM, SpatialDropout1D\n",
    "from keras.callbacks import EarlyStopping\n",
    "\n",
    "# Metrics\n",
    "from sklearn.metrics import mean_squared_error, accuracy_score\n",
    "\n",
    "# Set to true on Production\n",
    "final_Execution = True"
   ]
  },
  {
   "cell_type": "markdown",
   "metadata": {},
   "source": [
    "## Load Dataset"
   ]
  },
  {
   "cell_type": "markdown",
   "metadata": {},
   "source": [
    "### Download Sub Dataset"
   ]
  },
  {
   "cell_type": "code",
   "execution_count": 2,
   "metadata": {},
   "outputs": [],
   "source": [
    "subdatasets = [\n",
    "                  'http://deepyeti.ucsd.edu/jianmo/amazon/categoryFilesSmall/Arts_Crafts_and_Sewing_5.json.gz',\n",
    "                  'http://deepyeti.ucsd.edu/jianmo/amazon/categoryFilesSmall/Industrial_and_Scientific_5.json.gz',\n",
    "                  'http://deepyeti.ucsd.edu/jianmo/amazon/categoryFilesSmall/Luxury_Beauty_5.json.gz',\n",
    "                  'http://deepyeti.ucsd.edu/jianmo/amazon/categoryFilesSmall/Musical_Instruments_5.json.gz'\n",
    "              ]\n",
    "\n",
    "def download(x: str):\n",
    "    urllib.request.urlretrieve(x, '.data/dummy.gz')\n",
    "\n",
    "    filename = gzinfo.read_gz_info('.data/dummy.gz').fname\n",
    "    with gzip.open('.data/dummy.gz', 'rb') as f_in:\n",
    "        with open('.data/' + filename, 'wb') as f_out:\n",
    "            shutil.copyfileobj(f_in, f_out)\n",
    "            \n",
    "    os.remove('.data/dummy.gz')\n",
    "\n",
    "# only run once as this can take a very long time\n",
    "if len(os.listdir('.data') ) == 0:\n",
    "    [download(x) for x in subdatasets]\n"
   ]
  },
  {
   "cell_type": "markdown",
   "metadata": {},
   "source": [
    "## Load data"
   ]
  },
  {
   "cell_type": "code",
   "execution_count": 3,
   "metadata": {},
   "outputs": [],
   "source": [
    "all_files = glob.glob('.data/*')\n",
    "li = []\n",
    "\n",
    "for filename in all_files:\n",
    "    temp_df = pd.read_json(filename, lines=True)\n",
    "    li.append(temp_df)\n",
    "\n",
    "df = pd.concat(li, axis=0, ignore_index=True)"
   ]
  },
  {
   "cell_type": "markdown",
   "metadata": {},
   "source": [
    "## Data Exploration I"
   ]
  },
  {
   "cell_type": "code",
   "execution_count": 4,
   "metadata": {},
   "outputs": [
    {
     "data": {
      "text/html": [
       "<div>\n",
       "<style scoped>\n",
       "    .dataframe tbody tr th:only-of-type {\n",
       "        vertical-align: middle;\n",
       "    }\n",
       "\n",
       "    .dataframe tbody tr th {\n",
       "        vertical-align: top;\n",
       "    }\n",
       "\n",
       "    .dataframe thead th {\n",
       "        text-align: right;\n",
       "    }\n",
       "</style>\n",
       "<table border=\"1\" class=\"dataframe\">\n",
       "  <thead>\n",
       "    <tr style=\"text-align: right;\">\n",
       "      <th></th>\n",
       "      <th>overall</th>\n",
       "      <th>verified</th>\n",
       "      <th>reviewTime</th>\n",
       "      <th>reviewerID</th>\n",
       "      <th>asin</th>\n",
       "      <th>style</th>\n",
       "      <th>reviewerName</th>\n",
       "      <th>reviewText</th>\n",
       "      <th>summary</th>\n",
       "      <th>unixReviewTime</th>\n",
       "      <th>vote</th>\n",
       "      <th>image</th>\n",
       "    </tr>\n",
       "  </thead>\n",
       "  <tbody>\n",
       "    <tr>\n",
       "      <th>0</th>\n",
       "      <td>4</td>\n",
       "      <td>True</td>\n",
       "      <td>03 29, 2016</td>\n",
       "      <td>AIE8N9U317ZBM</td>\n",
       "      <td>0449819906</td>\n",
       "      <td>{'Format:': ' Kindle Edition'}</td>\n",
       "      <td>Zelmira, Ph.D.</td>\n",
       "      <td>Contains some interesting stitches.</td>\n",
       "      <td>Four Stars</td>\n",
       "      <td>1459209600</td>\n",
       "      <td>NaN</td>\n",
       "      <td>NaN</td>\n",
       "    </tr>\n",
       "    <tr>\n",
       "      <th>1</th>\n",
       "      <td>5</td>\n",
       "      <td>True</td>\n",
       "      <td>08 12, 2015</td>\n",
       "      <td>A3ECOW0TWLH9V6</td>\n",
       "      <td>0449819906</td>\n",
       "      <td>{'Format:': ' Paperback'}</td>\n",
       "      <td>Dangerous when Cooking</td>\n",
       "      <td>I'm a fairly experienced knitter of the one-co...</td>\n",
       "      <td>My current favorite go-to guide for inspiration</td>\n",
       "      <td>1439337600</td>\n",
       "      <td>18</td>\n",
       "      <td>NaN</td>\n",
       "    </tr>\n",
       "    <tr>\n",
       "      <th>2</th>\n",
       "      <td>4</td>\n",
       "      <td>True</td>\n",
       "      <td>04 5, 2015</td>\n",
       "      <td>A278N8QX9TY2OS</td>\n",
       "      <td>0449819906</td>\n",
       "      <td>{'Format:': ' Paperback'}</td>\n",
       "      <td>Just us</td>\n",
       "      <td>Great book but the index is terrible. Had to w...</td>\n",
       "      <td>lots of great examples, good instructions, col...</td>\n",
       "      <td>1428192000</td>\n",
       "      <td>3</td>\n",
       "      <td>NaN</td>\n",
       "    </tr>\n",
       "    <tr>\n",
       "      <th>3</th>\n",
       "      <td>5</td>\n",
       "      <td>True</td>\n",
       "      <td>10 11, 2014</td>\n",
       "      <td>A123W8HIK76XCN</td>\n",
       "      <td>0449819906</td>\n",
       "      <td>{'Format:': ' Kindle Edition'}</td>\n",
       "      <td>Amazon Customer</td>\n",
       "      <td>I purchased the Kindle edition which is incred...</td>\n",
       "      <td>Another little gem by Melissa Leapman</td>\n",
       "      <td>1412985600</td>\n",
       "      <td>NaN</td>\n",
       "      <td>NaN</td>\n",
       "    </tr>\n",
       "    <tr>\n",
       "      <th>4</th>\n",
       "      <td>5</td>\n",
       "      <td>True</td>\n",
       "      <td>05 8, 2014</td>\n",
       "      <td>A2A6MZ2QB4AE0L</td>\n",
       "      <td>0449819906</td>\n",
       "      <td>{'Format:': ' Paperback'}</td>\n",
       "      <td>Sustainability</td>\n",
       "      <td>Very well laid out and very easy to read.\\n\\nT...</td>\n",
       "      <td>Very comprehensive</td>\n",
       "      <td>1399507200</td>\n",
       "      <td>NaN</td>\n",
       "      <td>NaN</td>\n",
       "    </tr>\n",
       "  </tbody>\n",
       "</table>\n",
       "</div>"
      ],
      "text/plain": [
       "   overall  verified   reviewTime      reviewerID        asin  \\\n",
       "0        4      True  03 29, 2016   AIE8N9U317ZBM  0449819906   \n",
       "1        5      True  08 12, 2015  A3ECOW0TWLH9V6  0449819906   \n",
       "2        4      True   04 5, 2015  A278N8QX9TY2OS  0449819906   \n",
       "3        5      True  10 11, 2014  A123W8HIK76XCN  0449819906   \n",
       "4        5      True   05 8, 2014  A2A6MZ2QB4AE0L  0449819906   \n",
       "\n",
       "                            style            reviewerName  \\\n",
       "0  {'Format:': ' Kindle Edition'}          Zelmira, Ph.D.   \n",
       "1       {'Format:': ' Paperback'}  Dangerous when Cooking   \n",
       "2       {'Format:': ' Paperback'}                 Just us   \n",
       "3  {'Format:': ' Kindle Edition'}         Amazon Customer   \n",
       "4       {'Format:': ' Paperback'}          Sustainability   \n",
       "\n",
       "                                          reviewText  \\\n",
       "0                Contains some interesting stitches.   \n",
       "1  I'm a fairly experienced knitter of the one-co...   \n",
       "2  Great book but the index is terrible. Had to w...   \n",
       "3  I purchased the Kindle edition which is incred...   \n",
       "4  Very well laid out and very easy to read.\\n\\nT...   \n",
       "\n",
       "                                             summary  unixReviewTime vote  \\\n",
       "0                                         Four Stars      1459209600  NaN   \n",
       "1    My current favorite go-to guide for inspiration      1439337600   18   \n",
       "2  lots of great examples, good instructions, col...      1428192000    3   \n",
       "3              Another little gem by Melissa Leapman      1412985600  NaN   \n",
       "4                                 Very comprehensive      1399507200  NaN   \n",
       "\n",
       "  image  \n",
       "0   NaN  \n",
       "1   NaN  \n",
       "2   NaN  \n",
       "3   NaN  \n",
       "4   NaN  "
      ]
     },
     "execution_count": 4,
     "metadata": {},
     "output_type": "execute_result"
    }
   ],
   "source": [
    "df.head()"
   ]
  },
  {
   "cell_type": "code",
   "execution_count": 5,
   "metadata": {},
   "outputs": [
    {
     "data": {
      "text/html": [
       "<div>\n",
       "<style scoped>\n",
       "    .dataframe tbody tr th:only-of-type {\n",
       "        vertical-align: middle;\n",
       "    }\n",
       "\n",
       "    .dataframe tbody tr th {\n",
       "        vertical-align: top;\n",
       "    }\n",
       "\n",
       "    .dataframe thead th {\n",
       "        text-align: right;\n",
       "    }\n",
       "</style>\n",
       "<table border=\"1\" class=\"dataframe\">\n",
       "  <thead>\n",
       "    <tr style=\"text-align: right;\">\n",
       "      <th></th>\n",
       "      <th>overall</th>\n",
       "      <th>unixReviewTime</th>\n",
       "    </tr>\n",
       "  </thead>\n",
       "  <tbody>\n",
       "    <tr>\n",
       "      <th>count</th>\n",
       "      <td>837226.000000</td>\n",
       "      <td>8.372260e+05</td>\n",
       "    </tr>\n",
       "    <tr>\n",
       "      <th>mean</th>\n",
       "      <td>4.524777</td>\n",
       "      <td>1.446987e+09</td>\n",
       "    </tr>\n",
       "    <tr>\n",
       "      <th>std</th>\n",
       "      <td>0.953090</td>\n",
       "      <td>4.959673e+07</td>\n",
       "    </tr>\n",
       "    <tr>\n",
       "      <th>min</th>\n",
       "      <td>1.000000</td>\n",
       "      <td>1.051402e+09</td>\n",
       "    </tr>\n",
       "    <tr>\n",
       "      <th>25%</th>\n",
       "      <td>4.000000</td>\n",
       "      <td>1.418429e+09</td>\n",
       "    </tr>\n",
       "    <tr>\n",
       "      <th>50%</th>\n",
       "      <td>5.000000</td>\n",
       "      <td>1.452470e+09</td>\n",
       "    </tr>\n",
       "    <tr>\n",
       "      <th>75%</th>\n",
       "      <td>5.000000</td>\n",
       "      <td>1.483402e+09</td>\n",
       "    </tr>\n",
       "    <tr>\n",
       "      <th>max</th>\n",
       "      <td>5.000000</td>\n",
       "      <td>1.538525e+09</td>\n",
       "    </tr>\n",
       "  </tbody>\n",
       "</table>\n",
       "</div>"
      ],
      "text/plain": [
       "             overall  unixReviewTime\n",
       "count  837226.000000    8.372260e+05\n",
       "mean        4.524777    1.446987e+09\n",
       "std         0.953090    4.959673e+07\n",
       "min         1.000000    1.051402e+09\n",
       "25%         4.000000    1.418429e+09\n",
       "50%         5.000000    1.452470e+09\n",
       "75%         5.000000    1.483402e+09\n",
       "max         5.000000    1.538525e+09"
      ]
     },
     "execution_count": 5,
     "metadata": {},
     "output_type": "execute_result"
    }
   ],
   "source": [
    "df.describe()"
   ]
  },
  {
   "cell_type": "code",
   "execution_count": 6,
   "metadata": {},
   "outputs": [
    {
     "data": {
      "text/plain": [
       "<seaborn.axisgrid.FacetGrid at 0x134f1ee3fa0>"
      ]
     },
     "execution_count": 6,
     "metadata": {},
     "output_type": "execute_result"
    },
    {
     "data": {
      "image/png": "[encoded data removed]",
      "text/plain": [
       "<Figure size 360x360 with 1 Axes>"
      ]
     },
     "metadata": {
      "needs_background": "light"
     },
     "output_type": "display_data"
    }
   ],
   "source": [
    "sns.displot(df.overall, discrete=True)"
   ]
  },
  {
   "cell_type": "code",
   "execution_count": 7,
   "metadata": {},
   "outputs": [
    {
     "data": {
      "text/plain": [
       "overall\n",
       "1     25394\n",
       "2     23489\n",
       "3     52973\n",
       "4    119795\n",
       "5    615214\n",
       "Name: reviewText, dtype: int64"
      ]
     },
     "execution_count": 7,
     "metadata": {},
     "output_type": "execute_result"
    }
   ],
   "source": [
    "df.groupby('overall').count().reviewText"
   ]
  },
  {
   "cell_type": "markdown",
   "metadata": {},
   "source": [
    "The high average overall score means, that we have to split the data differently as we have no normal distibution."
   ]
  },
  {
   "cell_type": "code",
   "execution_count": 8,
   "metadata": {},
   "outputs": [
    {
     "name": "stdout",
     "output_type": "stream",
     "text": [
      "Length whole Dataset: 837226\n",
      "Length Dataset without NA: 836865\n"
     ]
    }
   ],
   "source": [
    "print('Length whole Dataset:', len(df.reviewText))\n",
    "print('Length Dataset without NA:', len(df.reviewText.dropna()))"
   ]
  },
  {
   "cell_type": "markdown",
   "metadata": {},
   "source": [
    "There exists missing Data"
   ]
  },
  {
   "cell_type": "markdown",
   "metadata": {},
   "source": [
    "## Data Cleaning"
   ]
  },
  {
   "cell_type": "markdown",
   "metadata": {},
   "source": [
    "### Remove unnessesary columns"
   ]
  },
  {
   "cell_type": "code",
   "execution_count": 9,
   "metadata": {},
   "outputs": [],
   "source": [
    "df = df[['overall', 'reviewText']]"
   ]
  },
  {
   "cell_type": "markdown",
   "metadata": {},
   "source": [
    "### Remove missing data"
   ]
  },
  {
   "cell_type": "code",
   "execution_count": 10,
   "metadata": {},
   "outputs": [],
   "source": [
    "df = df.dropna()"
   ]
  },
  {
   "cell_type": "markdown",
   "metadata": {},
   "source": [
    "### Reduce data to a representative subset\n",
    "To reduce the data we take random 20.000 samples from each class, without replacement"
   ]
  },
  {
   "cell_type": "code",
   "execution_count": 11,
   "metadata": {},
   "outputs": [],
   "source": [
    "sampling_size = 20000\n",
    "\n",
    "li = [\n",
    "    df[df.overall == 1].sample(sampling_size),\n",
    "    df[df.overall == 2].sample(sampling_size),\n",
    "    df[df.overall == 3].sample(sampling_size),\n",
    "    df[df.overall == 4].sample(sampling_size),\n",
    "    df[df.overall == 5].sample(sampling_size)\n",
    "]\n",
    "\n",
    "df_cleaned = pd.concat(li, axis=0, ignore_index=True)"
   ]
  },
  {
   "cell_type": "code",
   "execution_count": 12,
   "metadata": {},
   "outputs": [
    {
     "data": {
      "text/html": [
       "<div>\n",
       "<style scoped>\n",
       "    .dataframe tbody tr th:only-of-type {\n",
       "        vertical-align: middle;\n",
       "    }\n",
       "\n",
       "    .dataframe tbody tr th {\n",
       "        vertical-align: top;\n",
       "    }\n",
       "\n",
       "    .dataframe thead th {\n",
       "        text-align: right;\n",
       "    }\n",
       "</style>\n",
       "<table border=\"1\" class=\"dataframe\">\n",
       "  <thead>\n",
       "    <tr style=\"text-align: right;\">\n",
       "      <th></th>\n",
       "      <th>overall</th>\n",
       "    </tr>\n",
       "  </thead>\n",
       "  <tbody>\n",
       "    <tr>\n",
       "      <th>count</th>\n",
       "      <td>5000.000000</td>\n",
       "    </tr>\n",
       "    <tr>\n",
       "      <th>mean</th>\n",
       "      <td>3.000000</td>\n",
       "    </tr>\n",
       "    <tr>\n",
       "      <th>std</th>\n",
       "      <td>1.414355</td>\n",
       "    </tr>\n",
       "    <tr>\n",
       "      <th>min</th>\n",
       "      <td>1.000000</td>\n",
       "    </tr>\n",
       "    <tr>\n",
       "      <th>25%</th>\n",
       "      <td>2.000000</td>\n",
       "    </tr>\n",
       "    <tr>\n",
       "      <th>50%</th>\n",
       "      <td>3.000000</td>\n",
       "    </tr>\n",
       "    <tr>\n",
       "      <th>75%</th>\n",
       "      <td>4.000000</td>\n",
       "    </tr>\n",
       "    <tr>\n",
       "      <th>max</th>\n",
       "      <td>5.000000</td>\n",
       "    </tr>\n",
       "  </tbody>\n",
       "</table>\n",
       "</div>"
      ],
      "text/plain": [
       "           overall\n",
       "count  5000.000000\n",
       "mean      3.000000\n",
       "std       1.414355\n",
       "min       1.000000\n",
       "25%       2.000000\n",
       "50%       3.000000\n",
       "75%       4.000000\n",
       "max       5.000000"
      ]
     },
     "execution_count": 12,
     "metadata": {},
     "output_type": "execute_result"
    }
   ],
   "source": [
    "df_cleaned.describe()"
   ]
  },
  {
   "cell_type": "code",
   "execution_count": 13,
   "metadata": {},
   "outputs": [
    {
     "data": {
      "text/html": [
       "<div>\n",
       "<style scoped>\n",
       "    .dataframe tbody tr th:only-of-type {\n",
       "        vertical-align: middle;\n",
       "    }\n",
       "\n",
       "    .dataframe tbody tr th {\n",
       "        vertical-align: top;\n",
       "    }\n",
       "\n",
       "    .dataframe thead th {\n",
       "        text-align: right;\n",
       "    }\n",
       "</style>\n",
       "<table border=\"1\" class=\"dataframe\">\n",
       "  <thead>\n",
       "    <tr style=\"text-align: right;\">\n",
       "      <th></th>\n",
       "      <th>overall</th>\n",
       "      <th>reviewText</th>\n",
       "    </tr>\n",
       "  </thead>\n",
       "  <tbody>\n",
       "    <tr>\n",
       "      <th>0</th>\n",
       "      <td>1</td>\n",
       "      <td>Too Short!  I had to rob another strap with a ...</td>\n",
       "    </tr>\n",
       "    <tr>\n",
       "      <th>1</th>\n",
       "      <td>1</td>\n",
       "      <td>Very cheap and flimsy. Not able to hold anythi...</td>\n",
       "    </tr>\n",
       "    <tr>\n",
       "      <th>2</th>\n",
       "      <td>1</td>\n",
       "      <td>The Alvin Professional translucent self-healin...</td>\n",
       "    </tr>\n",
       "    <tr>\n",
       "      <th>3</th>\n",
       "      <td>1</td>\n",
       "      <td>Best described as flimsy- got what I paid for ...</td>\n",
       "    </tr>\n",
       "    <tr>\n",
       "      <th>4</th>\n",
       "      <td>1</td>\n",
       "      <td>Worked fine when driven by my keyboard: Keyboa...</td>\n",
       "    </tr>\n",
       "  </tbody>\n",
       "</table>\n",
       "</div>"
      ],
      "text/plain": [
       "   overall                                         reviewText\n",
       "0        1  Too Short!  I had to rob another strap with a ...\n",
       "1        1  Very cheap and flimsy. Not able to hold anythi...\n",
       "2        1  The Alvin Professional translucent self-healin...\n",
       "3        1  Best described as flimsy- got what I paid for ...\n",
       "4        1  Worked fine when driven by my keyboard: Keyboa..."
      ]
     },
     "execution_count": 13,
     "metadata": {},
     "output_type": "execute_result"
    }
   ],
   "source": [
    "df_cleaned.head()"
   ]
  },
  {
   "cell_type": "markdown",
   "metadata": {},
   "source": [
    "## Preprocessing"
   ]
  },
  {
   "cell_type": "markdown",
   "metadata": {},
   "source": [
    "### Lowercasing"
   ]
  },
  {
   "cell_type": "code",
   "execution_count": 14,
   "metadata": {},
   "outputs": [
    {
     "data": {
      "text/html": [
       "<div>\n",
       "<style scoped>\n",
       "    .dataframe tbody tr th:only-of-type {\n",
       "        vertical-align: middle;\n",
       "    }\n",
       "\n",
       "    .dataframe tbody tr th {\n",
       "        vertical-align: top;\n",
       "    }\n",
       "\n",
       "    .dataframe thead th {\n",
       "        text-align: right;\n",
       "    }\n",
       "</style>\n",
       "<table border=\"1\" class=\"dataframe\">\n",
       "  <thead>\n",
       "    <tr style=\"text-align: right;\">\n",
       "      <th></th>\n",
       "      <th>overall</th>\n",
       "      <th>reviewText</th>\n",
       "    </tr>\n",
       "  </thead>\n",
       "  <tbody>\n",
       "    <tr>\n",
       "      <th>0</th>\n",
       "      <td>1</td>\n",
       "      <td>too short!  i had to rob another strap with a ...</td>\n",
       "    </tr>\n",
       "    <tr>\n",
       "      <th>1</th>\n",
       "      <td>1</td>\n",
       "      <td>very cheap and flimsy. not able to hold anythi...</td>\n",
       "    </tr>\n",
       "    <tr>\n",
       "      <th>2</th>\n",
       "      <td>1</td>\n",
       "      <td>the alvin professional translucent self-healin...</td>\n",
       "    </tr>\n",
       "    <tr>\n",
       "      <th>3</th>\n",
       "      <td>1</td>\n",
       "      <td>best described as flimsy- got what i paid for ...</td>\n",
       "    </tr>\n",
       "    <tr>\n",
       "      <th>4</th>\n",
       "      <td>1</td>\n",
       "      <td>worked fine when driven by my keyboard: keyboa...</td>\n",
       "    </tr>\n",
       "  </tbody>\n",
       "</table>\n",
       "</div>"
      ],
      "text/plain": [
       "   overall                                         reviewText\n",
       "0        1  too short!  i had to rob another strap with a ...\n",
       "1        1  very cheap and flimsy. not able to hold anythi...\n",
       "2        1  the alvin professional translucent self-healin...\n",
       "3        1  best described as flimsy- got what i paid for ...\n",
       "4        1  worked fine when driven by my keyboard: keyboa..."
      ]
     },
     "execution_count": 14,
     "metadata": {},
     "output_type": "execute_result"
    }
   ],
   "source": [
    "df_lowercase = df_cleaned.copy()\n",
    "df_lowercase.reviewText = df_lowercase.reviewText.str.lower()\n",
    "df_lowercase.head()"
   ]
  },
  {
   "cell_type": "markdown",
   "metadata": {},
   "source": [
    "### Remove Special Chars"
   ]
  },
  {
   "cell_type": "code",
   "execution_count": 15,
   "metadata": {},
   "outputs": [
    {
     "data": {
      "text/html": [
       "<div>\n",
       "<style scoped>\n",
       "    .dataframe tbody tr th:only-of-type {\n",
       "        vertical-align: middle;\n",
       "    }\n",
       "\n",
       "    .dataframe tbody tr th {\n",
       "        vertical-align: top;\n",
       "    }\n",
       "\n",
       "    .dataframe thead th {\n",
       "        text-align: right;\n",
       "    }\n",
       "</style>\n",
       "<table border=\"1\" class=\"dataframe\">\n",
       "  <thead>\n",
       "    <tr style=\"text-align: right;\">\n",
       "      <th></th>\n",
       "      <th>overall</th>\n",
       "      <th>reviewText</th>\n",
       "    </tr>\n",
       "  </thead>\n",
       "  <tbody>\n",
       "    <tr>\n",
       "      <th>0</th>\n",
       "      <td>1</td>\n",
       "      <td>too short  i had to rob another strap with a l...</td>\n",
       "    </tr>\n",
       "    <tr>\n",
       "      <th>1</th>\n",
       "      <td>1</td>\n",
       "      <td>very cheap and flimsy not able to hold anythin...</td>\n",
       "    </tr>\n",
       "    <tr>\n",
       "      <th>2</th>\n",
       "      <td>1</td>\n",
       "      <td>the alvin professional translucent selfhealing...</td>\n",
       "    </tr>\n",
       "    <tr>\n",
       "      <th>3</th>\n",
       "      <td>1</td>\n",
       "      <td>best described as flimsy got what i paid for here</td>\n",
       "    </tr>\n",
       "    <tr>\n",
       "      <th>4</th>\n",
       "      <td>1</td>\n",
       "      <td>worked fine when driven by my keyboard keyboar...</td>\n",
       "    </tr>\n",
       "  </tbody>\n",
       "</table>\n",
       "</div>"
      ],
      "text/plain": [
       "   overall                                         reviewText\n",
       "0        1  too short  i had to rob another strap with a l...\n",
       "1        1  very cheap and flimsy not able to hold anythin...\n",
       "2        1  the alvin professional translucent selfhealing...\n",
       "3        1  best described as flimsy got what i paid for here\n",
       "4        1  worked fine when driven by my keyboard keyboar..."
      ]
     },
     "execution_count": 15,
     "metadata": {},
     "output_type": "execute_result"
    }
   ],
   "source": [
    "regex = '[^ A-Za-z]+'\n",
    "\n",
    "df_spec_cars_removed = df_lowercase.copy()\n",
    "df_spec_cars_removed.reviewText = df_spec_cars_removed.apply(lambda row: re.sub(regex, '', row.reviewText), axis=1)\n",
    "df_spec_cars_removed.head()"
   ]
  },
  {
   "cell_type": "markdown",
   "metadata": {},
   "source": [
    "### Tokenization"
   ]
  },
  {
   "cell_type": "code",
   "execution_count": 16,
   "metadata": {},
   "outputs": [
    {
     "data": {
      "text/html": [
       "<div>\n",
       "<style scoped>\n",
       "    .dataframe tbody tr th:only-of-type {\n",
       "        vertical-align: middle;\n",
       "    }\n",
       "\n",
       "    .dataframe tbody tr th {\n",
       "        vertical-align: top;\n",
       "    }\n",
       "\n",
       "    .dataframe thead th {\n",
       "        text-align: right;\n",
       "    }\n",
       "</style>\n",
       "<table border=\"1\" class=\"dataframe\">\n",
       "  <thead>\n",
       "    <tr style=\"text-align: right;\">\n",
       "      <th></th>\n",
       "      <th>overall</th>\n",
       "      <th>reviewText</th>\n",
       "    </tr>\n",
       "  </thead>\n",
       "  <tbody>\n",
       "    <tr>\n",
       "      <th>0</th>\n",
       "      <td>1</td>\n",
       "      <td>[too, short, i, had, to, rob, another, strap, ...</td>\n",
       "    </tr>\n",
       "    <tr>\n",
       "      <th>1</th>\n",
       "      <td>1</td>\n",
       "      <td>[very, cheap, and, flimsy, not, able, to, hold...</td>\n",
       "    </tr>\n",
       "    <tr>\n",
       "      <th>2</th>\n",
       "      <td>1</td>\n",
       "      <td>[the, alvin, professional, translucent, selfhe...</td>\n",
       "    </tr>\n",
       "    <tr>\n",
       "      <th>3</th>\n",
       "      <td>1</td>\n",
       "      <td>[best, described, as, flimsy, got, what, i, pa...</td>\n",
       "    </tr>\n",
       "    <tr>\n",
       "      <th>4</th>\n",
       "      <td>1</td>\n",
       "      <td>[worked, fine, when, driven, by, my, keyboard,...</td>\n",
       "    </tr>\n",
       "  </tbody>\n",
       "</table>\n",
       "</div>"
      ],
      "text/plain": [
       "   overall                                         reviewText\n",
       "0        1  [too, short, i, had, to, rob, another, strap, ...\n",
       "1        1  [very, cheap, and, flimsy, not, able, to, hold...\n",
       "2        1  [the, alvin, professional, translucent, selfhe...\n",
       "3        1  [best, described, as, flimsy, got, what, i, pa...\n",
       "4        1  [worked, fine, when, driven, by, my, keyboard,..."
      ]
     },
     "execution_count": 16,
     "metadata": {},
     "output_type": "execute_result"
    }
   ],
   "source": [
    "df_token = df_spec_cars_removed.copy()\n",
    "df_token.reviewText = df_token.apply(lambda row: text_to_word_sequence(row.reviewText), axis=1)\n",
    "df_token.head()"
   ]
  },
  {
   "cell_type": "markdown",
   "metadata": {},
   "source": [
    "## Remove seldom used words"
   ]
  },
  {
   "cell_type": "code",
   "execution_count": 17,
   "metadata": {},
   "outputs": [
    {
     "name": "stdout",
     "output_type": "stream",
     "text": [
      "num_words before: 15269\n",
      "num_words after: 3651\n"
     ]
    },
    {
     "data": {
      "text/html": [
       "<div>\n",
       "<style scoped>\n",
       "    .dataframe tbody tr th:only-of-type {\n",
       "        vertical-align: middle;\n",
       "    }\n",
       "\n",
       "    .dataframe tbody tr th {\n",
       "        vertical-align: top;\n",
       "    }\n",
       "\n",
       "    .dataframe thead th {\n",
       "        text-align: right;\n",
       "    }\n",
       "</style>\n",
       "<table border=\"1\" class=\"dataframe\">\n",
       "  <thead>\n",
       "    <tr style=\"text-align: right;\">\n",
       "      <th></th>\n",
       "      <th>overall</th>\n",
       "      <th>reviewText</th>\n",
       "    </tr>\n",
       "  </thead>\n",
       "  <tbody>\n",
       "    <tr>\n",
       "      <th>0</th>\n",
       "      <td>1</td>\n",
       "      <td>[too, short, i, had, to, another, strap, with,...</td>\n",
       "    </tr>\n",
       "    <tr>\n",
       "      <th>1</th>\n",
       "      <td>1</td>\n",
       "      <td>[very, cheap, and, flimsy, not, able, to, hold...</td>\n",
       "    </tr>\n",
       "    <tr>\n",
       "      <th>2</th>\n",
       "      <td>1</td>\n",
       "      <td>[the, professional, translucent, cutting, mat,...</td>\n",
       "    </tr>\n",
       "    <tr>\n",
       "      <th>3</th>\n",
       "      <td>1</td>\n",
       "      <td>[best, described, as, flimsy, got, what, i, pa...</td>\n",
       "    </tr>\n",
       "    <tr>\n",
       "      <th>4</th>\n",
       "      <td>1</td>\n",
       "      <td>[worked, fine, when, by, my, keyboard, keyboar...</td>\n",
       "    </tr>\n",
       "  </tbody>\n",
       "</table>\n",
       "</div>"
      ],
      "text/plain": [
       "   overall                                         reviewText\n",
       "0        1  [too, short, i, had, to, another, strap, with,...\n",
       "1        1  [very, cheap, and, flimsy, not, able, to, hold...\n",
       "2        1  [the, professional, translucent, cutting, mat,...\n",
       "3        1  [best, described, as, flimsy, got, what, i, pa...\n",
       "4        1  [worked, fine, when, by, my, keyboard, keyboar..."
      ]
     },
     "execution_count": 17,
     "metadata": {},
     "output_type": "execute_result"
    }
   ],
   "source": [
    "df_token_cleaned = df_token.copy()\n",
    "\n",
    "counts = Counter()\n",
    "for _, row in df_token_cleaned.iterrows():\n",
    "    counts.update(row.reviewText)\n",
    "\n",
    "print(\"num_words before:\",len(counts.keys()))\n",
    "for word in list(counts):\n",
    "    if counts[word] < 5:\n",
    "        del counts[word]\n",
    "print(\"num_words after:\",len(counts.keys()))\n",
    "\n",
    "\n",
    "for index, row in df_token_cleaned.iterrows():\n",
    "    df_token_cleaned.at[index, 'reviewText'] = [x for x in row.reviewText if x in counts.keys()]   \n",
    "\n",
    "df_token_cleaned.head()"
   ]
  },
  {
   "cell_type": "markdown",
   "metadata": {},
   "source": [
    "### Lemmatization "
   ]
  },
  {
   "cell_type": "code",
   "execution_count": 18,
   "metadata": {},
   "outputs": [
    {
     "data": {
      "text/html": [
       "<div>\n",
       "<style scoped>\n",
       "    .dataframe tbody tr th:only-of-type {\n",
       "        vertical-align: middle;\n",
       "    }\n",
       "\n",
       "    .dataframe tbody tr th {\n",
       "        vertical-align: top;\n",
       "    }\n",
       "\n",
       "    .dataframe thead th {\n",
       "        text-align: right;\n",
       "    }\n",
       "</style>\n",
       "<table border=\"1\" class=\"dataframe\">\n",
       "  <thead>\n",
       "    <tr style=\"text-align: right;\">\n",
       "      <th></th>\n",
       "      <th>overall</th>\n",
       "      <th>reviewText</th>\n",
       "    </tr>\n",
       "  </thead>\n",
       "  <tbody>\n",
       "    <tr>\n",
       "      <th>0</th>\n",
       "      <td>1</td>\n",
       "      <td>[too, short, i, had, to, another, strap, with,...</td>\n",
       "    </tr>\n",
       "    <tr>\n",
       "      <th>1</th>\n",
       "      <td>1</td>\n",
       "      <td>[very, cheap, and, flimsy, not, able, to, hold...</td>\n",
       "    </tr>\n",
       "    <tr>\n",
       "      <th>2</th>\n",
       "      <td>1</td>\n",
       "      <td>[the, professional, translucent, cutting, mat,...</td>\n",
       "    </tr>\n",
       "    <tr>\n",
       "      <th>3</th>\n",
       "      <td>1</td>\n",
       "      <td>[best, described, a, flimsy, got, what, i, pai...</td>\n",
       "    </tr>\n",
       "    <tr>\n",
       "      <th>4</th>\n",
       "      <td>1</td>\n",
       "      <td>[worked, fine, when, by, my, keyboard, keyboar...</td>\n",
       "    </tr>\n",
       "  </tbody>\n",
       "</table>\n",
       "</div>"
      ],
      "text/plain": [
       "   overall                                         reviewText\n",
       "0        1  [too, short, i, had, to, another, strap, with,...\n",
       "1        1  [very, cheap, and, flimsy, not, able, to, hold...\n",
       "2        1  [the, professional, translucent, cutting, mat,...\n",
       "3        1  [best, described, a, flimsy, got, what, i, pai...\n",
       "4        1  [worked, fine, when, by, my, keyboard, keyboar..."
      ]
     },
     "execution_count": 18,
     "metadata": {},
     "output_type": "execute_result"
    }
   ],
   "source": [
    "lemmatizer = WordNetLemmatizer()\n",
    "\n",
    "df_lemm = df_token_cleaned.copy()\n",
    "df_lemm.reviewText = df_lemm.apply(lambda row: [lemmatizer.lemmatize(x) for x in row.reviewText], axis=1)\n",
    "df_lemm.head()"
   ]
  },
  {
   "cell_type": "markdown",
   "metadata": {},
   "source": [
    "### Stemming\n",
    "\n",
    "Stemming ist used additionally to lemtization, because time forms were not normalized"
   ]
  },
  {
   "cell_type": "code",
   "execution_count": 19,
   "metadata": {},
   "outputs": [
    {
     "data": {
      "text/html": [
       "<div>\n",
       "<style scoped>\n",
       "    .dataframe tbody tr th:only-of-type {\n",
       "        vertical-align: middle;\n",
       "    }\n",
       "\n",
       "    .dataframe tbody tr th {\n",
       "        vertical-align: top;\n",
       "    }\n",
       "\n",
       "    .dataframe thead th {\n",
       "        text-align: right;\n",
       "    }\n",
       "</style>\n",
       "<table border=\"1\" class=\"dataframe\">\n",
       "  <thead>\n",
       "    <tr style=\"text-align: right;\">\n",
       "      <th></th>\n",
       "      <th>overall</th>\n",
       "      <th>reviewText</th>\n",
       "    </tr>\n",
       "  </thead>\n",
       "  <tbody>\n",
       "    <tr>\n",
       "      <th>0</th>\n",
       "      <td>1</td>\n",
       "      <td>[too, short, i, had, to, anoth, strap, with, a...</td>\n",
       "    </tr>\n",
       "    <tr>\n",
       "      <th>1</th>\n",
       "      <td>1</td>\n",
       "      <td>[veri, cheap, and, flimsi, not, abl, to, hold,...</td>\n",
       "    </tr>\n",
       "    <tr>\n",
       "      <th>2</th>\n",
       "      <td>1</td>\n",
       "      <td>[the, profession, transluc, cut, mat, come, wi...</td>\n",
       "    </tr>\n",
       "    <tr>\n",
       "      <th>3</th>\n",
       "      <td>1</td>\n",
       "      <td>[best, describ, a, flimsi, got, what, i, paid,...</td>\n",
       "    </tr>\n",
       "    <tr>\n",
       "      <th>4</th>\n",
       "      <td>1</td>\n",
       "      <td>[work, fine, when, by, my, keyboard, keyboard,...</td>\n",
       "    </tr>\n",
       "  </tbody>\n",
       "</table>\n",
       "</div>"
      ],
      "text/plain": [
       "   overall                                         reviewText\n",
       "0        1  [too, short, i, had, to, anoth, strap, with, a...\n",
       "1        1  [veri, cheap, and, flimsi, not, abl, to, hold,...\n",
       "2        1  [the, profession, transluc, cut, mat, come, wi...\n",
       "3        1  [best, describ, a, flimsi, got, what, i, paid,...\n",
       "4        1  [work, fine, when, by, my, keyboard, keyboard,..."
      ]
     },
     "execution_count": 19,
     "metadata": {},
     "output_type": "execute_result"
    }
   ],
   "source": [
    "stemmer = PorterStemmer()\n",
    "\n",
    "df_stemm = df_lemm.copy()\n",
    "df_stemm.reviewText = df_stemm.apply(lambda row: [stemmer.stem(x) for x in row.reviewText], axis=1)\n",
    "df_stemm.head()"
   ]
  },
  {
   "cell_type": "markdown",
   "metadata": {},
   "source": [
    "### Stopword removal"
   ]
  },
  {
   "cell_type": "code",
   "execution_count": 20,
   "metadata": {},
   "outputs": [
    {
     "data": {
      "text/html": [
       "<div>\n",
       "<style scoped>\n",
       "    .dataframe tbody tr th:only-of-type {\n",
       "        vertical-align: middle;\n",
       "    }\n",
       "\n",
       "    .dataframe tbody tr th {\n",
       "        vertical-align: top;\n",
       "    }\n",
       "\n",
       "    .dataframe thead th {\n",
       "        text-align: right;\n",
       "    }\n",
       "</style>\n",
       "<table border=\"1\" class=\"dataframe\">\n",
       "  <thead>\n",
       "    <tr style=\"text-align: right;\">\n",
       "      <th></th>\n",
       "      <th>overall</th>\n",
       "      <th>reviewText</th>\n",
       "    </tr>\n",
       "  </thead>\n",
       "  <tbody>\n",
       "    <tr>\n",
       "      <th>0</th>\n",
       "      <td>1</td>\n",
       "      <td>[short, anoth, strap, longer, strip, larg, man...</td>\n",
       "    </tr>\n",
       "    <tr>\n",
       "      <th>1</th>\n",
       "      <td>1</td>\n",
       "      <td>[veri, cheap, flimsi, abl, hold, anyth, onto, ...</td>\n",
       "    </tr>\n",
       "    <tr>\n",
       "      <th>2</th>\n",
       "      <td>1</td>\n",
       "      <td>[profession, transluc, cut, mat, come, label, ...</td>\n",
       "    </tr>\n",
       "    <tr>\n",
       "      <th>3</th>\n",
       "      <td>1</td>\n",
       "      <td>[best, describ, flimsi, got, paid]</td>\n",
       "    </tr>\n",
       "    <tr>\n",
       "      <th>4</th>\n",
       "      <td>1</td>\n",
       "      <td>[work, fine, keyboard, keyboard, midi, respond...</td>\n",
       "    </tr>\n",
       "  </tbody>\n",
       "</table>\n",
       "</div>"
      ],
      "text/plain": [
       "   overall                                         reviewText\n",
       "0        1  [short, anoth, strap, longer, strip, larg, man...\n",
       "1        1  [veri, cheap, flimsi, abl, hold, anyth, onto, ...\n",
       "2        1  [profession, transluc, cut, mat, come, label, ...\n",
       "3        1                 [best, describ, flimsi, got, paid]\n",
       "4        1  [work, fine, keyboard, keyboard, midi, respond..."
      ]
     },
     "execution_count": 20,
     "metadata": {},
     "output_type": "execute_result"
    }
   ],
   "source": [
    "stopwords_en = stopwords.words('english')\n",
    "\n",
    "df_removed_stopwords = df_stemm.copy()\n",
    "df_removed_stopwords.reviewText = df_removed_stopwords.apply(lambda row: [x for x in row.reviewText if x not in stopwords_en and x not in ['\\n', '\\r']], axis=1)\n",
    "df_removed_stopwords.head()"
   ]
  },
  {
   "cell_type": "markdown",
   "metadata": {},
   "source": [
    "### Define final"
   ]
  },
  {
   "cell_type": "code",
   "execution_count": 21,
   "metadata": {},
   "outputs": [
    {
     "data": {
      "text/html": [
       "<div>\n",
       "<style scoped>\n",
       "    .dataframe tbody tr th:only-of-type {\n",
       "        vertical-align: middle;\n",
       "    }\n",
       "\n",
       "    .dataframe tbody tr th {\n",
       "        vertical-align: top;\n",
       "    }\n",
       "\n",
       "    .dataframe thead th {\n",
       "        text-align: right;\n",
       "    }\n",
       "</style>\n",
       "<table border=\"1\" class=\"dataframe\">\n",
       "  <thead>\n",
       "    <tr style=\"text-align: right;\">\n",
       "      <th></th>\n",
       "      <th>overall</th>\n",
       "      <th>reviewText</th>\n",
       "    </tr>\n",
       "  </thead>\n",
       "  <tbody>\n",
       "    <tr>\n",
       "      <th>0</th>\n",
       "      <td>1</td>\n",
       "      <td>[too, short, i, had, to, another, strap, with,...</td>\n",
       "    </tr>\n",
       "    <tr>\n",
       "      <th>1</th>\n",
       "      <td>1</td>\n",
       "      <td>[very, cheap, and, flimsy, not, able, to, hold...</td>\n",
       "    </tr>\n",
       "    <tr>\n",
       "      <th>2</th>\n",
       "      <td>1</td>\n",
       "      <td>[the, professional, translucent, cutting, mat,...</td>\n",
       "    </tr>\n",
       "    <tr>\n",
       "      <th>3</th>\n",
       "      <td>1</td>\n",
       "      <td>[best, described, as, flimsy, got, what, i, pa...</td>\n",
       "    </tr>\n",
       "    <tr>\n",
       "      <th>4</th>\n",
       "      <td>1</td>\n",
       "      <td>[worked, fine, when, by, my, keyboard, keyboar...</td>\n",
       "    </tr>\n",
       "    <tr>\n",
       "      <th>...</th>\n",
       "      <td>...</td>\n",
       "      <td>...</td>\n",
       "    </tr>\n",
       "    <tr>\n",
       "      <th>4994</th>\n",
       "      <td>5</td>\n",
       "      <td>[the, description, didnt, say, whether, for, o...</td>\n",
       "    </tr>\n",
       "    <tr>\n",
       "      <th>4995</th>\n",
       "      <td>5</td>\n",
       "      <td>[this, is, a, pretty, deep, color, not, a, bri...</td>\n",
       "    </tr>\n",
       "    <tr>\n",
       "      <th>4996</th>\n",
       "      <td>5</td>\n",
       "      <td>[i, love, this, product, it, meets, all, of, m...</td>\n",
       "    </tr>\n",
       "    <tr>\n",
       "      <th>4997</th>\n",
       "      <td>5</td>\n",
       "      <td>[i, have, used, this, on, almost, every, proje...</td>\n",
       "    </tr>\n",
       "    <tr>\n",
       "      <th>4998</th>\n",
       "      <td>5</td>\n",
       "      <td>[the, white, was, pure, it, wasnt, sitting, on...</td>\n",
       "    </tr>\n",
       "  </tbody>\n",
       "</table>\n",
       "<p>4983 rows × 2 columns</p>\n",
       "</div>"
      ],
      "text/plain": [
       "      overall                                         reviewText\n",
       "0           1  [too, short, i, had, to, another, strap, with,...\n",
       "1           1  [very, cheap, and, flimsy, not, able, to, hold...\n",
       "2           1  [the, professional, translucent, cutting, mat,...\n",
       "3           1  [best, described, as, flimsy, got, what, i, pa...\n",
       "4           1  [worked, fine, when, by, my, keyboard, keyboar...\n",
       "...       ...                                                ...\n",
       "4994        5  [the, description, didnt, say, whether, for, o...\n",
       "4995        5  [this, is, a, pretty, deep, color, not, a, bri...\n",
       "4996        5  [i, love, this, product, it, meets, all, of, m...\n",
       "4997        5  [i, have, used, this, on, almost, every, proje...\n",
       "4998        5  [the, white, was, pure, it, wasnt, sitting, on...\n",
       "\n",
       "[4983 rows x 2 columns]"
      ]
     },
     "execution_count": 21,
     "metadata": {},
     "output_type": "execute_result"
    }
   ],
   "source": [
    "df_final = df_token_cleaned[df_token_cleaned.reviewText.map(lambda d: len(d)) > 0]\n",
    "\n",
    "df_final"
   ]
  },
  {
   "cell_type": "markdown",
   "metadata": {},
   "source": [
    "## Data Exploration II"
   ]
  },
  {
   "cell_type": "code",
   "execution_count": 22,
   "metadata": {},
   "outputs": [
    {
     "data": {
      "image/png": "[encoded data removed]",
      "text/plain": [
       "<Figure size 432x288 with 1 Axes>"
      ]
     },
     "metadata": {
      "needs_background": "light"
     },
     "output_type": "display_data"
    }
   ],
   "source": [
    "word_list = df_final.reviewText.tolist()\n",
    "word_list = [i for j in word_list for i in j]\n",
    "\n",
    "word_list_text = ' '.join(word_list)\n",
    "\n",
    "wordcloud = WordCloud().generate(word_list_text)\n",
    "plt.imshow(wordcloud, interpolation=\"bilinear\")\n",
    "plt.show()"
   ]
  },
  {
   "cell_type": "code",
   "execution_count": 23,
   "metadata": {},
   "outputs": [
    {
     "data": {
      "text/plain": [
       "<seaborn.axisgrid.FacetGrid at 0x134f218deb0>"
      ]
     },
     "execution_count": 23,
     "metadata": {},
     "output_type": "execute_result"
    },
    {
     "data": {
      "image/png": "[encoded data removed]",
      "text/plain": [
       "<Figure size 360x360 with 1 Axes>"
      ]
     },
     "metadata": {
      "needs_background": "light"
     },
     "output_type": "display_data"
    }
   ],
   "source": [
    "word_counts = [df_final.reviewText.apply(len)][0]\n",
    "word_counts = [x for x in word_counts if x < 100]\n",
    "\n",
    "sns.displot(word_counts, kde=True)"
   ]
  },
  {
   "cell_type": "code",
   "execution_count": 24,
   "metadata": {},
   "outputs": [
    {
     "data": {
      "text/plain": [
       "[['mine', 'caught', 'fire'],\n",
       " ['bad', 'product', 'it', 'broke'],\n",
       " ['too', 'tiny'],\n",
       " ['of', 'the', 'strings', 'high'],\n",
       " ['its', 'in', 'the', 'trash'],\n",
       " ['of', 's'],\n",
       " ['good', 'leds'],\n",
       " ['very', 'uncomfortable', 'waste', 'of'],\n",
       " ['blow'],\n",
       " ['not', 'waste', 'of', 'money']]"
      ]
     },
     "execution_count": 24,
     "metadata": {},
     "output_type": "execute_result"
    }
   ],
   "source": [
    "[x for x in df_final.reviewText if len(x) < 5][:10]\n"
   ]
  },
  {
   "cell_type": "markdown",
   "metadata": {},
   "source": [
    "These results with just one word seem plausible, thus they will be included"
   ]
  },
  {
   "cell_type": "markdown",
   "metadata": {},
   "source": [
    "## Feature Representation"
   ]
  },
  {
   "cell_type": "markdown",
   "metadata": {},
   "source": [
    "### n-Gram"
   ]
  },
  {
   "cell_type": "code",
   "execution_count": 25,
   "metadata": {},
   "outputs": [
    {
     "name": "stderr",
     "output_type": "stream",
     "text": [
      "C:\\Users\\micha\\anaconda3\\envs\\AIAPP_NLP\\lib\\site-packages\\numpy\\core\\_asarray.py:102: VisibleDeprecationWarning: Creating an ndarray from ragged nested sequences (which is a list-or-tuple of lists-or-tuples-or ndarrays with different lengths or shapes) is deprecated. If you meant to do this, you must specify 'dtype=object' when creating the ndarray.\n",
      "  return array(a, dtype, copy=False, order=order)\n"
     ]
    },
    {
     "data": {
      "text/html": [
       "<div>\n",
       "<style scoped>\n",
       "    .dataframe tbody tr th:only-of-type {\n",
       "        vertical-align: middle;\n",
       "    }\n",
       "\n",
       "    .dataframe tbody tr th {\n",
       "        vertical-align: top;\n",
       "    }\n",
       "\n",
       "    .dataframe thead th {\n",
       "        text-align: right;\n",
       "    }\n",
       "</style>\n",
       "<table border=\"1\" class=\"dataframe\">\n",
       "  <thead>\n",
       "    <tr style=\"text-align: right;\">\n",
       "      <th></th>\n",
       "      <th>overall</th>\n",
       "      <th>reviewText</th>\n",
       "      <th>ngram</th>\n",
       "    </tr>\n",
       "  </thead>\n",
       "  <tbody>\n",
       "    <tr>\n",
       "      <th>0</th>\n",
       "      <td>1</td>\n",
       "      <td>[too, short, i, had, to, another, strap, with,...</td>\n",
       "      <td>[(too, short, i), (short, i, had), (i, had, to...</td>\n",
       "    </tr>\n",
       "    <tr>\n",
       "      <th>1</th>\n",
       "      <td>1</td>\n",
       "      <td>[very, cheap, and, flimsy, not, able, to, hold...</td>\n",
       "      <td>[(very, cheap, and), (cheap, and, flimsy), (an...</td>\n",
       "    </tr>\n",
       "    <tr>\n",
       "      <th>2</th>\n",
       "      <td>1</td>\n",
       "      <td>[the, professional, translucent, cutting, mat,...</td>\n",
       "      <td>[(the, professional, translucent), (profession...</td>\n",
       "    </tr>\n",
       "    <tr>\n",
       "      <th>3</th>\n",
       "      <td>1</td>\n",
       "      <td>[best, described, as, flimsy, got, what, i, pa...</td>\n",
       "      <td>[(best, described, as), (described, as, flimsy...</td>\n",
       "    </tr>\n",
       "    <tr>\n",
       "      <th>4</th>\n",
       "      <td>1</td>\n",
       "      <td>[worked, fine, when, by, my, keyboard, keyboar...</td>\n",
       "      <td>[(worked, fine, when), (fine, when, by), (when...</td>\n",
       "    </tr>\n",
       "    <tr>\n",
       "      <th>...</th>\n",
       "      <td>...</td>\n",
       "      <td>...</td>\n",
       "      <td>...</td>\n",
       "    </tr>\n",
       "    <tr>\n",
       "      <th>4994</th>\n",
       "      <td>5</td>\n",
       "      <td>[the, description, didnt, say, whether, for, o...</td>\n",
       "      <td>[(the, description, didnt), (description, didn...</td>\n",
       "    </tr>\n",
       "    <tr>\n",
       "      <th>4995</th>\n",
       "      <td>5</td>\n",
       "      <td>[this, is, a, pretty, deep, color, not, a, bri...</td>\n",
       "      <td>[(this, is, a), (is, a, pretty), (a, pretty, d...</td>\n",
       "    </tr>\n",
       "    <tr>\n",
       "      <th>4996</th>\n",
       "      <td>5</td>\n",
       "      <td>[i, love, this, product, it, meets, all, of, m...</td>\n",
       "      <td>[(i, love, this), (love, this, product), (this...</td>\n",
       "    </tr>\n",
       "    <tr>\n",
       "      <th>4997</th>\n",
       "      <td>5</td>\n",
       "      <td>[i, have, used, this, on, almost, every, proje...</td>\n",
       "      <td>[(i, have, used), (have, used, this), (used, t...</td>\n",
       "    </tr>\n",
       "    <tr>\n",
       "      <th>4998</th>\n",
       "      <td>5</td>\n",
       "      <td>[the, white, was, pure, it, wasnt, sitting, on...</td>\n",
       "      <td>[(the, white, was), (white, was, pure), (was, ...</td>\n",
       "    </tr>\n",
       "  </tbody>\n",
       "</table>\n",
       "<p>4983 rows × 3 columns</p>\n",
       "</div>"
      ],
      "text/plain": [
       "      overall                                         reviewText  \\\n",
       "0           1  [too, short, i, had, to, another, strap, with,...   \n",
       "1           1  [very, cheap, and, flimsy, not, able, to, hold...   \n",
       "2           1  [the, professional, translucent, cutting, mat,...   \n",
       "3           1  [best, described, as, flimsy, got, what, i, pa...   \n",
       "4           1  [worked, fine, when, by, my, keyboard, keyboar...   \n",
       "...       ...                                                ...   \n",
       "4994        5  [the, description, didnt, say, whether, for, o...   \n",
       "4995        5  [this, is, a, pretty, deep, color, not, a, bri...   \n",
       "4996        5  [i, love, this, product, it, meets, all, of, m...   \n",
       "4997        5  [i, have, used, this, on, almost, every, proje...   \n",
       "4998        5  [the, white, was, pure, it, wasnt, sitting, on...   \n",
       "\n",
       "                                                  ngram  \n",
       "0     [(too, short, i), (short, i, had), (i, had, to...  \n",
       "1     [(very, cheap, and), (cheap, and, flimsy), (an...  \n",
       "2     [(the, professional, translucent), (profession...  \n",
       "3     [(best, described, as), (described, as, flimsy...  \n",
       "4     [(worked, fine, when), (fine, when, by), (when...  \n",
       "...                                                 ...  \n",
       "4994  [(the, description, didnt), (description, didn...  \n",
       "4995  [(this, is, a), (is, a, pretty), (a, pretty, d...  \n",
       "4996  [(i, love, this), (love, this, product), (this...  \n",
       "4997  [(i, have, used), (have, used, this), (used, t...  \n",
       "4998  [(the, white, was), (white, was, pure), (was, ...  \n",
       "\n",
       "[4983 rows x 3 columns]"
      ]
     },
     "execution_count": 25,
     "metadata": {},
     "output_type": "execute_result"
    }
   ],
   "source": [
    "n = 3\n",
    "ngram = ngrams(df_final.reviewText, n)\n",
    "\n",
    "df_ngram = df_final.copy()\n",
    "df_ngram['ngram'] = df_ngram.reviewText\n",
    "\n",
    "df_ngram.loc[df_ngram.reviewText.apply(len) >= n, 'ngram'] = [list(ngrams(x, n)) for x in df_ngram.reviewText if len(x) >= n]\n",
    "\n",
    "df_ngram"
   ]
  },
  {
   "cell_type": "markdown",
   "metadata": {},
   "source": [
    "### TF-IDF"
   ]
  },
  {
   "cell_type": "code",
   "execution_count": 26,
   "metadata": {},
   "outputs": [
    {
     "data": {
      "text/plain": [
       "[('too', 3276),\n",
       " ('short', 2784),\n",
       " ('i', 1465),\n",
       " ('had', 1330),\n",
       " ('to', 3266),\n",
       " ('another', 127),\n",
       " ('strap', 3033),\n",
       " ('with', 3567),\n",
       " ('a', 0),\n",
       " ('longer', 1755)]"
      ]
     },
     "execution_count": 26,
     "metadata": {},
     "output_type": "execute_result"
    }
   ],
   "source": [
    "def take(n, iterable):\n",
    "    return list(islice(iterable, n))\n",
    "\n",
    "vectorizer = TfidfVectorizer(\n",
    "    analyzer='word',\n",
    "    tokenizer=(lambda x:x),\n",
    "    preprocessor=(lambda x:x),\n",
    "    token_pattern=None\n",
    ")\n",
    "\n",
    "vectorizer.fit(df_final.reviewText)\n",
    "take(10, vectorizer.vocabulary_.items())"
   ]
  },
  {
   "cell_type": "markdown",
   "metadata": {},
   "source": [
    "### Word2Vec and Sentenec Vectors"
   ]
  },
  {
   "cell_type": "code",
   "execution_count": 27,
   "metadata": {},
   "outputs": [],
   "source": [
    "w2v_model = Word2Vec(df_final.reviewText, vector_size=100, window=5, min_count=2)\n",
    "\n",
    "def getSentenceAvgFromW2V(df):\n",
    "    words = set(w2v_model.wv.index_to_key )\n",
    "    vect = np.array([np.array([w2v_model.wv[i] for i in ls if i in words]) for ls in df.reviewText])\n",
    "\n",
    "    vect_avg = []\n",
    "    for v in vect:\n",
    "        if v.size:\n",
    "            vect_avg.append(v.mean(axis=0))\n",
    "        else:\n",
    "            vect_avg.append(np.zeros(100, dtype=float))\n",
    "\n",
    "    return vect_avg"
   ]
  },
  {
   "cell_type": "markdown",
   "metadata": {},
   "source": [
    "## Clustering"
   ]
  },
  {
   "cell_type": "markdown",
   "metadata": {},
   "source": [
    "### Preparing Sample\n",
    "A sample is needed because of memory Reasons"
   ]
  },
  {
   "cell_type": "code",
   "execution_count": 28,
   "metadata": {},
   "outputs": [
    {
     "data": {
      "text/plain": [
       "array([[0.03909446, 0.        , 0.        , ..., 0.        , 0.        ,\n",
       "        0.        ],\n",
       "       [0.        , 0.        , 0.        , ..., 0.        , 0.        ,\n",
       "        0.        ],\n",
       "       [0.08203129, 0.        , 0.        , ..., 0.        , 0.        ,\n",
       "        0.        ],\n",
       "       ...,\n",
       "       [0.        , 0.        , 0.        , ..., 0.        , 0.        ,\n",
       "        0.        ],\n",
       "       [0.        , 0.        , 0.        , ..., 0.        , 0.        ,\n",
       "        0.        ],\n",
       "       [0.10824203, 0.        , 0.        , ..., 0.        , 0.        ,\n",
       "        0.        ]])"
      ]
     },
     "execution_count": 28,
     "metadata": {},
     "output_type": "execute_result"
    }
   ],
   "source": [
    "if final_Execution:\n",
    "    df_sample = df_final\n",
    "else:\n",
    "    df_sample = df_final.sample(n=(int)(sampling_size/20))\n",
    "X = vectorizer.transform(df_sample.reviewText)\n",
    "X.toarray()"
   ]
  },
  {
   "cell_type": "markdown",
   "metadata": {},
   "source": [
    "## KMeans + PCA"
   ]
  },
  {
   "cell_type": "code",
   "execution_count": 29,
   "metadata": {},
   "outputs": [],
   "source": [
    "# do Ellbow Plot only for final Execution, as this takes a very long time\n",
    "\n",
    "if final_Execution:\n",
    "    distortions = []\n",
    "    K = range(1,20)\n",
    "    for k in K:\n",
    "        kmeanModel = KMeans(n_clusters=k).fit(X)\n",
    "        distortions.append(kmeanModel.inertia_)    \n",
    "\n",
    "    plt.plot(K, distortions, 'bx-')\n",
    "    plt.xlabel('k')\n",
    "    plt.ylabel('Distortion')\n",
    "    plt.title('The Elbow Method showing the optimal k')\n",
    "    plt.show()\n",
    "\n"
   ]
  },
  {
   "cell_type": "markdown",
   "metadata": {},
   "source": [
    "Upper Limit of 20, because the Optimum (~35) cannot be displayed"
   ]
  },
  {
   "cell_type": "code",
   "execution_count": 30,
   "metadata": {},
   "outputs": [
    {
     "name": "stdout",
     "output_type": "stream",
     "text": [
      "\n",
      "Cluster 0\n",
      "trying,up,line,apart,tip,fell,threads,change,great,works\n",
      "\n",
      "Cluster 1\n",
      "traditional,smoother,good,paper,and,quilt,set,size,quality,nice\n",
      "\n",
      "Cluster 2\n",
      "and,is,for,to,this,not,it,a,i,the\n",
      "\n",
      "Cluster 3\n",
      "well,works,switch,sound,rack,switches,holes,guitar,part,excellent\n",
      "\n",
      "Cluster 4\n",
      "marking,colors,just,package,light,beads,what,pick,selection,great\n"
     ]
    },
    {
     "data": {
      "image/png": "[encoded data removed]",
      "text/plain": [
       "<Figure size 864x504 with 1 Axes>"
      ]
     },
     "metadata": {
      "needs_background": "light"
     },
     "output_type": "display_data"
    }
   ],
   "source": [
    "def get_top_keywords(n_terms):\n",
    "    \"\"\"This function returns the keywords for each centroid of the KMeans\"\"\"\n",
    "    df = pd.DataFrame(X.todense()).groupby(clusters).mean() # groups the TF-IDF vector by cluster\n",
    "    terms = vectorizer.get_feature_names_out() # access tf-idf terms\n",
    "    for i,r in df.iterrows():\n",
    "        print('\\nCluster {}'.format(i))\n",
    "        print(','.join([terms[t] for t in np.argsort(r)[-n_terms:]])) # for each row of the dataframe, find the n terms that have the highest tf idf score\n",
    "            \n",
    "kmeans = KMeans(n_clusters=5, random_state=42)\n",
    "kmeans.fit(X)\n",
    "clusters = kmeans.labels_\n",
    "\n",
    "pca = PCA(n_components=2, random_state=42)\n",
    "pca_vecs = pca.fit_transform(X.toarray())\n",
    "\n",
    "df_sample['cluster'] = clusters\n",
    "df_sample['x0'] = pca_vecs[:, 0]\n",
    "df_sample['x1'] = pca_vecs[:, 1]\n",
    "\n",
    "get_top_keywords(10)\n",
    "\n",
    "plt.figure(figsize=(12, 7))\n",
    "plt.title(\"TF-IDF + KMeans clustering\")\n",
    "sns.scatterplot(data=df_sample, x='x0', y='x1', hue='cluster')\n",
    "plt.show()"
   ]
  },
  {
   "cell_type": "markdown",
   "metadata": {},
   "source": [
    "### TSNE"
   ]
  },
  {
   "cell_type": "code",
   "execution_count": 31,
   "metadata": {},
   "outputs": [
    {
     "name": "stderr",
     "output_type": "stream",
     "text": [
      "C:\\Users\\micha\\anaconda3\\envs\\AIAPP_NLP\\lib\\site-packages\\sklearn\\manifold\\_t_sne.py:780: FutureWarning: The default initialization in TSNE will change from 'random' to 'pca' in 1.2.\n",
      "  warnings.warn(\n",
      "C:\\Users\\micha\\anaconda3\\envs\\AIAPP_NLP\\lib\\site-packages\\sklearn\\manifold\\_t_sne.py:790: FutureWarning: The default learning rate in TSNE will change from 200.0 to 'auto' in 1.2.\n",
      "  warnings.warn(\n"
     ]
    },
    {
     "name": "stdout",
     "output_type": "stream",
     "text": [
      "[t-SNE] Computing 7 nearest neighbors...\n",
      "[t-SNE] Indexed 50 samples in 0.000s...\n",
      "[t-SNE] Computed neighbors for 50 samples in 0.001s...\n",
      "[t-SNE] Computed conditional probabilities for sample 50 / 50\n",
      "[t-SNE] Mean sigma: 0.112198\n",
      "[t-SNE] KL divergence after 250 iterations with early exaggeration: 73.663399\n",
      "[t-SNE] KL divergence after 1000 iterations: 1.108851\n"
     ]
    },
    {
     "data": {
      "image/png": "[encoded data removed]",
      "text/plain": [
       "<Figure size 864x504 with 1 Axes>"
      ]
     },
     "metadata": {
      "needs_background": "light"
     },
     "output_type": "display_data"
    }
   ],
   "source": [
    "model = TSNE(n_components=2, verbose=1, perplexity=2)\n",
    "z = model.fit_transform(X)\n",
    "\n",
    "#df_sample['cluster'] = clusters\n",
    "df_sample['x0'] = z[:,0]\n",
    "df_sample['x1'] = z[:,1]\n",
    "\n",
    "plt.figure(figsize=(12, 7))\n",
    "plt.title(\"TSNE clustering\")\n",
    "sns.scatterplot(data=df_sample, x='x0', y='x1', hue='overall')\n",
    "plt.show()"
   ]
  },
  {
   "cell_type": "markdown",
   "metadata": {},
   "source": [
    "## UMAP"
   ]
  },
  {
   "cell_type": "code",
   "execution_count": 32,
   "metadata": {},
   "outputs": [
    {
     "data": {
      "image/png": "[encoded data removed]",
      "text/plain": [
       "<Figure size 864x504 with 1 Axes>"
      ]
     },
     "metadata": {
      "needs_background": "light"
     },
     "output_type": "display_data"
    }
   ],
   "source": [
    "reducer = UMAP(n_neighbors=20, min_dist=0.8)\n",
    "v_embed = reducer.fit_transform(X)\n",
    "\n",
    "df_sample['x0'] = v_embed[:,0]\n",
    "df_sample['x1'] = v_embed[:,1]\n",
    "\n",
    "plt.figure(figsize=(12, 7))\n",
    "plt.title(\"UMAP clustering\")\n",
    "sns.scatterplot(x=\"x0\", y=\"x1\", data=df_sample, hue='overall')\n",
    "plt.show()"
   ]
  },
  {
   "cell_type": "markdown",
   "metadata": {},
   "source": [
    "# Preditction using Regression\n",
    "\n",
    "We will try two different approaches to predict the classes. Firstly we will try Regression, to find out if an approach weighting their similarity is suitable (A review rating 2 is more similar to a review rating 3 than a review rating 5).\n",
    "\n",
    "To do this we will use 4 approaches:\n",
    "- SVR\n",
    "- Random Forrest Regressor\n",
    "- LSTM \n",
    "- Transformer"
   ]
  },
  {
   "cell_type": "markdown",
   "metadata": {},
   "source": [
    "## SVR"
   ]
  },
  {
   "cell_type": "code",
   "execution_count": 33,
   "metadata": {},
   "outputs": [
    {
     "name": "stdout",
     "output_type": "stream",
     "text": [
      "MRSE: 2.4046416734340914\n"
     ]
    },
    {
     "name": "stderr",
     "output_type": "stream",
     "text": [
      "C:\\Users\\micha\\AppData\\Local\\Temp\\ipykernel_30532\\1217449317.py:5: VisibleDeprecationWarning: Creating an ndarray from ragged nested sequences (which is a list-or-tuple of lists-or-tuples-or ndarrays with different lengths or shapes) is deprecated. If you meant to do this, you must specify 'dtype=object' when creating the ndarray.\n",
      "  vect = np.array([np.array([w2v_model.wv[i] for i in ls if i in words]) for ls in df.reviewText])\n"
     ]
    }
   ],
   "source": [
    "x = getSentenceAvgFromW2V(df_sample)\n",
    "y = df_sample.overall.values\n",
    "\n",
    "x_train_total, x_test, y_train_total, y_test = train_test_split(x, y, test_size=0.2)\n",
    "x_train, x_val, y_train, y_val = train_test_split(x_train_total, y_train_total, test_size=0.2)\n",
    "\n",
    "svr_model = SVR()\n",
    "svr_model.fit(x_train, y_train)\n",
    "\n",
    "y_pred = svr_model.predict(x_val)\n",
    "print('MRSE:', mean_squared_error(y_val, y_pred))"
   ]
  },
  {
   "cell_type": "markdown",
   "metadata": {},
   "source": [
    "## Random Forrest"
   ]
  },
  {
   "cell_type": "code",
   "execution_count": 34,
   "metadata": {},
   "outputs": [
    {
     "name": "stdout",
     "output_type": "stream",
     "text": [
      "MRSE: 5.334611805555555\n"
     ]
    },
    {
     "name": "stderr",
     "output_type": "stream",
     "text": [
      "C:\\Users\\micha\\AppData\\Local\\Temp\\ipykernel_30532\\1217449317.py:5: VisibleDeprecationWarning: Creating an ndarray from ragged nested sequences (which is a list-or-tuple of lists-or-tuples-or ndarrays with different lengths or shapes) is deprecated. If you meant to do this, you must specify 'dtype=object' when creating the ndarray.\n",
      "  vect = np.array([np.array([w2v_model.wv[i] for i in ls if i in words]) for ls in df.reviewText])\n"
     ]
    }
   ],
   "source": [
    "x = getSentenceAvgFromW2V(df_sample)\n",
    "y = df_sample.overall.values\n",
    "\n",
    "x_train_total, x_test, y_train_total, y_test = train_test_split(x, y, test_size=0.2)\n",
    "x_train, x_val, y_train, y_val = train_test_split(x_train_total, y_train_total, test_size=0.2)\n",
    "\n",
    "rfr_model = RandomForestRegressor()\n",
    "rfr_model.fit(x_train, y_train)\n",
    "\n",
    "y_pred = rfr_model.predict(x_val)\n",
    "print('MRSE:', mean_squared_error(y_val, y_pred))"
   ]
  },
  {
   "cell_type": "markdown",
   "metadata": {},
   "source": [
    "## Pytorch"
   ]
  },
  {
   "cell_type": "markdown",
   "metadata": {},
   "source": [
    "### Pytorch Preprocessing"
   ]
  },
  {
   "cell_type": "code",
   "execution_count": 65,
   "metadata": {},
   "outputs": [
    {
     "name": "stderr",
     "output_type": "stream",
     "text": [
      "C:\\Users\\micha\\AppData\\Local\\Temp\\ipykernel_30532\\1532207141.py:14: VisibleDeprecationWarning: Creating an ndarray from ragged nested sequences (which is a list-or-tuple of lists-or-tuples-or ndarrays with different lengths or shapes) is deprecated. If you meant to do this, you must specify 'dtype=object' when creating the ndarray.\n",
      "  df_sample['encoded'] = df_sample['reviewText'].apply(lambda x: np.array(encode_sentence(x,vocab2index )))\n"
     ]
    }
   ],
   "source": [
    "vocab2index = {\"\":0, \"UNK\":1}\n",
    "words = [\"\", \"UNK\"]\n",
    "for word in counts:\n",
    "    vocab2index[word] = len(words)\n",
    "    words.append(word)\n",
    "\n",
    "def encode_sentence(tokenized, vocab2index, N=70):\n",
    "    encoded = np.zeros(N, dtype=int)\n",
    "    enc1 = np.array([vocab2index.get(word, vocab2index[\"UNK\"]) for word in tokenized])\n",
    "    length = min(N, len(enc1))\n",
    "    encoded[:length] = enc1[:length]\n",
    "    return encoded, length\n",
    "\n",
    "df_sample['encoded'] = df_sample['reviewText'].apply(lambda x: np.array(encode_sentence(x,vocab2index )))\n",
    "\n",
    "x = df_sample.encoded\n",
    "y = df_sample.overall\n",
    "\n",
    "x_train_total, x_test, y_train_total, y_test = train_test_split(x, y, test_size=0.2)\n",
    "x_train, x_val, y_train, y_val = train_test_split(x_train_total, y_train_total, test_size=0.2)\n",
    "\n",
    "x_train = x_train.reset_index(drop=True)\n",
    "x_val = x_val.reset_index(drop=True)\n",
    "x_test = x_test.reset_index(drop=True)\n",
    "\n",
    "y_train = y_train.reset_index(drop=True)\n",
    "y_val = y_val.reset_index(drop=True)\n",
    "y_test = y_test.reset_index(drop=True)\n"
   ]
  },
  {
   "cell_type": "markdown",
   "metadata": {},
   "source": [
    "### Pytorch Dataset"
   ]
  },
  {
   "cell_type": "code",
   "execution_count": 66,
   "metadata": {},
   "outputs": [],
   "source": [
    "class ReviewDataset(torch.utils.data.Dataset):\n",
    "    def __init__(self, X, Y):\n",
    "        self.x = X\n",
    "        self.y = Y\n",
    "        \n",
    "    def __len__(self):\n",
    "        return len(self.y)\n",
    "    \n",
    "    def __getitem__(self, idx):\n",
    "        #print(self.x)\n",
    "        return torch.from_numpy(self.x[idx][0].astype(np.int32)).to(device), self.y[idx], self.x[idx][1]\n",
    "        #return torch.from_numpy(self.x[idx][0].astype(np.int32)), self.y[idx], self.x[idx][1]\n",
    "\n",
    "train_ds = ReviewDataset(x_train, y_train)\n",
    "val_ds = ReviewDataset(x_val, y_val)\n",
    "test_ds = ReviewDataset(x_test, y_test)"
   ]
  },
  {
   "cell_type": "markdown",
   "metadata": {},
   "source": [
    "### Pytorch Training Loop"
   ]
  },
  {
   "cell_type": "code",
   "execution_count": 67,
   "metadata": {},
   "outputs": [],
   "source": [
    "def train_model_regr(model, epochs=10, lr=0.001):\n",
    "    parameters = filter(lambda p: p.requires_grad, model.parameters())\n",
    "    optimizer = torch.optim.Adam(parameters, lr=lr)\n",
    "    for i in range(epochs):\n",
    "        model.train()\n",
    "        sum_loss = 0.0\n",
    "        total = 0\n",
    "        for x, y, l in train_dl:\n",
    "            x = x.long().to(device)\n",
    "            y = y.float().to(device)\n",
    "            y_pred = model(x, l)\n",
    "            optimizer.zero_grad()\n",
    "            loss = F.mse_loss(y_pred, y.unsqueeze(-1))\n",
    "            loss.backward()\n",
    "            optimizer.step()\n",
    "            sum_loss += loss.item()*y.shape[0]\n",
    "            total += y.shape[0]\n",
    "        val_loss = validation_metrics_regr(model, val_dl)\n",
    "        if i % 5 == 1:\n",
    "            print(\"train mse %.3f val rmse %.3f\" % (sum_loss/total, val_loss))\n",
    "\n",
    "def validation_metrics_regr (model, valid_dl):\n",
    "    model.eval()\n",
    "    correct = 0\n",
    "    total = 0\n",
    "    sum_loss = 0.0\n",
    "    for x, y, l in valid_dl:\n",
    "        x = x.long()\n",
    "        y = y.float()\n",
    "        y_hat = model(x, l).cpu()\n",
    "        loss = np.sqrt(F.mse_loss(y_hat, y.unsqueeze(-1)).item())\n",
    "        total += y.shape[0]\n",
    "        sum_loss += loss.item()*y.shape[0]\n",
    "    return sum_loss/total\n",
    "\n",
    "batch_size = 5000\n",
    "vocab_size = len(words)\n",
    "train_dl = torch.utils.data.DataLoader(train_ds, batch_size=batch_size, shuffle=True)\n",
    "val_dl = torch.utils.data.DataLoader(val_ds, batch_size=batch_size)"
   ]
  },
  {
   "cell_type": "markdown",
   "metadata": {},
   "source": [
    "### Pytorch Model"
   ]
  },
  {
   "cell_type": "code",
   "execution_count": 68,
   "metadata": {},
   "outputs": [
    {
     "data": {
      "text/plain": [
       "my_LSTM(\n",
       "  (embeddings): Embedding(3653, 1000, padding_idx=0)\n",
       "  (lstm): LSTM(1000, 500, batch_first=True)\n",
       "  (linear): Linear(in_features=500, out_features=1, bias=True)\n",
       "  (dropout): Dropout(p=0.2, inplace=False)\n",
       ")"
      ]
     },
     "execution_count": 68,
     "metadata": {},
     "output_type": "execute_result"
    }
   ],
   "source": [
    "class my_LSTM(torch.nn.Module) :\n",
    "    def __init__(self, vocab_size, embedding_dim, hidden_dim) :\n",
    "        super().__init__()\n",
    "        self.embeddings = nn.Embedding(vocab_size, embedding_dim, padding_idx=0)\n",
    "        self.lstm = nn.LSTM(embedding_dim, hidden_dim, batch_first=True)\n",
    "        self.linear = nn.Linear(hidden_dim, 1)\n",
    "        self.dropout = nn.Dropout(0.2)\n",
    "        \n",
    "    def forward(self, x, l):\n",
    "        x = self.embeddings(x)\n",
    "        x = self.dropout(x)\n",
    "        lstm_out, (ht, ct) = self.lstm(x)\n",
    "        return self.linear(ht[-1])\n",
    "        \n",
    "lstm_model =  my_LSTM(vocab_size, 1000, 500)\n",
    "lstm_model.to(device)"
   ]
  },
  {
   "cell_type": "code",
   "execution_count": 69,
   "metadata": {},
   "outputs": [
    {
     "name": "stdout",
     "output_type": "stream",
     "text": [
      "train mse 8.159 val rmse 5.151\n",
      "train mse 5.651 val rmse 2.302\n",
      "train mse 3.429 val rmse 1.649\n",
      "train mse 2.342 val rmse 2.220\n",
      "train mse 1.765 val rmse 1.277\n",
      "train mse 1.901 val rmse 1.500\n",
      "train mse 1.498 val rmse 1.760\n",
      "train mse 1.284 val rmse 2.424\n"
     ]
    }
   ],
   "source": [
    "train_model_regr(lstm_model, epochs=40, lr=0.01)"
   ]
  },
  {
   "cell_type": "code",
   "execution_count": 71,
   "metadata": {},
   "outputs": [],
   "source": [
    "torch.save(lstm_model, './RNN_Reg_Model')"
   ]
  },
  {
   "cell_type": "markdown",
   "metadata": {},
   "source": [
    "## Huggingface / Transformer"
   ]
  },
  {
   "cell_type": "code",
   "execution_count": 41,
   "metadata": {},
   "outputs": [],
   "source": [
    "df_transformer = df_cleaned.reset_index(drop=True)\n",
    "\n",
    "df_transformer['label'] = df_transformer.overall\n",
    "df_transformer['text'] = df_transformer.reviewText\n",
    "\n",
    "df_transformer = df_transformer.drop(['overall', 'reviewText'], axis=1)\n",
    "\n",
    "train, test = train_test_split(df_transformer)\n",
    "\n",
    "ds_train = Dataset.from_pandas(train, preserve_index=False)\n",
    "ds_test = Dataset.from_pandas(test, preserve_index=False)\n",
    "\n",
    "tokenizer = AutoTokenizer.from_pretrained(\"distilbert-base-uncased\")\n",
    "\n",
    "def preprocess_function(examples):\n",
    "    return tokenizer(examples[\"text\"], truncation=True)\n",
    "\n",
    "def preprocess_function_amazon(examples):\n",
    "    return tokenizer(examples[\"review_body\"], truncation=True)\n",
    "\n",
    "ds_train.features['label'] = features.ClassLabel(1)\n",
    "ds_test.features['label'] = features.ClassLabel(1)"
   ]
  },
  {
   "cell_type": "code",
   "execution_count": 42,
   "metadata": {},
   "outputs": [
    {
     "name": "stderr",
     "output_type": "stream",
     "text": [
      "100%|██████████| 4/4 [00:00<00:00, 22.73ba/s]\n",
      "100%|██████████| 2/2 [00:00<00:00, 33.33ba/s]\n"
     ]
    }
   ],
   "source": [
    "tokenized_train = ds_train.map(preprocess_function, batched=True)\n",
    "tokenized_test = ds_test.map(preprocess_function, batched=True)"
   ]
  },
  {
   "cell_type": "code",
   "execution_count": 43,
   "metadata": {},
   "outputs": [],
   "source": [
    "data_collator = DataCollatorWithPadding(tokenizer=tokenizer, return_tensors=\"tf\")"
   ]
  },
  {
   "cell_type": "code",
   "execution_count": 44,
   "metadata": {},
   "outputs": [],
   "source": [
    "tf_train_set = tokenized_train.to_tf_dataset(\n",
    "    columns=[\"attention_mask\", \"input_ids\", \"label\"],\n",
    "    shuffle=True,\n",
    "    batch_size=4,\n",
    "    collate_fn=data_collator,\n",
    ")\n",
    "\n",
    "tf_validation_set = tokenized_test.to_tf_dataset(\n",
    "    columns=[\"attention_mask\", \"input_ids\", \"label\"],\n",
    "    shuffle=False,\n",
    "    batch_size=4,\n",
    "    collate_fn=data_collator,\n",
    ")"
   ]
  },
  {
   "cell_type": "code",
   "execution_count": 45,
   "metadata": {},
   "outputs": [],
   "source": [
    "batch_size = 4\n",
    "num_epochs = 1\n",
    "batches_per_epoch = len(tokenized_train) // batch_size\n",
    "total_train_steps = int(batches_per_epoch * num_epochs)\n",
    "optimizer, schedule = create_optimizer(init_lr=2e-5, num_warmup_steps=0, num_train_steps=total_train_steps)"
   ]
  },
  {
   "cell_type": "code",
   "execution_count": 73,
   "metadata": {},
   "outputs": [
    {
     "name": "stderr",
     "output_type": "stream",
     "text": [
      "Some layers from the model checkpoint at distilbert-base-uncased were not used when initializing TFDistilBertForSequenceClassification: ['vocab_transform', 'vocab_layer_norm', 'activation_13', 'vocab_projector']\n",
      "- This IS expected if you are initializing TFDistilBertForSequenceClassification from the checkpoint of a model trained on another task or with another architecture (e.g. initializing a BertForSequenceClassification model from a BertForPreTraining model).\n",
      "- This IS NOT expected if you are initializing TFDistilBertForSequenceClassification from the checkpoint of a model that you expect to be exactly identical (initializing a BertForSequenceClassification model from a BertForSequenceClassification model).\n",
      "Some layers of TFDistilBertForSequenceClassification were not initialized from the model checkpoint at distilbert-base-uncased and are newly initialized: ['pre_classifier', 'dropout_59', 'classifier']\n",
      "You should probably TRAIN this model on a down-stream task to be able to use it for predictions and inference.\n",
      "No loss specified in compile() - the model's internal loss computation will be used as the loss. Don't panic - this is a common way to train TensorFlow models in Transformers! Please ensure your labels are passed as keys in the input dict so that they are accessible to the model during the forward pass. To disable this behaviour, please pass a loss argument, or explicitly pass loss=None if you do not want your model to compute a loss.\n"
     ]
    },
    {
     "name": "stdout",
     "output_type": "stream",
     "text": [
      "Epoch 1/2\n",
      "WARNING:tensorflow:Gradients do not exist for variables ['tf_distil_bert_for_sequence_classification_2/distilbert/transformer/layer_._2/attention/v_lin/kernel:0', 'tf_distil_bert_for_sequence_classification_2/distilbert/transformer/layer_._2/attention/v_lin/bias:0', 'tf_distil_bert_for_sequence_classification_2/distilbert/transformer/layer_._2/attention/out_lin/kernel:0', 'tf_distil_bert_for_sequence_classification_2/distilbert/transformer/layer_._2/attention/out_lin/bias:0', 'tf_distil_bert_for_sequence_classification_2/distilbert/transformer/layer_._2/sa_layer_norm/gamma:0', 'tf_distil_bert_for_sequence_classification_2/distilbert/transformer/layer_._2/sa_layer_norm/beta:0', 'tf_distil_bert_for_sequence_classification_2/distilbert/transformer/layer_._2/ffn/lin1/kernel:0', 'tf_distil_bert_for_sequence_classification_2/distilbert/transformer/layer_._2/ffn/lin1/bias:0', 'tf_distil_bert_for_sequence_classification_2/distilbert/transformer/layer_._2/ffn/lin2/kernel:0', 'tf_distil_bert_for_sequence_classification_2/distilbert/transformer/layer_._2/ffn/lin2/bias:0', 'tf_distil_bert_for_sequence_classification_2/distilbert/transformer/layer_._2/output_layer_norm/gamma:0', 'tf_distil_bert_for_sequence_classification_2/distilbert/transformer/layer_._2/output_layer_norm/beta:0', 'tf_distil_bert_for_sequence_classification_2/distilbert/transformer/layer_._3/attention/q_lin/kernel:0', 'tf_distil_bert_for_sequence_classification_2/distilbert/transformer/layer_._3/attention/q_lin/bias:0', 'tf_distil_bert_for_sequence_classification_2/distilbert/transformer/layer_._3/attention/k_lin/kernel:0', 'tf_distil_bert_for_sequence_classification_2/distilbert/transformer/layer_._3/attention/k_lin/bias:0', 'tf_distil_bert_for_sequence_classification_2/distilbert/transformer/layer_._3/attention/v_lin/kernel:0', 'tf_distil_bert_for_sequence_classification_2/distilbert/transformer/layer_._3/attention/v_lin/bias:0', 'tf_distil_bert_for_sequence_classification_2/distilbert/transformer/layer_._3/attention/out_lin/kernel:0', 'tf_distil_bert_for_sequence_classification_2/distilbert/transformer/layer_._3/attention/out_lin/bias:0', 'tf_distil_bert_for_sequence_classification_2/distilbert/transformer/layer_._3/sa_layer_norm/gamma:0', 'tf_distil_bert_for_sequence_classification_2/distilbert/transformer/layer_._3/sa_layer_norm/beta:0', 'tf_distil_bert_for_sequence_classification_2/distilbert/transformer/layer_._3/ffn/lin1/kernel:0', 'tf_distil_bert_for_sequence_classification_2/distilbert/transformer/layer_._3/ffn/lin1/bias:0', 'tf_distil_bert_for_sequence_classification_2/distilbert/transformer/layer_._3/ffn/lin2/kernel:0', 'tf_distil_bert_for_sequence_classification_2/distilbert/transformer/layer_._3/ffn/lin2/bias:0', 'tf_distil_bert_for_sequence_classification_2/distilbert/transformer/layer_._3/output_layer_norm/gamma:0', 'tf_distil_bert_for_sequence_classification_2/distilbert/transformer/layer_._3/output_layer_norm/beta:0', 'tf_distil_bert_for_sequence_classification_2/distilbert/transformer/layer_._4/attention/q_lin/kernel:0', 'tf_distil_bert_for_sequence_classification_2/distilbert/transformer/layer_._4/attention/q_lin/bias:0', 'tf_distil_bert_for_sequence_classification_2/distilbert/transformer/layer_._4/attention/k_lin/kernel:0', 'tf_distil_bert_for_sequence_classification_2/distilbert/transformer/layer_._4/attention/k_lin/bias:0', 'tf_distil_bert_for_sequence_classification_2/distilbert/transformer/layer_._4/attention/v_lin/kernel:0', 'tf_distil_bert_for_sequence_classification_2/distilbert/transformer/layer_._4/attention/v_lin/bias:0', 'tf_distil_bert_for_sequence_classification_2/distilbert/transformer/layer_._4/attention/out_lin/kernel:0', 'tf_distil_bert_for_sequence_classification_2/distilbert/transformer/layer_._4/attention/out_lin/bias:0', 'tf_distil_bert_for_sequence_classification_2/distilbert/transformer/layer_._4/sa_layer_norm/gamma:0', 'tf_distil_bert_for_sequence_classification_2/distilbert/transformer/layer_._4/sa_layer_norm/beta:0', 'tf_distil_bert_for_sequence_classification_2/distilbert/transformer/layer_._4/ffn/lin1/kernel:0', 'tf_distil_bert_for_sequence_classification_2/distilbert/transformer/layer_._4/ffn/lin1/bias:0', 'tf_distil_bert_for_sequence_classification_2/distilbert/transformer/layer_._4/ffn/lin2/kernel:0', 'tf_distil_bert_for_sequence_classification_2/distilbert/transformer/layer_._4/ffn/lin2/bias:0', 'tf_distil_bert_for_sequence_classification_2/distilbert/transformer/layer_._4/output_layer_norm/gamma:0', 'tf_distil_bert_for_sequence_classification_2/distilbert/transformer/layer_._4/output_layer_norm/beta:0', 'tf_distil_bert_for_sequence_classification_2/distilbert/transformer/layer_._5/attention/q_lin/kernel:0', 'tf_distil_bert_for_sequence_classification_2/distilbert/transformer/layer_._5/attention/q_lin/bias:0', 'tf_distil_bert_for_sequence_classification_2/distilbert/transformer/layer_._5/attention/k_lin/kernel:0', 'tf_distil_bert_for_sequence_classification_2/distilbert/transformer/layer_._5/attention/k_lin/bias:0', 'tf_distil_bert_for_sequence_classification_2/distilbert/transformer/layer_._5/attention/v_lin/kernel:0', 'tf_distil_bert_for_sequence_classification_2/distilbert/transformer/layer_._5/attention/v_lin/bias:0', 'tf_distil_bert_for_sequence_classification_2/distilbert/transformer/layer_._5/attention/out_lin/kernel:0', 'tf_distil_bert_for_sequence_classification_2/distilbert/transformer/layer_._5/attention/out_lin/bias:0', 'tf_distil_bert_for_sequence_classification_2/distilbert/transformer/layer_._5/sa_layer_norm/gamma:0', 'tf_distil_bert_for_sequence_classification_2/distilbert/transformer/layer_._5/sa_layer_norm/beta:0', 'tf_distil_bert_for_sequence_classification_2/distilbert/transformer/layer_._5/ffn/lin1/kernel:0', 'tf_distil_bert_for_sequence_classification_2/distilbert/transformer/layer_._5/ffn/lin1/bias:0', 'tf_distil_bert_for_sequence_classification_2/distilbert/transformer/layer_._5/ffn/lin2/kernel:0', 'tf_distil_bert_for_sequence_classification_2/distilbert/transformer/layer_._5/ffn/lin2/bias:0', 'tf_distil_bert_for_sequence_classification_2/distilbert/transformer/layer_._5/output_layer_norm/gamma:0', 'tf_distil_bert_for_sequence_classification_2/distilbert/transformer/layer_._5/output_layer_norm/beta:0', 'tf_distil_bert_for_sequence_classification_2/pre_classifier/kernel:0', 'tf_distil_bert_for_sequence_classification_2/pre_classifier/bias:0', 'tf_distil_bert_for_sequence_classification_2/classifier/kernel:0', 'tf_distil_bert_for_sequence_classification_2/classifier/bias:0'] when minimizing the loss. If you're using `model.compile()`, did you forget to provide a `loss`argument?\n"
     ]
    },
    {
     "name": "stderr",
     "output_type": "stream",
     "text": [
      "WARNING:tensorflow:Gradients do not exist for variables ['tf_distil_bert_for_sequence_classification_2/distilbert/transformer/layer_._2/attention/v_lin/kernel:0', 'tf_distil_bert_for_sequence_classification_2/distilbert/transformer/layer_._2/attention/v_lin/bias:0', 'tf_distil_bert_for_sequence_classification_2/distilbert/transformer/layer_._2/attention/out_lin/kernel:0', 'tf_distil_bert_for_sequence_classification_2/distilbert/transformer/layer_._2/attention/out_lin/bias:0', 'tf_distil_bert_for_sequence_classification_2/distilbert/transformer/layer_._2/sa_layer_norm/gamma:0', 'tf_distil_bert_for_sequence_classification_2/distilbert/transformer/layer_._2/sa_layer_norm/beta:0', 'tf_distil_bert_for_sequence_classification_2/distilbert/transformer/layer_._2/ffn/lin1/kernel:0', 'tf_distil_bert_for_sequence_classification_2/distilbert/transformer/layer_._2/ffn/lin1/bias:0', 'tf_distil_bert_for_sequence_classification_2/distilbert/transformer/layer_._2/ffn/lin2/kernel:0', 'tf_distil_bert_for_sequence_classification_2/distilbert/transformer/layer_._2/ffn/lin2/bias:0', 'tf_distil_bert_for_sequence_classification_2/distilbert/transformer/layer_._2/output_layer_norm/gamma:0', 'tf_distil_bert_for_sequence_classification_2/distilbert/transformer/layer_._2/output_layer_norm/beta:0', 'tf_distil_bert_for_sequence_classification_2/distilbert/transformer/layer_._3/attention/q_lin/kernel:0', 'tf_distil_bert_for_sequence_classification_2/distilbert/transformer/layer_._3/attention/q_lin/bias:0', 'tf_distil_bert_for_sequence_classification_2/distilbert/transformer/layer_._3/attention/k_lin/kernel:0', 'tf_distil_bert_for_sequence_classification_2/distilbert/transformer/layer_._3/attention/k_lin/bias:0', 'tf_distil_bert_for_sequence_classification_2/distilbert/transformer/layer_._3/attention/v_lin/kernel:0', 'tf_distil_bert_for_sequence_classification_2/distilbert/transformer/layer_._3/attention/v_lin/bias:0', 'tf_distil_bert_for_sequence_classification_2/distilbert/transformer/layer_._3/attention/out_lin/kernel:0', 'tf_distil_bert_for_sequence_classification_2/distilbert/transformer/layer_._3/attention/out_lin/bias:0', 'tf_distil_bert_for_sequence_classification_2/distilbert/transformer/layer_._3/sa_layer_norm/gamma:0', 'tf_distil_bert_for_sequence_classification_2/distilbert/transformer/layer_._3/sa_layer_norm/beta:0', 'tf_distil_bert_for_sequence_classification_2/distilbert/transformer/layer_._3/ffn/lin1/kernel:0', 'tf_distil_bert_for_sequence_classification_2/distilbert/transformer/layer_._3/ffn/lin1/bias:0', 'tf_distil_bert_for_sequence_classification_2/distilbert/transformer/layer_._3/ffn/lin2/kernel:0', 'tf_distil_bert_for_sequence_classification_2/distilbert/transformer/layer_._3/ffn/lin2/bias:0', 'tf_distil_bert_for_sequence_classification_2/distilbert/transformer/layer_._3/output_layer_norm/gamma:0', 'tf_distil_bert_for_sequence_classification_2/distilbert/transformer/layer_._3/output_layer_norm/beta:0', 'tf_distil_bert_for_sequence_classification_2/distilbert/transformer/layer_._4/attention/q_lin/kernel:0', 'tf_distil_bert_for_sequence_classification_2/distilbert/transformer/layer_._4/attention/q_lin/bias:0', 'tf_distil_bert_for_sequence_classification_2/distilbert/transformer/layer_._4/attention/k_lin/kernel:0', 'tf_distil_bert_for_sequence_classification_2/distilbert/transformer/layer_._4/attention/k_lin/bias:0', 'tf_distil_bert_for_sequence_classification_2/distilbert/transformer/layer_._4/attention/v_lin/kernel:0', 'tf_distil_bert_for_sequence_classification_2/distilbert/transformer/layer_._4/attention/v_lin/bias:0', 'tf_distil_bert_for_sequence_classification_2/distilbert/transformer/layer_._4/attention/out_lin/kernel:0', 'tf_distil_bert_for_sequence_classification_2/distilbert/transformer/layer_._4/attention/out_lin/bias:0', 'tf_distil_bert_for_sequence_classification_2/distilbert/transformer/layer_._4/sa_layer_norm/gamma:0', 'tf_distil_bert_for_sequence_classification_2/distilbert/transformer/layer_._4/sa_layer_norm/beta:0', 'tf_distil_bert_for_sequence_classification_2/distilbert/transformer/layer_._4/ffn/lin1/kernel:0', 'tf_distil_bert_for_sequence_classification_2/distilbert/transformer/layer_._4/ffn/lin1/bias:0', 'tf_distil_bert_for_sequence_classification_2/distilbert/transformer/layer_._4/ffn/lin2/kernel:0', 'tf_distil_bert_for_sequence_classification_2/distilbert/transformer/layer_._4/ffn/lin2/bias:0', 'tf_distil_bert_for_sequence_classification_2/distilbert/transformer/layer_._4/output_layer_norm/gamma:0', 'tf_distil_bert_for_sequence_classification_2/distilbert/transformer/layer_._4/output_layer_norm/beta:0', 'tf_distil_bert_for_sequence_classification_2/distilbert/transformer/layer_._5/attention/q_lin/kernel:0', 'tf_distil_bert_for_sequence_classification_2/distilbert/transformer/layer_._5/attention/q_lin/bias:0', 'tf_distil_bert_for_sequence_classification_2/distilbert/transformer/layer_._5/attention/k_lin/kernel:0', 'tf_distil_bert_for_sequence_classification_2/distilbert/transformer/layer_._5/attention/k_lin/bias:0', 'tf_distil_bert_for_sequence_classification_2/distilbert/transformer/layer_._5/attention/v_lin/kernel:0', 'tf_distil_bert_for_sequence_classification_2/distilbert/transformer/layer_._5/attention/v_lin/bias:0', 'tf_distil_bert_for_sequence_classification_2/distilbert/transformer/layer_._5/attention/out_lin/kernel:0', 'tf_distil_bert_for_sequence_classification_2/distilbert/transformer/layer_._5/attention/out_lin/bias:0', 'tf_distil_bert_for_sequence_classification_2/distilbert/transformer/layer_._5/sa_layer_norm/gamma:0', 'tf_distil_bert_for_sequence_classification_2/distilbert/transformer/layer_._5/sa_layer_norm/beta:0', 'tf_distil_bert_for_sequence_classification_2/distilbert/transformer/layer_._5/ffn/lin1/kernel:0', 'tf_distil_bert_for_sequence_classification_2/distilbert/transformer/layer_._5/ffn/lin1/bias:0', 'tf_distil_bert_for_sequence_classification_2/distilbert/transformer/layer_._5/ffn/lin2/kernel:0', 'tf_distil_bert_for_sequence_classification_2/distilbert/transformer/layer_._5/ffn/lin2/bias:0', 'tf_distil_bert_for_sequence_classification_2/distilbert/transformer/layer_._5/output_layer_norm/gamma:0', 'tf_distil_bert_for_sequence_classification_2/distilbert/transformer/layer_._5/output_layer_norm/beta:0', 'tf_distil_bert_for_sequence_classification_2/pre_classifier/kernel:0', 'tf_distil_bert_for_sequence_classification_2/pre_classifier/bias:0', 'tf_distil_bert_for_sequence_classification_2/classifier/kernel:0', 'tf_distil_bert_for_sequence_classification_2/classifier/bias:0'] when minimizing the loss. If you're using `model.compile()`, did you forget to provide a `loss`argument?\n"
     ]
    },
    {
     "name": "stdout",
     "output_type": "stream",
     "text": [
      "WARNING:tensorflow:Gradients do not exist for variables ['tf_distil_bert_for_sequence_classification_2/distilbert/transformer/layer_._2/attention/v_lin/kernel:0', 'tf_distil_bert_for_sequence_classification_2/distilbert/transformer/layer_._2/attention/v_lin/bias:0', 'tf_distil_bert_for_sequence_classification_2/distilbert/transformer/layer_._2/attention/out_lin/kernel:0', 'tf_distil_bert_for_sequence_classification_2/distilbert/transformer/layer_._2/attention/out_lin/bias:0', 'tf_distil_bert_for_sequence_classification_2/distilbert/transformer/layer_._2/sa_layer_norm/gamma:0', 'tf_distil_bert_for_sequence_classification_2/distilbert/transformer/layer_._2/sa_layer_norm/beta:0', 'tf_distil_bert_for_sequence_classification_2/distilbert/transformer/layer_._2/ffn/lin1/kernel:0', 'tf_distil_bert_for_sequence_classification_2/distilbert/transformer/layer_._2/ffn/lin1/bias:0', 'tf_distil_bert_for_sequence_classification_2/distilbert/transformer/layer_._2/ffn/lin2/kernel:0', 'tf_distil_bert_for_sequence_classification_2/distilbert/transformer/layer_._2/ffn/lin2/bias:0', 'tf_distil_bert_for_sequence_classification_2/distilbert/transformer/layer_._2/output_layer_norm/gamma:0', 'tf_distil_bert_for_sequence_classification_2/distilbert/transformer/layer_._2/output_layer_norm/beta:0', 'tf_distil_bert_for_sequence_classification_2/distilbert/transformer/layer_._3/attention/q_lin/kernel:0', 'tf_distil_bert_for_sequence_classification_2/distilbert/transformer/layer_._3/attention/q_lin/bias:0', 'tf_distil_bert_for_sequence_classification_2/distilbert/transformer/layer_._3/attention/k_lin/kernel:0', 'tf_distil_bert_for_sequence_classification_2/distilbert/transformer/layer_._3/attention/k_lin/bias:0', 'tf_distil_bert_for_sequence_classification_2/distilbert/transformer/layer_._3/attention/v_lin/kernel:0', 'tf_distil_bert_for_sequence_classification_2/distilbert/transformer/layer_._3/attention/v_lin/bias:0', 'tf_distil_bert_for_sequence_classification_2/distilbert/transformer/layer_._3/attention/out_lin/kernel:0', 'tf_distil_bert_for_sequence_classification_2/distilbert/transformer/layer_._3/attention/out_lin/bias:0', 'tf_distil_bert_for_sequence_classification_2/distilbert/transformer/layer_._3/sa_layer_norm/gamma:0', 'tf_distil_bert_for_sequence_classification_2/distilbert/transformer/layer_._3/sa_layer_norm/beta:0', 'tf_distil_bert_for_sequence_classification_2/distilbert/transformer/layer_._3/ffn/lin1/kernel:0', 'tf_distil_bert_for_sequence_classification_2/distilbert/transformer/layer_._3/ffn/lin1/bias:0', 'tf_distil_bert_for_sequence_classification_2/distilbert/transformer/layer_._3/ffn/lin2/kernel:0', 'tf_distil_bert_for_sequence_classification_2/distilbert/transformer/layer_._3/ffn/lin2/bias:0', 'tf_distil_bert_for_sequence_classification_2/distilbert/transformer/layer_._3/output_layer_norm/gamma:0', 'tf_distil_bert_for_sequence_classification_2/distilbert/transformer/layer_._3/output_layer_norm/beta:0', 'tf_distil_bert_for_sequence_classification_2/distilbert/transformer/layer_._4/attention/q_lin/kernel:0', 'tf_distil_bert_for_sequence_classification_2/distilbert/transformer/layer_._4/attention/q_lin/bias:0', 'tf_distil_bert_for_sequence_classification_2/distilbert/transformer/layer_._4/attention/k_lin/kernel:0', 'tf_distil_bert_for_sequence_classification_2/distilbert/transformer/layer_._4/attention/k_lin/bias:0', 'tf_distil_bert_for_sequence_classification_2/distilbert/transformer/layer_._4/attention/v_lin/kernel:0', 'tf_distil_bert_for_sequence_classification_2/distilbert/transformer/layer_._4/attention/v_lin/bias:0', 'tf_distil_bert_for_sequence_classification_2/distilbert/transformer/layer_._4/attention/out_lin/kernel:0', 'tf_distil_bert_for_sequence_classification_2/distilbert/transformer/layer_._4/attention/out_lin/bias:0', 'tf_distil_bert_for_sequence_classification_2/distilbert/transformer/layer_._4/sa_layer_norm/gamma:0', 'tf_distil_bert_for_sequence_classification_2/distilbert/transformer/layer_._4/sa_layer_norm/beta:0', 'tf_distil_bert_for_sequence_classification_2/distilbert/transformer/layer_._4/ffn/lin1/kernel:0', 'tf_distil_bert_for_sequence_classification_2/distilbert/transformer/layer_._4/ffn/lin1/bias:0', 'tf_distil_bert_for_sequence_classification_2/distilbert/transformer/layer_._4/ffn/lin2/kernel:0', 'tf_distil_bert_for_sequence_classification_2/distilbert/transformer/layer_._4/ffn/lin2/bias:0', 'tf_distil_bert_for_sequence_classification_2/distilbert/transformer/layer_._4/output_layer_norm/gamma:0', 'tf_distil_bert_for_sequence_classification_2/distilbert/transformer/layer_._4/output_layer_norm/beta:0', 'tf_distil_bert_for_sequence_classification_2/distilbert/transformer/layer_._5/attention/q_lin/kernel:0', 'tf_distil_bert_for_sequence_classification_2/distilbert/transformer/layer_._5/attention/q_lin/bias:0', 'tf_distil_bert_for_sequence_classification_2/distilbert/transformer/layer_._5/attention/k_lin/kernel:0', 'tf_distil_bert_for_sequence_classification_2/distilbert/transformer/layer_._5/attention/k_lin/bias:0', 'tf_distil_bert_for_sequence_classification_2/distilbert/transformer/layer_._5/attention/v_lin/kernel:0', 'tf_distil_bert_for_sequence_classification_2/distilbert/transformer/layer_._5/attention/v_lin/bias:0', 'tf_distil_bert_for_sequence_classification_2/distilbert/transformer/layer_._5/attention/out_lin/kernel:0', 'tf_distil_bert_for_sequence_classification_2/distilbert/transformer/layer_._5/attention/out_lin/bias:0', 'tf_distil_bert_for_sequence_classification_2/distilbert/transformer/layer_._5/sa_layer_norm/gamma:0', 'tf_distil_bert_for_sequence_classification_2/distilbert/transformer/layer_._5/sa_layer_norm/beta:0', 'tf_distil_bert_for_sequence_classification_2/distilbert/transformer/layer_._5/ffn/lin1/kernel:0', 'tf_distil_bert_for_sequence_classification_2/distilbert/transformer/layer_._5/ffn/lin1/bias:0', 'tf_distil_bert_for_sequence_classification_2/distilbert/transformer/layer_._5/ffn/lin2/kernel:0', 'tf_distil_bert_for_sequence_classification_2/distilbert/transformer/layer_._5/ffn/lin2/bias:0', 'tf_distil_bert_for_sequence_classification_2/distilbert/transformer/layer_._5/output_layer_norm/gamma:0', 'tf_distil_bert_for_sequence_classification_2/distilbert/transformer/layer_._5/output_layer_norm/beta:0', 'tf_distil_bert_for_sequence_classification_2/pre_classifier/kernel:0', 'tf_distil_bert_for_sequence_classification_2/pre_classifier/bias:0', 'tf_distil_bert_for_sequence_classification_2/classifier/kernel:0', 'tf_distil_bert_for_sequence_classification_2/classifier/bias:0'] when minimizing the loss. If you're using `model.compile()`, did you forget to provide a `loss`argument?\n"
     ]
    },
    {
     "name": "stderr",
     "output_type": "stream",
     "text": [
      "WARNING:tensorflow:Gradients do not exist for variables ['tf_distil_bert_for_sequence_classification_2/distilbert/transformer/layer_._2/attention/v_lin/kernel:0', 'tf_distil_bert_for_sequence_classification_2/distilbert/transformer/layer_._2/attention/v_lin/bias:0', 'tf_distil_bert_for_sequence_classification_2/distilbert/transformer/layer_._2/attention/out_lin/kernel:0', 'tf_distil_bert_for_sequence_classification_2/distilbert/transformer/layer_._2/attention/out_lin/bias:0', 'tf_distil_bert_for_sequence_classification_2/distilbert/transformer/layer_._2/sa_layer_norm/gamma:0', 'tf_distil_bert_for_sequence_classification_2/distilbert/transformer/layer_._2/sa_layer_norm/beta:0', 'tf_distil_bert_for_sequence_classification_2/distilbert/transformer/layer_._2/ffn/lin1/kernel:0', 'tf_distil_bert_for_sequence_classification_2/distilbert/transformer/layer_._2/ffn/lin1/bias:0', 'tf_distil_bert_for_sequence_classification_2/distilbert/transformer/layer_._2/ffn/lin2/kernel:0', 'tf_distil_bert_for_sequence_classification_2/distilbert/transformer/layer_._2/ffn/lin2/bias:0', 'tf_distil_bert_for_sequence_classification_2/distilbert/transformer/layer_._2/output_layer_norm/gamma:0', 'tf_distil_bert_for_sequence_classification_2/distilbert/transformer/layer_._2/output_layer_norm/beta:0', 'tf_distil_bert_for_sequence_classification_2/distilbert/transformer/layer_._3/attention/q_lin/kernel:0', 'tf_distil_bert_for_sequence_classification_2/distilbert/transformer/layer_._3/attention/q_lin/bias:0', 'tf_distil_bert_for_sequence_classification_2/distilbert/transformer/layer_._3/attention/k_lin/kernel:0', 'tf_distil_bert_for_sequence_classification_2/distilbert/transformer/layer_._3/attention/k_lin/bias:0', 'tf_distil_bert_for_sequence_classification_2/distilbert/transformer/layer_._3/attention/v_lin/kernel:0', 'tf_distil_bert_for_sequence_classification_2/distilbert/transformer/layer_._3/attention/v_lin/bias:0', 'tf_distil_bert_for_sequence_classification_2/distilbert/transformer/layer_._3/attention/out_lin/kernel:0', 'tf_distil_bert_for_sequence_classification_2/distilbert/transformer/layer_._3/attention/out_lin/bias:0', 'tf_distil_bert_for_sequence_classification_2/distilbert/transformer/layer_._3/sa_layer_norm/gamma:0', 'tf_distil_bert_for_sequence_classification_2/distilbert/transformer/layer_._3/sa_layer_norm/beta:0', 'tf_distil_bert_for_sequence_classification_2/distilbert/transformer/layer_._3/ffn/lin1/kernel:0', 'tf_distil_bert_for_sequence_classification_2/distilbert/transformer/layer_._3/ffn/lin1/bias:0', 'tf_distil_bert_for_sequence_classification_2/distilbert/transformer/layer_._3/ffn/lin2/kernel:0', 'tf_distil_bert_for_sequence_classification_2/distilbert/transformer/layer_._3/ffn/lin2/bias:0', 'tf_distil_bert_for_sequence_classification_2/distilbert/transformer/layer_._3/output_layer_norm/gamma:0', 'tf_distil_bert_for_sequence_classification_2/distilbert/transformer/layer_._3/output_layer_norm/beta:0', 'tf_distil_bert_for_sequence_classification_2/distilbert/transformer/layer_._4/attention/q_lin/kernel:0', 'tf_distil_bert_for_sequence_classification_2/distilbert/transformer/layer_._4/attention/q_lin/bias:0', 'tf_distil_bert_for_sequence_classification_2/distilbert/transformer/layer_._4/attention/k_lin/kernel:0', 'tf_distil_bert_for_sequence_classification_2/distilbert/transformer/layer_._4/attention/k_lin/bias:0', 'tf_distil_bert_for_sequence_classification_2/distilbert/transformer/layer_._4/attention/v_lin/kernel:0', 'tf_distil_bert_for_sequence_classification_2/distilbert/transformer/layer_._4/attention/v_lin/bias:0', 'tf_distil_bert_for_sequence_classification_2/distilbert/transformer/layer_._4/attention/out_lin/kernel:0', 'tf_distil_bert_for_sequence_classification_2/distilbert/transformer/layer_._4/attention/out_lin/bias:0', 'tf_distil_bert_for_sequence_classification_2/distilbert/transformer/layer_._4/sa_layer_norm/gamma:0', 'tf_distil_bert_for_sequence_classification_2/distilbert/transformer/layer_._4/sa_layer_norm/beta:0', 'tf_distil_bert_for_sequence_classification_2/distilbert/transformer/layer_._4/ffn/lin1/kernel:0', 'tf_distil_bert_for_sequence_classification_2/distilbert/transformer/layer_._4/ffn/lin1/bias:0', 'tf_distil_bert_for_sequence_classification_2/distilbert/transformer/layer_._4/ffn/lin2/kernel:0', 'tf_distil_bert_for_sequence_classification_2/distilbert/transformer/layer_._4/ffn/lin2/bias:0', 'tf_distil_bert_for_sequence_classification_2/distilbert/transformer/layer_._4/output_layer_norm/gamma:0', 'tf_distil_bert_for_sequence_classification_2/distilbert/transformer/layer_._4/output_layer_norm/beta:0', 'tf_distil_bert_for_sequence_classification_2/distilbert/transformer/layer_._5/attention/q_lin/kernel:0', 'tf_distil_bert_for_sequence_classification_2/distilbert/transformer/layer_._5/attention/q_lin/bias:0', 'tf_distil_bert_for_sequence_classification_2/distilbert/transformer/layer_._5/attention/k_lin/kernel:0', 'tf_distil_bert_for_sequence_classification_2/distilbert/transformer/layer_._5/attention/k_lin/bias:0', 'tf_distil_bert_for_sequence_classification_2/distilbert/transformer/layer_._5/attention/v_lin/kernel:0', 'tf_distil_bert_for_sequence_classification_2/distilbert/transformer/layer_._5/attention/v_lin/bias:0', 'tf_distil_bert_for_sequence_classification_2/distilbert/transformer/layer_._5/attention/out_lin/kernel:0', 'tf_distil_bert_for_sequence_classification_2/distilbert/transformer/layer_._5/attention/out_lin/bias:0', 'tf_distil_bert_for_sequence_classification_2/distilbert/transformer/layer_._5/sa_layer_norm/gamma:0', 'tf_distil_bert_for_sequence_classification_2/distilbert/transformer/layer_._5/sa_layer_norm/beta:0', 'tf_distil_bert_for_sequence_classification_2/distilbert/transformer/layer_._5/ffn/lin1/kernel:0', 'tf_distil_bert_for_sequence_classification_2/distilbert/transformer/layer_._5/ffn/lin1/bias:0', 'tf_distil_bert_for_sequence_classification_2/distilbert/transformer/layer_._5/ffn/lin2/kernel:0', 'tf_distil_bert_for_sequence_classification_2/distilbert/transformer/layer_._5/ffn/lin2/bias:0', 'tf_distil_bert_for_sequence_classification_2/distilbert/transformer/layer_._5/output_layer_norm/gamma:0', 'tf_distil_bert_for_sequence_classification_2/distilbert/transformer/layer_._5/output_layer_norm/beta:0', 'tf_distil_bert_for_sequence_classification_2/pre_classifier/kernel:0', 'tf_distil_bert_for_sequence_classification_2/pre_classifier/bias:0', 'tf_distil_bert_for_sequence_classification_2/classifier/kernel:0', 'tf_distil_bert_for_sequence_classification_2/classifier/bias:0'] when minimizing the loss. If you're using `model.compile()`, did you forget to provide a `loss`argument?\n"
     ]
    },
    {
     "name": "stdout",
     "output_type": "stream",
     "text": [
      " 12/937 [..............................] - ETA: 8:05 - loss: 0.0087 - attentions_3_loss: 0.0087"
     ]
    },
    {
     "ename": "KeyboardInterrupt",
     "evalue": "",
     "output_type": "error",
     "traceback": [
      "\u001b[1;31m---------------------------------------------------------------------------\u001b[0m",
      "\u001b[1;31mKeyboardInterrupt\u001b[0m                         Traceback (most recent call last)",
      "\u001b[1;32mc:\\Users\\micha\\OneDrive\\Dokumente\\Technikum\\MAI\\Semester 2\\AIAPP\\AIAPP_NLP\\project.ipynb Cell 97'\u001b[0m in \u001b[0;36m<cell line: 6>\u001b[1;34m()\u001b[0m\n\u001b[0;32m      <a href='vscode-notebook-cell:/c%3A/Users/micha/OneDrive/Dokumente/Technikum/MAI/Semester%202/AIAPP/AIAPP_NLP/project.ipynb#ch0000093?line=2'>3</a>\u001b[0m model \u001b[39m=\u001b[39m TFAutoModelForSequenceClassification\u001b[39m.\u001b[39mfrom_pretrained(\u001b[39m\"\u001b[39m\u001b[39mdistilbert-base-uncased\u001b[39m\u001b[39m\"\u001b[39m, num_labels\u001b[39m=\u001b[39m\u001b[39m1\u001b[39m, output_attentions\u001b[39m=\u001b[39m\u001b[39mTrue\u001b[39;00m)\n\u001b[0;32m      <a href='vscode-notebook-cell:/c%3A/Users/micha/OneDrive/Dokumente/Technikum/MAI/Semester%202/AIAPP/AIAPP_NLP/project.ipynb#ch0000093?line=4'>5</a>\u001b[0m model\u001b[39m.\u001b[39mcompile(optimizer\u001b[39m=\u001b[39moptimizer)\n\u001b[1;32m----> <a href='vscode-notebook-cell:/c%3A/Users/micha/OneDrive/Dokumente/Technikum/MAI/Semester%202/AIAPP/AIAPP_NLP/project.ipynb#ch0000093?line=5'>6</a>\u001b[0m model\u001b[39m.\u001b[39;49mfit(x\u001b[39m=\u001b[39;49mtf_train_set, validation_data\u001b[39m=\u001b[39;49mtf_validation_set, epochs\u001b[39m=\u001b[39;49m\u001b[39m2\u001b[39;49m)\n",
      "File \u001b[1;32m~\\anaconda3\\envs\\AIAPP_NLP\\lib\\site-packages\\keras\\utils\\traceback_utils.py:64\u001b[0m, in \u001b[0;36mfilter_traceback.<locals>.error_handler\u001b[1;34m(*args, **kwargs)\u001b[0m\n\u001b[0;32m     <a href='file:///c%3A/Users/micha/anaconda3/envs/AIAPP_NLP/lib/site-packages/keras/utils/traceback_utils.py?line=61'>62</a>\u001b[0m filtered_tb \u001b[39m=\u001b[39m \u001b[39mNone\u001b[39;00m\n\u001b[0;32m     <a href='file:///c%3A/Users/micha/anaconda3/envs/AIAPP_NLP/lib/site-packages/keras/utils/traceback_utils.py?line=62'>63</a>\u001b[0m \u001b[39mtry\u001b[39;00m:\n\u001b[1;32m---> <a href='file:///c%3A/Users/micha/anaconda3/envs/AIAPP_NLP/lib/site-packages/keras/utils/traceback_utils.py?line=63'>64</a>\u001b[0m   \u001b[39mreturn\u001b[39;00m fn(\u001b[39m*\u001b[39;49margs, \u001b[39m*\u001b[39;49m\u001b[39m*\u001b[39;49mkwargs)\n\u001b[0;32m     <a href='file:///c%3A/Users/micha/anaconda3/envs/AIAPP_NLP/lib/site-packages/keras/utils/traceback_utils.py?line=64'>65</a>\u001b[0m \u001b[39mexcept\u001b[39;00m \u001b[39mException\u001b[39;00m \u001b[39mas\u001b[39;00m e:  \u001b[39m# pylint: disable=broad-except\u001b[39;00m\n\u001b[0;32m     <a href='file:///c%3A/Users/micha/anaconda3/envs/AIAPP_NLP/lib/site-packages/keras/utils/traceback_utils.py?line=65'>66</a>\u001b[0m   filtered_tb \u001b[39m=\u001b[39m _process_traceback_frames(e\u001b[39m.\u001b[39m__traceback__)\n",
      "File \u001b[1;32m~\\anaconda3\\envs\\AIAPP_NLP\\lib\\site-packages\\keras\\engine\\training.py:1384\u001b[0m, in \u001b[0;36mModel.fit\u001b[1;34m(self, x, y, batch_size, epochs, verbose, callbacks, validation_split, validation_data, shuffle, class_weight, sample_weight, initial_epoch, steps_per_epoch, validation_steps, validation_batch_size, validation_freq, max_queue_size, workers, use_multiprocessing)\u001b[0m\n\u001b[0;32m   <a href='file:///c%3A/Users/micha/anaconda3/envs/AIAPP_NLP/lib/site-packages/keras/engine/training.py?line=1376'>1377</a>\u001b[0m \u001b[39mwith\u001b[39;00m tf\u001b[39m.\u001b[39mprofiler\u001b[39m.\u001b[39mexperimental\u001b[39m.\u001b[39mTrace(\n\u001b[0;32m   <a href='file:///c%3A/Users/micha/anaconda3/envs/AIAPP_NLP/lib/site-packages/keras/engine/training.py?line=1377'>1378</a>\u001b[0m     \u001b[39m'\u001b[39m\u001b[39mtrain\u001b[39m\u001b[39m'\u001b[39m,\n\u001b[0;32m   <a href='file:///c%3A/Users/micha/anaconda3/envs/AIAPP_NLP/lib/site-packages/keras/engine/training.py?line=1378'>1379</a>\u001b[0m     epoch_num\u001b[39m=\u001b[39mepoch,\n\u001b[0;32m   <a href='file:///c%3A/Users/micha/anaconda3/envs/AIAPP_NLP/lib/site-packages/keras/engine/training.py?line=1379'>1380</a>\u001b[0m     step_num\u001b[39m=\u001b[39mstep,\n\u001b[0;32m   <a href='file:///c%3A/Users/micha/anaconda3/envs/AIAPP_NLP/lib/site-packages/keras/engine/training.py?line=1380'>1381</a>\u001b[0m     batch_size\u001b[39m=\u001b[39mbatch_size,\n\u001b[0;32m   <a href='file:///c%3A/Users/micha/anaconda3/envs/AIAPP_NLP/lib/site-packages/keras/engine/training.py?line=1381'>1382</a>\u001b[0m     _r\u001b[39m=\u001b[39m\u001b[39m1\u001b[39m):\n\u001b[0;32m   <a href='file:///c%3A/Users/micha/anaconda3/envs/AIAPP_NLP/lib/site-packages/keras/engine/training.py?line=1382'>1383</a>\u001b[0m   callbacks\u001b[39m.\u001b[39mon_train_batch_begin(step)\n\u001b[1;32m-> <a href='file:///c%3A/Users/micha/anaconda3/envs/AIAPP_NLP/lib/site-packages/keras/engine/training.py?line=1383'>1384</a>\u001b[0m   tmp_logs \u001b[39m=\u001b[39m \u001b[39mself\u001b[39;49m\u001b[39m.\u001b[39;49mtrain_function(iterator)\n\u001b[0;32m   <a href='file:///c%3A/Users/micha/anaconda3/envs/AIAPP_NLP/lib/site-packages/keras/engine/training.py?line=1384'>1385</a>\u001b[0m   \u001b[39mif\u001b[39;00m data_handler\u001b[39m.\u001b[39mshould_sync:\n\u001b[0;32m   <a href='file:///c%3A/Users/micha/anaconda3/envs/AIAPP_NLP/lib/site-packages/keras/engine/training.py?line=1385'>1386</a>\u001b[0m     context\u001b[39m.\u001b[39masync_wait()\n",
      "File \u001b[1;32m~\\anaconda3\\envs\\AIAPP_NLP\\lib\\site-packages\\tensorflow\\python\\util\\traceback_utils.py:150\u001b[0m, in \u001b[0;36mfilter_traceback.<locals>.error_handler\u001b[1;34m(*args, **kwargs)\u001b[0m\n\u001b[0;32m    <a href='file:///c%3A/Users/micha/anaconda3/envs/AIAPP_NLP/lib/site-packages/tensorflow/python/util/traceback_utils.py?line=147'>148</a>\u001b[0m filtered_tb \u001b[39m=\u001b[39m \u001b[39mNone\u001b[39;00m\n\u001b[0;32m    <a href='file:///c%3A/Users/micha/anaconda3/envs/AIAPP_NLP/lib/site-packages/tensorflow/python/util/traceback_utils.py?line=148'>149</a>\u001b[0m \u001b[39mtry\u001b[39;00m:\n\u001b[1;32m--> <a href='file:///c%3A/Users/micha/anaconda3/envs/AIAPP_NLP/lib/site-packages/tensorflow/python/util/traceback_utils.py?line=149'>150</a>\u001b[0m   \u001b[39mreturn\u001b[39;00m fn(\u001b[39m*\u001b[39;49margs, \u001b[39m*\u001b[39;49m\u001b[39m*\u001b[39;49mkwargs)\n\u001b[0;32m    <a href='file:///c%3A/Users/micha/anaconda3/envs/AIAPP_NLP/lib/site-packages/tensorflow/python/util/traceback_utils.py?line=150'>151</a>\u001b[0m \u001b[39mexcept\u001b[39;00m \u001b[39mException\u001b[39;00m \u001b[39mas\u001b[39;00m e:\n\u001b[0;32m    <a href='file:///c%3A/Users/micha/anaconda3/envs/AIAPP_NLP/lib/site-packages/tensorflow/python/util/traceback_utils.py?line=151'>152</a>\u001b[0m   filtered_tb \u001b[39m=\u001b[39m _process_traceback_frames(e\u001b[39m.\u001b[39m__traceback__)\n",
      "File \u001b[1;32m~\\anaconda3\\envs\\AIAPP_NLP\\lib\\site-packages\\tensorflow\\python\\eager\\def_function.py:915\u001b[0m, in \u001b[0;36mFunction.__call__\u001b[1;34m(self, *args, **kwds)\u001b[0m\n\u001b[0;32m    <a href='file:///c%3A/Users/micha/anaconda3/envs/AIAPP_NLP/lib/site-packages/tensorflow/python/eager/def_function.py?line=911'>912</a>\u001b[0m compiler \u001b[39m=\u001b[39m \u001b[39m\"\u001b[39m\u001b[39mxla\u001b[39m\u001b[39m\"\u001b[39m \u001b[39mif\u001b[39;00m \u001b[39mself\u001b[39m\u001b[39m.\u001b[39m_jit_compile \u001b[39melse\u001b[39;00m \u001b[39m\"\u001b[39m\u001b[39mnonXla\u001b[39m\u001b[39m\"\u001b[39m\n\u001b[0;32m    <a href='file:///c%3A/Users/micha/anaconda3/envs/AIAPP_NLP/lib/site-packages/tensorflow/python/eager/def_function.py?line=913'>914</a>\u001b[0m \u001b[39mwith\u001b[39;00m OptionalXlaContext(\u001b[39mself\u001b[39m\u001b[39m.\u001b[39m_jit_compile):\n\u001b[1;32m--> <a href='file:///c%3A/Users/micha/anaconda3/envs/AIAPP_NLP/lib/site-packages/tensorflow/python/eager/def_function.py?line=914'>915</a>\u001b[0m   result \u001b[39m=\u001b[39m \u001b[39mself\u001b[39;49m\u001b[39m.\u001b[39;49m_call(\u001b[39m*\u001b[39;49margs, \u001b[39m*\u001b[39;49m\u001b[39m*\u001b[39;49mkwds)\n\u001b[0;32m    <a href='file:///c%3A/Users/micha/anaconda3/envs/AIAPP_NLP/lib/site-packages/tensorflow/python/eager/def_function.py?line=916'>917</a>\u001b[0m new_tracing_count \u001b[39m=\u001b[39m \u001b[39mself\u001b[39m\u001b[39m.\u001b[39mexperimental_get_tracing_count()\n\u001b[0;32m    <a href='file:///c%3A/Users/micha/anaconda3/envs/AIAPP_NLP/lib/site-packages/tensorflow/python/eager/def_function.py?line=917'>918</a>\u001b[0m without_tracing \u001b[39m=\u001b[39m (tracing_count \u001b[39m==\u001b[39m new_tracing_count)\n",
      "File \u001b[1;32m~\\anaconda3\\envs\\AIAPP_NLP\\lib\\site-packages\\tensorflow\\python\\eager\\def_function.py:947\u001b[0m, in \u001b[0;36mFunction._call\u001b[1;34m(self, *args, **kwds)\u001b[0m\n\u001b[0;32m    <a href='file:///c%3A/Users/micha/anaconda3/envs/AIAPP_NLP/lib/site-packages/tensorflow/python/eager/def_function.py?line=943'>944</a>\u001b[0m   \u001b[39mself\u001b[39m\u001b[39m.\u001b[39m_lock\u001b[39m.\u001b[39mrelease()\n\u001b[0;32m    <a href='file:///c%3A/Users/micha/anaconda3/envs/AIAPP_NLP/lib/site-packages/tensorflow/python/eager/def_function.py?line=944'>945</a>\u001b[0m   \u001b[39m# In this case we have created variables on the first call, so we run the\u001b[39;00m\n\u001b[0;32m    <a href='file:///c%3A/Users/micha/anaconda3/envs/AIAPP_NLP/lib/site-packages/tensorflow/python/eager/def_function.py?line=945'>946</a>\u001b[0m   \u001b[39m# defunned version which is guaranteed to never create variables.\u001b[39;00m\n\u001b[1;32m--> <a href='file:///c%3A/Users/micha/anaconda3/envs/AIAPP_NLP/lib/site-packages/tensorflow/python/eager/def_function.py?line=946'>947</a>\u001b[0m   \u001b[39mreturn\u001b[39;00m \u001b[39mself\u001b[39;49m\u001b[39m.\u001b[39;49m_stateless_fn(\u001b[39m*\u001b[39;49margs, \u001b[39m*\u001b[39;49m\u001b[39m*\u001b[39;49mkwds)  \u001b[39m# pylint: disable=not-callable\u001b[39;00m\n\u001b[0;32m    <a href='file:///c%3A/Users/micha/anaconda3/envs/AIAPP_NLP/lib/site-packages/tensorflow/python/eager/def_function.py?line=947'>948</a>\u001b[0m \u001b[39melif\u001b[39;00m \u001b[39mself\u001b[39m\u001b[39m.\u001b[39m_stateful_fn \u001b[39mis\u001b[39;00m \u001b[39mnot\u001b[39;00m \u001b[39mNone\u001b[39;00m:\n\u001b[0;32m    <a href='file:///c%3A/Users/micha/anaconda3/envs/AIAPP_NLP/lib/site-packages/tensorflow/python/eager/def_function.py?line=948'>949</a>\u001b[0m   \u001b[39m# Release the lock early so that multiple threads can perform the call\u001b[39;00m\n\u001b[0;32m    <a href='file:///c%3A/Users/micha/anaconda3/envs/AIAPP_NLP/lib/site-packages/tensorflow/python/eager/def_function.py?line=949'>950</a>\u001b[0m   \u001b[39m# in parallel.\u001b[39;00m\n\u001b[0;32m    <a href='file:///c%3A/Users/micha/anaconda3/envs/AIAPP_NLP/lib/site-packages/tensorflow/python/eager/def_function.py?line=950'>951</a>\u001b[0m   \u001b[39mself\u001b[39m\u001b[39m.\u001b[39m_lock\u001b[39m.\u001b[39mrelease()\n",
      "File \u001b[1;32m~\\anaconda3\\envs\\AIAPP_NLP\\lib\\site-packages\\tensorflow\\python\\eager\\function.py:2956\u001b[0m, in \u001b[0;36mFunction.__call__\u001b[1;34m(self, *args, **kwargs)\u001b[0m\n\u001b[0;32m   <a href='file:///c%3A/Users/micha/anaconda3/envs/AIAPP_NLP/lib/site-packages/tensorflow/python/eager/function.py?line=2952'>2953</a>\u001b[0m \u001b[39mwith\u001b[39;00m \u001b[39mself\u001b[39m\u001b[39m.\u001b[39m_lock:\n\u001b[0;32m   <a href='file:///c%3A/Users/micha/anaconda3/envs/AIAPP_NLP/lib/site-packages/tensorflow/python/eager/function.py?line=2953'>2954</a>\u001b[0m   (graph_function,\n\u001b[0;32m   <a href='file:///c%3A/Users/micha/anaconda3/envs/AIAPP_NLP/lib/site-packages/tensorflow/python/eager/function.py?line=2954'>2955</a>\u001b[0m    filtered_flat_args) \u001b[39m=\u001b[39m \u001b[39mself\u001b[39m\u001b[39m.\u001b[39m_maybe_define_function(args, kwargs)\n\u001b[1;32m-> <a href='file:///c%3A/Users/micha/anaconda3/envs/AIAPP_NLP/lib/site-packages/tensorflow/python/eager/function.py?line=2955'>2956</a>\u001b[0m \u001b[39mreturn\u001b[39;00m graph_function\u001b[39m.\u001b[39;49m_call_flat(\n\u001b[0;32m   <a href='file:///c%3A/Users/micha/anaconda3/envs/AIAPP_NLP/lib/site-packages/tensorflow/python/eager/function.py?line=2956'>2957</a>\u001b[0m     filtered_flat_args, captured_inputs\u001b[39m=\u001b[39;49mgraph_function\u001b[39m.\u001b[39;49mcaptured_inputs)\n",
      "File \u001b[1;32m~\\anaconda3\\envs\\AIAPP_NLP\\lib\\site-packages\\tensorflow\\python\\eager\\function.py:1853\u001b[0m, in \u001b[0;36mConcreteFunction._call_flat\u001b[1;34m(self, args, captured_inputs, cancellation_manager)\u001b[0m\n\u001b[0;32m   <a href='file:///c%3A/Users/micha/anaconda3/envs/AIAPP_NLP/lib/site-packages/tensorflow/python/eager/function.py?line=1848'>1849</a>\u001b[0m possible_gradient_type \u001b[39m=\u001b[39m gradients_util\u001b[39m.\u001b[39mPossibleTapeGradientTypes(args)\n\u001b[0;32m   <a href='file:///c%3A/Users/micha/anaconda3/envs/AIAPP_NLP/lib/site-packages/tensorflow/python/eager/function.py?line=1849'>1850</a>\u001b[0m \u001b[39mif\u001b[39;00m (possible_gradient_type \u001b[39m==\u001b[39m gradients_util\u001b[39m.\u001b[39mPOSSIBLE_GRADIENT_TYPES_NONE\n\u001b[0;32m   <a href='file:///c%3A/Users/micha/anaconda3/envs/AIAPP_NLP/lib/site-packages/tensorflow/python/eager/function.py?line=1850'>1851</a>\u001b[0m     \u001b[39mand\u001b[39;00m executing_eagerly):\n\u001b[0;32m   <a href='file:///c%3A/Users/micha/anaconda3/envs/AIAPP_NLP/lib/site-packages/tensorflow/python/eager/function.py?line=1851'>1852</a>\u001b[0m   \u001b[39m# No tape is watching; skip to running the function.\u001b[39;00m\n\u001b[1;32m-> <a href='file:///c%3A/Users/micha/anaconda3/envs/AIAPP_NLP/lib/site-packages/tensorflow/python/eager/function.py?line=1852'>1853</a>\u001b[0m   \u001b[39mreturn\u001b[39;00m \u001b[39mself\u001b[39m\u001b[39m.\u001b[39m_build_call_outputs(\u001b[39mself\u001b[39;49m\u001b[39m.\u001b[39;49m_inference_function\u001b[39m.\u001b[39;49mcall(\n\u001b[0;32m   <a href='file:///c%3A/Users/micha/anaconda3/envs/AIAPP_NLP/lib/site-packages/tensorflow/python/eager/function.py?line=1853'>1854</a>\u001b[0m       ctx, args, cancellation_manager\u001b[39m=\u001b[39;49mcancellation_manager))\n\u001b[0;32m   <a href='file:///c%3A/Users/micha/anaconda3/envs/AIAPP_NLP/lib/site-packages/tensorflow/python/eager/function.py?line=1854'>1855</a>\u001b[0m forward_backward \u001b[39m=\u001b[39m \u001b[39mself\u001b[39m\u001b[39m.\u001b[39m_select_forward_and_backward_functions(\n\u001b[0;32m   <a href='file:///c%3A/Users/micha/anaconda3/envs/AIAPP_NLP/lib/site-packages/tensorflow/python/eager/function.py?line=1855'>1856</a>\u001b[0m     args,\n\u001b[0;32m   <a href='file:///c%3A/Users/micha/anaconda3/envs/AIAPP_NLP/lib/site-packages/tensorflow/python/eager/function.py?line=1856'>1857</a>\u001b[0m     possible_gradient_type,\n\u001b[0;32m   <a href='file:///c%3A/Users/micha/anaconda3/envs/AIAPP_NLP/lib/site-packages/tensorflow/python/eager/function.py?line=1857'>1858</a>\u001b[0m     executing_eagerly)\n\u001b[0;32m   <a href='file:///c%3A/Users/micha/anaconda3/envs/AIAPP_NLP/lib/site-packages/tensorflow/python/eager/function.py?line=1858'>1859</a>\u001b[0m forward_function, args_with_tangents \u001b[39m=\u001b[39m forward_backward\u001b[39m.\u001b[39mforward()\n",
      "File \u001b[1;32m~\\anaconda3\\envs\\AIAPP_NLP\\lib\\site-packages\\tensorflow\\python\\eager\\function.py:499\u001b[0m, in \u001b[0;36m_EagerDefinedFunction.call\u001b[1;34m(self, ctx, args, cancellation_manager)\u001b[0m\n\u001b[0;32m    <a href='file:///c%3A/Users/micha/anaconda3/envs/AIAPP_NLP/lib/site-packages/tensorflow/python/eager/function.py?line=496'>497</a>\u001b[0m \u001b[39mwith\u001b[39;00m _InterpolateFunctionError(\u001b[39mself\u001b[39m):\n\u001b[0;32m    <a href='file:///c%3A/Users/micha/anaconda3/envs/AIAPP_NLP/lib/site-packages/tensorflow/python/eager/function.py?line=497'>498</a>\u001b[0m   \u001b[39mif\u001b[39;00m cancellation_manager \u001b[39mis\u001b[39;00m \u001b[39mNone\u001b[39;00m:\n\u001b[1;32m--> <a href='file:///c%3A/Users/micha/anaconda3/envs/AIAPP_NLP/lib/site-packages/tensorflow/python/eager/function.py?line=498'>499</a>\u001b[0m     outputs \u001b[39m=\u001b[39m execute\u001b[39m.\u001b[39;49mexecute(\n\u001b[0;32m    <a href='file:///c%3A/Users/micha/anaconda3/envs/AIAPP_NLP/lib/site-packages/tensorflow/python/eager/function.py?line=499'>500</a>\u001b[0m         \u001b[39mstr\u001b[39;49m(\u001b[39mself\u001b[39;49m\u001b[39m.\u001b[39;49msignature\u001b[39m.\u001b[39;49mname),\n\u001b[0;32m    <a href='file:///c%3A/Users/micha/anaconda3/envs/AIAPP_NLP/lib/site-packages/tensorflow/python/eager/function.py?line=500'>501</a>\u001b[0m         num_outputs\u001b[39m=\u001b[39;49m\u001b[39mself\u001b[39;49m\u001b[39m.\u001b[39;49m_num_outputs,\n\u001b[0;32m    <a href='file:///c%3A/Users/micha/anaconda3/envs/AIAPP_NLP/lib/site-packages/tensorflow/python/eager/function.py?line=501'>502</a>\u001b[0m         inputs\u001b[39m=\u001b[39;49margs,\n\u001b[0;32m    <a href='file:///c%3A/Users/micha/anaconda3/envs/AIAPP_NLP/lib/site-packages/tensorflow/python/eager/function.py?line=502'>503</a>\u001b[0m         attrs\u001b[39m=\u001b[39;49mattrs,\n\u001b[0;32m    <a href='file:///c%3A/Users/micha/anaconda3/envs/AIAPP_NLP/lib/site-packages/tensorflow/python/eager/function.py?line=503'>504</a>\u001b[0m         ctx\u001b[39m=\u001b[39;49mctx)\n\u001b[0;32m    <a href='file:///c%3A/Users/micha/anaconda3/envs/AIAPP_NLP/lib/site-packages/tensorflow/python/eager/function.py?line=504'>505</a>\u001b[0m   \u001b[39melse\u001b[39;00m:\n\u001b[0;32m    <a href='file:///c%3A/Users/micha/anaconda3/envs/AIAPP_NLP/lib/site-packages/tensorflow/python/eager/function.py?line=505'>506</a>\u001b[0m     outputs \u001b[39m=\u001b[39m execute\u001b[39m.\u001b[39mexecute_with_cancellation(\n\u001b[0;32m    <a href='file:///c%3A/Users/micha/anaconda3/envs/AIAPP_NLP/lib/site-packages/tensorflow/python/eager/function.py?line=506'>507</a>\u001b[0m         \u001b[39mstr\u001b[39m(\u001b[39mself\u001b[39m\u001b[39m.\u001b[39msignature\u001b[39m.\u001b[39mname),\n\u001b[0;32m    <a href='file:///c%3A/Users/micha/anaconda3/envs/AIAPP_NLP/lib/site-packages/tensorflow/python/eager/function.py?line=507'>508</a>\u001b[0m         num_outputs\u001b[39m=\u001b[39m\u001b[39mself\u001b[39m\u001b[39m.\u001b[39m_num_outputs,\n\u001b[1;32m   (...)\u001b[0m\n\u001b[0;32m    <a href='file:///c%3A/Users/micha/anaconda3/envs/AIAPP_NLP/lib/site-packages/tensorflow/python/eager/function.py?line=510'>511</a>\u001b[0m         ctx\u001b[39m=\u001b[39mctx,\n\u001b[0;32m    <a href='file:///c%3A/Users/micha/anaconda3/envs/AIAPP_NLP/lib/site-packages/tensorflow/python/eager/function.py?line=511'>512</a>\u001b[0m         cancellation_manager\u001b[39m=\u001b[39mcancellation_manager)\n",
      "File \u001b[1;32m~\\anaconda3\\envs\\AIAPP_NLP\\lib\\site-packages\\tensorflow\\python\\eager\\execute.py:54\u001b[0m, in \u001b[0;36mquick_execute\u001b[1;34m(op_name, num_outputs, inputs, attrs, ctx, name)\u001b[0m\n\u001b[0;32m     <a href='file:///c%3A/Users/micha/anaconda3/envs/AIAPP_NLP/lib/site-packages/tensorflow/python/eager/execute.py?line=51'>52</a>\u001b[0m \u001b[39mtry\u001b[39;00m:\n\u001b[0;32m     <a href='file:///c%3A/Users/micha/anaconda3/envs/AIAPP_NLP/lib/site-packages/tensorflow/python/eager/execute.py?line=52'>53</a>\u001b[0m   ctx\u001b[39m.\u001b[39mensure_initialized()\n\u001b[1;32m---> <a href='file:///c%3A/Users/micha/anaconda3/envs/AIAPP_NLP/lib/site-packages/tensorflow/python/eager/execute.py?line=53'>54</a>\u001b[0m   tensors \u001b[39m=\u001b[39m pywrap_tfe\u001b[39m.\u001b[39;49mTFE_Py_Execute(ctx\u001b[39m.\u001b[39;49m_handle, device_name, op_name,\n\u001b[0;32m     <a href='file:///c%3A/Users/micha/anaconda3/envs/AIAPP_NLP/lib/site-packages/tensorflow/python/eager/execute.py?line=54'>55</a>\u001b[0m                                       inputs, attrs, num_outputs)\n\u001b[0;32m     <a href='file:///c%3A/Users/micha/anaconda3/envs/AIAPP_NLP/lib/site-packages/tensorflow/python/eager/execute.py?line=55'>56</a>\u001b[0m \u001b[39mexcept\u001b[39;00m core\u001b[39m.\u001b[39m_NotOkStatusException \u001b[39mas\u001b[39;00m e:\n\u001b[0;32m     <a href='file:///c%3A/Users/micha/anaconda3/envs/AIAPP_NLP/lib/site-packages/tensorflow/python/eager/execute.py?line=56'>57</a>\u001b[0m   \u001b[39mif\u001b[39;00m name \u001b[39mis\u001b[39;00m \u001b[39mnot\u001b[39;00m \u001b[39mNone\u001b[39;00m:\n",
      "\u001b[1;31mKeyboardInterrupt\u001b[0m: "
     ]
    }
   ],
   "source": [
    "from transformers import TFAutoModelForSequenceClassification\n",
    "\n",
    "model = TFAutoModelForSequenceClassification.from_pretrained(\"distilbert-base-uncased\", num_labels=1, output_attentions=True)\n",
    "\n",
    "model.compile(optimizer=optimizer)\n",
    "model.fit(x=tf_train_set, validation_data=tf_validation_set, epochs=2)"
   ]
  },
  {
   "cell_type": "code",
   "execution_count": 47,
   "metadata": {},
   "outputs": [
    {
     "name": "stdout",
     "output_type": "stream",
     "text": [
      "Loss:  0.0115\n"
     ]
    }
   ],
   "source": [
    "print('Loss: ', 0.0115)"
   ]
  },
  {
   "cell_type": "code",
   "execution_count": 74,
   "metadata": {},
   "outputs": [],
   "source": [
    "model.save_pretrained(save_directory='./Transformer_Model')"
   ]
  },
  {
   "cell_type": "markdown",
   "metadata": {},
   "source": [
    "## Prediction using Classification\n",
    "\n",
    "In the second step we will predict the classes without weighting the result on other classes (A review result 2 is as dissimilar to a review result 1 as a review result 5)\n",
    "\n",
    "In this step we will use 3 approaches:\n",
    "- SVM\n",
    "- Random Forrest\n",
    "- RNN"
   ]
  },
  {
   "cell_type": "markdown",
   "metadata": {},
   "source": [
    "## SVM"
   ]
  },
  {
   "cell_type": "code",
   "execution_count": 48,
   "metadata": {},
   "outputs": [
    {
     "name": "stdout",
     "output_type": "stream",
     "text": [
      "Accuracy: 0.25\n"
     ]
    },
    {
     "name": "stderr",
     "output_type": "stream",
     "text": [
      "C:\\Users\\micha\\AppData\\Local\\Temp\\ipykernel_30532\\1217449317.py:5: VisibleDeprecationWarning: Creating an ndarray from ragged nested sequences (which is a list-or-tuple of lists-or-tuples-or ndarrays with different lengths or shapes) is deprecated. If you meant to do this, you must specify 'dtype=object' when creating the ndarray.\n",
      "  vect = np.array([np.array([w2v_model.wv[i] for i in ls if i in words]) for ls in df.reviewText])\n"
     ]
    }
   ],
   "source": [
    "x = getSentenceAvgFromW2V(df_sample)\n",
    "y = df_sample.overall.values\n",
    "\n",
    "x_train_total, x_test, y_train_total, y_test = train_test_split(x, y, test_size=0.2)\n",
    "x_train, x_val, y_train, y_val = train_test_split(x_train_total, y_train_total, test_size=0.2)\n",
    "\n",
    "svm_model = SVC()\n",
    "svm_model.fit(x_train, y_train)\n",
    "\n",
    "y_pred = svm_model.predict(x_val)\n",
    "\n",
    "print('Accuracy:', accuracy_score(y_val, y_pred))"
   ]
  },
  {
   "cell_type": "markdown",
   "metadata": {},
   "source": [
    "## Random Forrest"
   ]
  },
  {
   "cell_type": "code",
   "execution_count": 49,
   "metadata": {},
   "outputs": [
    {
     "name": "stdout",
     "output_type": "stream",
     "text": [
      "Accuracy: 0.25\n"
     ]
    },
    {
     "name": "stderr",
     "output_type": "stream",
     "text": [
      "C:\\Users\\micha\\AppData\\Local\\Temp\\ipykernel_30532\\1217449317.py:5: VisibleDeprecationWarning: Creating an ndarray from ragged nested sequences (which is a list-or-tuple of lists-or-tuples-or ndarrays with different lengths or shapes) is deprecated. If you meant to do this, you must specify 'dtype=object' when creating the ndarray.\n",
      "  vect = np.array([np.array([w2v_model.wv[i] for i in ls if i in words]) for ls in df.reviewText])\n"
     ]
    }
   ],
   "source": [
    "x = getSentenceAvgFromW2V(df_sample)\n",
    "y = df_sample.overall.values\n",
    "\n",
    "x_train_total, x_test, y_train_total, y_test = train_test_split(x, y, test_size=0.2)\n",
    "x_train, x_val, y_train, y_val = train_test_split(x_train_total, y_train_total, test_size=0.2)\n",
    "\n",
    "rfc_model = RandomForestClassifier()\n",
    "rfc_model.fit(x_train, y_train)\n",
    "\n",
    "y_pred = rfc_model.predict(x_val)\n",
    "\n",
    "print('Accuracy:', accuracy_score(y_val, y_pred))"
   ]
  },
  {
   "cell_type": "markdown",
   "metadata": {},
   "source": [
    "# RNN"
   ]
  },
  {
   "cell_type": "markdown",
   "metadata": {},
   "source": [
    "Show content of dataset."
   ]
  },
  {
   "cell_type": "code",
   "execution_count": 50,
   "metadata": {},
   "outputs": [
    {
     "data": {
      "text/html": [
       "<div>\n",
       "<style scoped>\n",
       "    .dataframe tbody tr th:only-of-type {\n",
       "        vertical-align: middle;\n",
       "    }\n",
       "\n",
       "    .dataframe tbody tr th {\n",
       "        vertical-align: top;\n",
       "    }\n",
       "\n",
       "    .dataframe thead th {\n",
       "        text-align: right;\n",
       "    }\n",
       "</style>\n",
       "<table border=\"1\" class=\"dataframe\">\n",
       "  <thead>\n",
       "    <tr style=\"text-align: right;\">\n",
       "      <th></th>\n",
       "      <th>overall</th>\n",
       "      <th>reviewText</th>\n",
       "    </tr>\n",
       "  </thead>\n",
       "  <tbody>\n",
       "    <tr>\n",
       "      <th>0</th>\n",
       "      <td>1</td>\n",
       "      <td>[too, short, i, had, to, another, strap, with,...</td>\n",
       "    </tr>\n",
       "    <tr>\n",
       "      <th>1</th>\n",
       "      <td>1</td>\n",
       "      <td>[very, cheap, and, flimsy, not, able, to, hold...</td>\n",
       "    </tr>\n",
       "    <tr>\n",
       "      <th>2</th>\n",
       "      <td>1</td>\n",
       "      <td>[the, professional, translucent, cutting, mat,...</td>\n",
       "    </tr>\n",
       "    <tr>\n",
       "      <th>3</th>\n",
       "      <td>1</td>\n",
       "      <td>[best, described, as, flimsy, got, what, i, pa...</td>\n",
       "    </tr>\n",
       "    <tr>\n",
       "      <th>4</th>\n",
       "      <td>1</td>\n",
       "      <td>[worked, fine, when, by, my, keyboard, keyboar...</td>\n",
       "    </tr>\n",
       "  </tbody>\n",
       "</table>\n",
       "</div>"
      ],
      "text/plain": [
       "   overall                                         reviewText\n",
       "0        1  [too, short, i, had, to, another, strap, with,...\n",
       "1        1  [very, cheap, and, flimsy, not, able, to, hold...\n",
       "2        1  [the, professional, translucent, cutting, mat,...\n",
       "3        1  [best, described, as, flimsy, got, what, i, pa...\n",
       "4        1  [worked, fine, when, by, my, keyboard, keyboar..."
      ]
     },
     "execution_count": 50,
     "metadata": {},
     "output_type": "execute_result"
    }
   ],
   "source": [
    "df_tf_input = df_final.copy()\n",
    "df_tf_input.head()"
   ]
  },
  {
   "cell_type": "markdown",
   "metadata": {},
   "source": [
    "Tokenize the review texts."
   ]
  },
  {
   "cell_type": "code",
   "execution_count": 51,
   "metadata": {},
   "outputs": [
    {
     "name": "stdout",
     "output_type": "stream",
     "text": [
      "Found 3651 unique tokens.\n"
     ]
    }
   ],
   "source": [
    "# The maximum number of words to be used (most frequent)\n",
    "MAX_NB_WORDS = 50000\n",
    "# Max number of words in each review.\n",
    "MAX_SEQUENCE_LENGTH = 200\n",
    "# This is fixed.\n",
    "EMBEDDING_DIM = 100\n",
    "\n",
    "tokenizer = Tokenizer(num_words=MAX_NB_WORDS \n",
    "                      #,filters='!\"#$%&()*+,-./:;<=>?@[\\]^_`{|}~'\n",
    "                      #,ower=True\n",
    "                      )\n",
    "tokenizer.fit_on_texts(df_tf_input['reviewText'].values)\n",
    "word_index = tokenizer.word_index\n",
    "print('Found %s unique tokens.' % len(word_index))"
   ]
  },
  {
   "cell_type": "markdown",
   "metadata": {},
   "source": [
    "Convert text to number sequences and create the feature tensor X."
   ]
  },
  {
   "cell_type": "code",
   "execution_count": 52,
   "metadata": {},
   "outputs": [
    {
     "name": "stdout",
     "output_type": "stream",
     "text": [
      "Shape of data tensor: (4983, 200)\n",
      "[[   0    0    0 ...  341   13   63]\n",
      " [   0    0    0 ...   28   23  981]\n",
      " [   0    0    0 ...   34  236 1265]\n",
      " ...\n",
      " [   0    0    0 ...    7    1  439]\n",
      " [   0    0    0 ...   10 1605 3592]\n",
      " [   0    0    0 ...   88   45  183]]\n"
     ]
    }
   ],
   "source": [
    "X = tokenizer.texts_to_sequences(df_tf_input['reviewText'].values)\n",
    "X = pad_sequences(X, maxlen=MAX_SEQUENCE_LENGTH)\n",
    "print('Shape of data tensor:', X.shape)\n",
    "print(X)"
   ]
  },
  {
   "cell_type": "markdown",
   "metadata": {},
   "source": [
    "Create the target tensor Y."
   ]
  },
  {
   "cell_type": "code",
   "execution_count": 53,
   "metadata": {},
   "outputs": [
    {
     "name": "stdout",
     "output_type": "stream",
     "text": [
      "Shape of label tensor: (4983, 5)\n"
     ]
    }
   ],
   "source": [
    "Y = pd.get_dummies(df_tf_input['overall']).values\n",
    "print('Shape of label tensor:', Y.shape)"
   ]
  },
  {
   "cell_type": "markdown",
   "metadata": {},
   "source": [
    "Create train/test datasets. Test dataset contains 10% of the data. Set random_state to ensure reproductability."
   ]
  },
  {
   "cell_type": "code",
   "execution_count": 54,
   "metadata": {},
   "outputs": [
    {
     "name": "stdout",
     "output_type": "stream",
     "text": [
      "(4484, 200) (4484, 5)\n",
      "(499, 200) (499, 5)\n"
     ]
    }
   ],
   "source": [
    "X_train, X_test, Y_train, Y_test = train_test_split(X,Y, test_size = 0.10, random_state = 42)\n",
    "print(X_train.shape,Y_train.shape)\n",
    "print(X_test.shape,Y_test.shape)"
   ]
  },
  {
   "cell_type": "markdown",
   "metadata": {},
   "source": [
    "Create new model of no saved model was found."
   ]
  },
  {
   "cell_type": "code",
   "execution_count": 57,
   "metadata": {},
   "outputs": [
    {
     "name": "stdout",
     "output_type": "stream",
     "text": [
      "Created new model as no saved model was found...\n",
      "Model: \"sequential_1\"\n",
      "_________________________________________________________________\n",
      " Layer (type)                Output Shape              Param #   \n",
      "=================================================================\n",
      " embedding_1 (Embedding)     (None, 200, 100)          5000000   \n",
      "                                                                 \n",
      " spatial_dropout1d_1 (Spatia  (None, 200, 100)         0         \n",
      " lDropout1D)                                                     \n",
      "                                                                 \n",
      " lstm (LSTM)                 (None, 100)               80400     \n",
      "                                                                 \n",
      " dense (Dense)               (None, 5)                 505       \n",
      "                                                                 \n",
      "=================================================================\n",
      "Total params: 5,080,905\n",
      "Trainable params: 5,080,905\n",
      "Non-trainable params: 0\n",
      "_________________________________________________________________\n",
      "None\n"
     ]
    }
   ],
   "source": [
    "\n",
    "if os.path.exists(\"./RNN_model\") == False:\n",
    "    print(\"Created new model as no saved model was found...\")\n",
    "    model = Sequential()\n",
    "    model.add(Embedding(MAX_NB_WORDS, EMBEDDING_DIM, input_length=X.shape[1]))\n",
    "    model.add(SpatialDropout1D(0.2))\n",
    "    model.add(LSTM(100, dropout=0.2))\n",
    "    model.add(Dense(5, activation='softmax'))\n",
    "    model.compile(loss='categorical_crossentropy', optimizer='adam', metrics=['accuracy'])\n",
    "    new_model = True\n",
    "else:\n",
    "    print(\"Loading saved model...\")\n",
    "    model = kmodels.load_model(\"./RNN_model\")\n",
    "    new_model = False\n",
    "print(model.summary())"
   ]
  },
  {
   "cell_type": "markdown",
   "metadata": {},
   "source": [
    "If new model was created: Start training. Otherwise skip training phase."
   ]
  },
  {
   "cell_type": "code",
   "execution_count": 58,
   "metadata": {},
   "outputs": [
    {
     "name": "stdout",
     "output_type": "stream",
     "text": [
      "New model created - training starts...\n",
      "Epoch 1/5\n",
      "64/64 [==============================] - 11s 155ms/step - loss: 1.5742 - accuracy: 0.2659 - val_loss: 1.5635 - val_accuracy: 0.2650\n",
      "Epoch 2/5\n",
      "64/64 [==============================] - 9s 142ms/step - loss: 1.4075 - accuracy: 0.3779 - val_loss: 1.4036 - val_accuracy: 0.3541\n",
      "Epoch 3/5\n",
      "64/64 [==============================] - 9s 146ms/step - loss: 1.1747 - accuracy: 0.4922 - val_loss: 1.3381 - val_accuracy: 0.3831\n",
      "Epoch 4/5\n",
      "64/64 [==============================] - 10s 152ms/step - loss: 1.0370 - accuracy: 0.5705 - val_loss: 1.3599 - val_accuracy: 0.3853\n",
      "Epoch 5/5\n",
      "64/64 [==============================] - 9s 148ms/step - loss: 0.9021 - accuracy: 0.6307 - val_loss: 1.4344 - val_accuracy: 0.3541\n"
     ]
    }
   ],
   "source": [
    "if(new_model):\n",
    "    print(\"New model created - training starts...\")\n",
    "    epochs = 5\n",
    "    batch_size = 64\n",
    "\n",
    "    history = model.fit(X_train, Y_train, epochs=epochs, batch_size=batch_size,validation_split=0.1,callbacks=[EarlyStopping(monitor='val_loss', patience=3, min_delta=0.0001)])\n",
    "else:\n",
    "    print(\"Skip training and use existing model\")\n"
   ]
  },
  {
   "cell_type": "markdown",
   "metadata": {},
   "source": [
    "Determine accuracy."
   ]
  },
  {
   "cell_type": "code",
   "execution_count": 59,
   "metadata": {},
   "outputs": [
    {
     "name": "stdout",
     "output_type": "stream",
     "text": [
      "16/16 [==============================] - 0s 22ms/step - loss: 1.4056 - accuracy: 0.4489\n",
      "Test set\n",
      "  Loss: 1.406\n",
      "  Accuracy: 0.449\n"
     ]
    }
   ],
   "source": [
    "accr = model.evaluate(X_test,Y_test)\n",
    "print('Test set\\n  Loss: {:0.3f}\\n  Accuracy: {:0.3f}'.format(accr[0],accr[1]))"
   ]
  },
  {
   "cell_type": "markdown",
   "metadata": {},
   "source": [
    "Save the model and training history if it was newly created."
   ]
  },
  {
   "cell_type": "code",
   "execution_count": 60,
   "metadata": {},
   "outputs": [
    {
     "name": "stderr",
     "output_type": "stream",
     "text": [
      "WARNING:absl:Found untraced functions such as lstm_cell_layer_call_fn, lstm_cell_layer_call_and_return_conditional_losses while saving (showing 2 of 2). These functions will not be directly callable after loading.\n"
     ]
    },
    {
     "name": "stdout",
     "output_type": "stream",
     "text": [
      "INFO:tensorflow:Assets written to: ram://166d47e9-9b1b-4ddc-985f-1e493838829d/assets\n"
     ]
    },
    {
     "name": "stderr",
     "output_type": "stream",
     "text": [
      "INFO:tensorflow:Assets written to: ram://166d47e9-9b1b-4ddc-985f-1e493838829d/assets\n",
      "WARNING:absl:<keras.layers.recurrent.LSTMCell object at 0x000001340C4AEA00> has the same name 'LSTMCell' as a built-in Keras object. Consider renaming <class 'keras.layers.recurrent.LSTMCell'> to avoid naming conflicts when loading with `tf.keras.models.load_model`. If renaming is not possible, pass the object in the `custom_objects` parameter of the load function.\n",
      "WARNING:absl:Found untraced functions such as lstm_cell_layer_call_fn, lstm_cell_layer_call_and_return_conditional_losses while saving (showing 2 of 2). These functions will not be directly callable after loading.\n"
     ]
    },
    {
     "name": "stdout",
     "output_type": "stream",
     "text": [
      "INFO:tensorflow:Assets written to: ./RNN_model\\assets\n"
     ]
    },
    {
     "name": "stderr",
     "output_type": "stream",
     "text": [
      "INFO:tensorflow:Assets written to: ./RNN_model\\assets\n",
      "WARNING:absl:<keras.layers.recurrent.LSTMCell object at 0x000001340C4AEA00> has the same name 'LSTMCell' as a built-in Keras object. Consider renaming <class 'keras.layers.recurrent.LSTMCell'> to avoid naming conflicts when loading with `tf.keras.models.load_model`. If renaming is not possible, pass the object in the `custom_objects` parameter of the load function.\n"
     ]
    }
   ],
   "source": [
    "if new_model:\n",
    "    np.save('./rnn_history.npy', history)\n",
    "    model.save(\"./RNN_model\")"
   ]
  },
  {
   "cell_type": "markdown",
   "metadata": {},
   "source": [
    "Load history to plot loss an accuracy values."
   ]
  },
  {
   "cell_type": "code",
   "execution_count": 61,
   "metadata": {},
   "outputs": [],
   "source": [
    "if new_model:\n",
    "    history = history.history\n",
    "else:\n",
    "    history = np.load('./rnn_history.npy', allow_pickle='TRUE').item()\n",
    "    print(history)"
   ]
  },
  {
   "cell_type": "markdown",
   "metadata": {},
   "source": [
    "Plot loss an accuracy."
   ]
  },
  {
   "cell_type": "code",
   "execution_count": 62,
   "metadata": {},
   "outputs": [
    {
     "data": {
      "image/png": "[encoded data removed]",
      "text/plain": [
       "<Figure size 432x288 with 1 Axes>"
      ]
     },
     "metadata": {
      "needs_background": "light"
     },
     "output_type": "display_data"
    }
   ],
   "source": [
    "plt.title('Loss')\n",
    "plt.plot(history['loss'], label='train')\n",
    "plt.plot(history['val_loss'], label='test')\n",
    "plt.legend()\n",
    "plt.show()"
   ]
  },
  {
   "cell_type": "code",
   "execution_count": 63,
   "metadata": {},
   "outputs": [
    {
     "data": {
      "image/png": "[encoded data removed]",
      "text/plain": [
       "<Figure size 432x288 with 1 Axes>"
      ]
     },
     "metadata": {
      "needs_background": "light"
     },
     "output_type": "display_data"
    }
   ],
   "source": [
    "plt.title('Accuracy')\n",
    "plt.plot(history['accuracy'], label='train')\n",
    "plt.plot(history['val_accuracy'], label='test')\n",
    "plt.legend()\n",
    "plt.show()"
   ]
  }
 ],
 "metadata": {
  "interpreter": {
   "hash": "f974761abf908fb6a9f457c6a23a631485246efe566291ef9aa7ebf87bee0e83"
  },
  "kernelspec": {
   "display_name": "Python 3.7.5 64-bit ('base': conda)",
   "name": "python3"
  },
  "language_info": {
   "codemirror_mode": {
    "name": "ipython",
    "version": 3
   },
   "file_extension": ".py",
   "mimetype": "text/x-python",
   "name": "python",
   "nbconvert_exporter": "python",
   "pygments_lexer": "ipython3",
   "version": "3.8.13"
  },
  "orig_nbformat": 4
 },
 "nbformat": 4,
 "nbformat_minor": 2
}
