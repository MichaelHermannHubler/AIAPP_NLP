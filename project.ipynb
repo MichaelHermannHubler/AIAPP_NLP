{
 "cells": [
  {
   "cell_type": "markdown",
   "metadata": {},
   "source": [
    "# Kann mithilfe einer NLP-unterstützten Methodik festgestellt werden ob ein Amazon Review Positiv, Neutral oder Negativ ist, bzw. kann das angegebene Voting errechnet werden?\n",
    "\n",
    "- Michael Hermann-Hubler\n",
    "- Michael Kranl\n",
    "\n",
    "The used data was created by J. Ni, J. Li, and J. McAuley for „Justifying Recommendations using Distantly-Labeled Reviews and Fine-Grained Aspects“, in Proceedings of the 2019 Conference on mpirical Methods in Natural Language Processing and the 9th International Joint Conference on Natural Language Processing (EMNLP-IJCNLP), Hong Kong, China, 2019, S. 188–197. doi: 10.18653/v1/D19-1018. "
   ]
  },
  {
   "cell_type": "markdown",
   "metadata": {},
   "source": [
    "## Imports"
   ]
  },
  {
   "cell_type": "code",
   "execution_count": null,
   "metadata": {},
   "outputs": [],
   "source": [
    "import sys\n",
    "!{sys.executable} -m pip install gzinfo\n",
    "!{sys.executable} -m pip install nltk\n",
    "!{sys.executable} -m pip install pandas\n",
    "!{sys.executable} -m pip install seaborn\n",
    "!{sys.executable} -m pip install wordcloud\n",
    "!{sys.executable} -m pip install tensorflow\n",
    "!{sys.executable} -m pip install torch\n",
    "!{sys.executable} -m pip install gensim\n",
    "!{sys.executable} -m pip install sklearn"
   ]
  },
  {
   "cell_type": "code",
   "execution_count": 2,
   "metadata": {},
   "outputs": [
    {
     "name": "stderr",
     "output_type": "stream",
     "text": [
      "Enabling notebook extension jupyter-js-widgets/extension...\n",
      "      - Validating: ok\n"
     ]
    }
   ],
   "source": [
    "!jupyter nbextension enable --py widgetsnbextension"
   ]
  },
  {
   "cell_type": "code",
   "execution_count": 136,
   "metadata": {},
   "outputs": [
    {
     "name": "stderr",
     "output_type": "stream",
     "text": [
      "[nltk_data] Downloading package omw-1.4 to\n",
      "[nltk_data]     C:\\Users\\micha\\AppData\\Roaming\\nltk_data...\n",
      "[nltk_data]   Package omw-1.4 is already up-to-date!\n",
      "[nltk_data] Downloading package wordnet to\n",
      "[nltk_data]     C:\\Users\\micha\\AppData\\Roaming\\nltk_data...\n",
      "[nltk_data]   Package wordnet is already up-to-date!\n",
      "[nltk_data] Downloading package stopwords to\n",
      "[nltk_data]     C:\\Users\\micha\\AppData\\Roaming\\nltk_data...\n",
      "[nltk_data]   Package stopwords is already up-to-date!\n"
     ]
    }
   ],
   "source": [
    "# Intel Optimizer for Sklearn\n",
    "# from sklearnex import patch_sklearn\n",
    "# patch_sklearn()\n",
    "\n",
    "# General\n",
    "import pandas as pd\n",
    "import numpy as np\n",
    "from itertools import islice\n",
    "from sklearn.model_selection import train_test_split\n",
    "\n",
    "# Download\n",
    "import urllib.request\n",
    "import glob\n",
    "import gzip\n",
    "import gzinfo\n",
    "import os\n",
    "import shutil\n",
    "\n",
    "# Visualisation\n",
    "import seaborn as sns\n",
    "import matplotlib.pyplot as plt\n",
    "from wordcloud import WordCloud\n",
    "\n",
    "# Text Preprocessing\n",
    "from collections import Counter\n",
    "from keras_preprocessing.text import text_to_word_sequence\n",
    "import nltk\n",
    "nltk.download('omw-1.4')\n",
    "nltk.download('wordnet')\n",
    "nltk.download('stopwords')\n",
    "from nltk.stem import WordNetLemmatizer, PorterStemmer\n",
    "from nltk.corpus import stopwords\n",
    "import re\n",
    "\n",
    "# Feature Representation\n",
    "from nltk import ngrams\n",
    "from sklearn.feature_extraction.text import TfidfVectorizer\n",
    "from gensim.models import Word2Vec\n",
    "\n",
    "# Clustering\n",
    "from sklearn.cluster import KMeans\n",
    "from sklearn.decomposition import PCA\n",
    "from sklearn.manifold import TSNE\n",
    "from umap import UMAP\n",
    "\n",
    "# Prediction\n",
    "import tensorflow as tf\n",
    "from sklearn.svm import SVC, SVR\n",
    "from sklearn.ensemble import RandomForestClassifier, RandomForestRegressor\n",
    "\n",
    "# LSTM\n",
    "import torch\n",
    "import torch.nn as nn\n",
    "import torch.nn.functional as F\n",
    "\n",
    "device = torch.device('cuda:0' if torch.cuda.is_available() else 'cpu')\n",
    "\n",
    "# Huggingface\n",
    "from datasets import Dataset, features\n",
    "from transformers import AutoTokenizer\n",
    "from transformers import DataCollatorWithPadding\n",
    "from transformers import create_optimizer\n",
    "\n",
    "# RNN\n",
    "from keras.preprocessing.text import Tokenizer\n",
    "from keras.preprocessing.sequence import pad_sequences\n",
    "from keras.models import Sequential\n",
    "import keras.models as kmodels\n",
    "from keras.layers import Dense, Embedding, LSTM, SpatialDropout1D\n",
    "from keras.callbacks import EarlyStopping\n",
    "\n",
    "# Metrics\n",
    "from sklearn.metrics import mean_squared_error, accuracy_score\n",
    "\n",
    "# Set to true on Production\n",
    "final_Execution = True"
   ]
  },
  {
   "cell_type": "markdown",
   "metadata": {},
   "source": [
    "## Load Dataset"
   ]
  },
  {
   "cell_type": "markdown",
   "metadata": {},
   "source": [
    "### Download Sub Dataset"
   ]
  },
  {
   "cell_type": "code",
   "execution_count": 76,
   "metadata": {},
   "outputs": [],
   "source": [
    "subdatasets = [\n",
    "                  'http://deepyeti.ucsd.edu/jianmo/amazon/categoryFilesSmall/Arts_Crafts_and_Sewing_5.json.gz',\n",
    "                  'http://deepyeti.ucsd.edu/jianmo/amazon/categoryFilesSmall/Industrial_and_Scientific_5.json.gz',\n",
    "                  'http://deepyeti.ucsd.edu/jianmo/amazon/categoryFilesSmall/Luxury_Beauty_5.json.gz',\n",
    "                  'http://deepyeti.ucsd.edu/jianmo/amazon/categoryFilesSmall/Musical_Instruments_5.json.gz'\n",
    "              ]\n",
    "\n",
    "def download(x: str):\n",
    "    urllib.request.urlretrieve(x, '.data/dummy.gz')\n",
    "\n",
    "    filename = gzinfo.read_gz_info('.data/dummy.gz').fname\n",
    "    with gzip.open('.data/dummy.gz', 'rb') as f_in:\n",
    "        with open('.data/' + filename, 'wb') as f_out:\n",
    "            shutil.copyfileobj(f_in, f_out)\n",
    "            \n",
    "    os.remove('.data/dummy.gz')\n",
    "\n",
    "# only run once as this can take a very long time\n",
    "if len(os.listdir('.data') ) == 0:\n",
    "    [download(x) for x in subdatasets]\n"
   ]
  },
  {
   "cell_type": "markdown",
   "metadata": {},
   "source": [
    "## Load data"
   ]
  },
  {
   "cell_type": "code",
   "execution_count": 77,
   "metadata": {},
   "outputs": [],
   "source": [
    "all_files = glob.glob('.data/*')\n",
    "li = []\n",
    "\n",
    "for filename in all_files:\n",
    "    temp_df = pd.read_json(filename, lines=True)\n",
    "    li.append(temp_df)\n",
    "\n",
    "df = pd.concat(li, axis=0, ignore_index=True)"
   ]
  },
  {
   "cell_type": "markdown",
   "metadata": {},
   "source": [
    "## Data Exploration I"
   ]
  },
  {
   "cell_type": "code",
   "execution_count": 78,
   "metadata": {},
   "outputs": [
    {
     "data": {
      "text/html": [
       "<div>\n",
       "<style scoped>\n",
       "    .dataframe tbody tr th:only-of-type {\n",
       "        vertical-align: middle;\n",
       "    }\n",
       "\n",
       "    .dataframe tbody tr th {\n",
       "        vertical-align: top;\n",
       "    }\n",
       "\n",
       "    .dataframe thead th {\n",
       "        text-align: right;\n",
       "    }\n",
       "</style>\n",
       "<table border=\"1\" class=\"dataframe\">\n",
       "  <thead>\n",
       "    <tr style=\"text-align: right;\">\n",
       "      <th></th>\n",
       "      <th>overall</th>\n",
       "      <th>verified</th>\n",
       "      <th>reviewTime</th>\n",
       "      <th>reviewerID</th>\n",
       "      <th>asin</th>\n",
       "      <th>style</th>\n",
       "      <th>reviewerName</th>\n",
       "      <th>reviewText</th>\n",
       "      <th>summary</th>\n",
       "      <th>unixReviewTime</th>\n",
       "      <th>vote</th>\n",
       "      <th>image</th>\n",
       "    </tr>\n",
       "  </thead>\n",
       "  <tbody>\n",
       "    <tr>\n",
       "      <th>0</th>\n",
       "      <td>4</td>\n",
       "      <td>True</td>\n",
       "      <td>03 29, 2016</td>\n",
       "      <td>AIE8N9U317ZBM</td>\n",
       "      <td>0449819906</td>\n",
       "      <td>{'Format:': ' Kindle Edition'}</td>\n",
       "      <td>Zelmira, Ph.D.</td>\n",
       "      <td>Contains some interesting stitches.</td>\n",
       "      <td>Four Stars</td>\n",
       "      <td>1459209600</td>\n",
       "      <td>NaN</td>\n",
       "      <td>NaN</td>\n",
       "    </tr>\n",
       "    <tr>\n",
       "      <th>1</th>\n",
       "      <td>5</td>\n",
       "      <td>True</td>\n",
       "      <td>08 12, 2015</td>\n",
       "      <td>A3ECOW0TWLH9V6</td>\n",
       "      <td>0449819906</td>\n",
       "      <td>{'Format:': ' Paperback'}</td>\n",
       "      <td>Dangerous when Cooking</td>\n",
       "      <td>I'm a fairly experienced knitter of the one-co...</td>\n",
       "      <td>My current favorite go-to guide for inspiration</td>\n",
       "      <td>1439337600</td>\n",
       "      <td>18</td>\n",
       "      <td>NaN</td>\n",
       "    </tr>\n",
       "    <tr>\n",
       "      <th>2</th>\n",
       "      <td>4</td>\n",
       "      <td>True</td>\n",
       "      <td>04 5, 2015</td>\n",
       "      <td>A278N8QX9TY2OS</td>\n",
       "      <td>0449819906</td>\n",
       "      <td>{'Format:': ' Paperback'}</td>\n",
       "      <td>Just us</td>\n",
       "      <td>Great book but the index is terrible. Had to w...</td>\n",
       "      <td>lots of great examples, good instructions, col...</td>\n",
       "      <td>1428192000</td>\n",
       "      <td>3</td>\n",
       "      <td>NaN</td>\n",
       "    </tr>\n",
       "    <tr>\n",
       "      <th>3</th>\n",
       "      <td>5</td>\n",
       "      <td>True</td>\n",
       "      <td>10 11, 2014</td>\n",
       "      <td>A123W8HIK76XCN</td>\n",
       "      <td>0449819906</td>\n",
       "      <td>{'Format:': ' Kindle Edition'}</td>\n",
       "      <td>Amazon Customer</td>\n",
       "      <td>I purchased the Kindle edition which is incred...</td>\n",
       "      <td>Another little gem by Melissa Leapman</td>\n",
       "      <td>1412985600</td>\n",
       "      <td>NaN</td>\n",
       "      <td>NaN</td>\n",
       "    </tr>\n",
       "    <tr>\n",
       "      <th>4</th>\n",
       "      <td>5</td>\n",
       "      <td>True</td>\n",
       "      <td>05 8, 2014</td>\n",
       "      <td>A2A6MZ2QB4AE0L</td>\n",
       "      <td>0449819906</td>\n",
       "      <td>{'Format:': ' Paperback'}</td>\n",
       "      <td>Sustainability</td>\n",
       "      <td>Very well laid out and very easy to read.\\n\\nT...</td>\n",
       "      <td>Very comprehensive</td>\n",
       "      <td>1399507200</td>\n",
       "      <td>NaN</td>\n",
       "      <td>NaN</td>\n",
       "    </tr>\n",
       "  </tbody>\n",
       "</table>\n",
       "</div>"
      ],
      "text/plain": [
       "   overall  verified   reviewTime      reviewerID        asin  \\\n",
       "0        4      True  03 29, 2016   AIE8N9U317ZBM  0449819906   \n",
       "1        5      True  08 12, 2015  A3ECOW0TWLH9V6  0449819906   \n",
       "2        4      True   04 5, 2015  A278N8QX9TY2OS  0449819906   \n",
       "3        5      True  10 11, 2014  A123W8HIK76XCN  0449819906   \n",
       "4        5      True   05 8, 2014  A2A6MZ2QB4AE0L  0449819906   \n",
       "\n",
       "                            style            reviewerName  \\\n",
       "0  {'Format:': ' Kindle Edition'}          Zelmira, Ph.D.   \n",
       "1       {'Format:': ' Paperback'}  Dangerous when Cooking   \n",
       "2       {'Format:': ' Paperback'}                 Just us   \n",
       "3  {'Format:': ' Kindle Edition'}         Amazon Customer   \n",
       "4       {'Format:': ' Paperback'}          Sustainability   \n",
       "\n",
       "                                          reviewText  \\\n",
       "0                Contains some interesting stitches.   \n",
       "1  I'm a fairly experienced knitter of the one-co...   \n",
       "2  Great book but the index is terrible. Had to w...   \n",
       "3  I purchased the Kindle edition which is incred...   \n",
       "4  Very well laid out and very easy to read.\\n\\nT...   \n",
       "\n",
       "                                             summary  unixReviewTime vote  \\\n",
       "0                                         Four Stars      1459209600  NaN   \n",
       "1    My current favorite go-to guide for inspiration      1439337600   18   \n",
       "2  lots of great examples, good instructions, col...      1428192000    3   \n",
       "3              Another little gem by Melissa Leapman      1412985600  NaN   \n",
       "4                                 Very comprehensive      1399507200  NaN   \n",
       "\n",
       "  image  \n",
       "0   NaN  \n",
       "1   NaN  \n",
       "2   NaN  \n",
       "3   NaN  \n",
       "4   NaN  "
      ]
     },
     "execution_count": 78,
     "metadata": {},
     "output_type": "execute_result"
    }
   ],
   "source": [
    "df.head()"
   ]
  },
  {
   "cell_type": "code",
   "execution_count": 79,
   "metadata": {},
   "outputs": [
    {
     "data": {
      "text/html": [
       "<div>\n",
       "<style scoped>\n",
       "    .dataframe tbody tr th:only-of-type {\n",
       "        vertical-align: middle;\n",
       "    }\n",
       "\n",
       "    .dataframe tbody tr th {\n",
       "        vertical-align: top;\n",
       "    }\n",
       "\n",
       "    .dataframe thead th {\n",
       "        text-align: right;\n",
       "    }\n",
       "</style>\n",
       "<table border=\"1\" class=\"dataframe\">\n",
       "  <thead>\n",
       "    <tr style=\"text-align: right;\">\n",
       "      <th></th>\n",
       "      <th>overall</th>\n",
       "      <th>unixReviewTime</th>\n",
       "    </tr>\n",
       "  </thead>\n",
       "  <tbody>\n",
       "    <tr>\n",
       "      <th>count</th>\n",
       "      <td>837226.000000</td>\n",
       "      <td>8.372260e+05</td>\n",
       "    </tr>\n",
       "    <tr>\n",
       "      <th>mean</th>\n",
       "      <td>4.524777</td>\n",
       "      <td>1.446987e+09</td>\n",
       "    </tr>\n",
       "    <tr>\n",
       "      <th>std</th>\n",
       "      <td>0.953090</td>\n",
       "      <td>4.959673e+07</td>\n",
       "    </tr>\n",
       "    <tr>\n",
       "      <th>min</th>\n",
       "      <td>1.000000</td>\n",
       "      <td>1.051402e+09</td>\n",
       "    </tr>\n",
       "    <tr>\n",
       "      <th>25%</th>\n",
       "      <td>4.000000</td>\n",
       "      <td>1.418429e+09</td>\n",
       "    </tr>\n",
       "    <tr>\n",
       "      <th>50%</th>\n",
       "      <td>5.000000</td>\n",
       "      <td>1.452470e+09</td>\n",
       "    </tr>\n",
       "    <tr>\n",
       "      <th>75%</th>\n",
       "      <td>5.000000</td>\n",
       "      <td>1.483402e+09</td>\n",
       "    </tr>\n",
       "    <tr>\n",
       "      <th>max</th>\n",
       "      <td>5.000000</td>\n",
       "      <td>1.538525e+09</td>\n",
       "    </tr>\n",
       "  </tbody>\n",
       "</table>\n",
       "</div>"
      ],
      "text/plain": [
       "             overall  unixReviewTime\n",
       "count  837226.000000    8.372260e+05\n",
       "mean        4.524777    1.446987e+09\n",
       "std         0.953090    4.959673e+07\n",
       "min         1.000000    1.051402e+09\n",
       "25%         4.000000    1.418429e+09\n",
       "50%         5.000000    1.452470e+09\n",
       "75%         5.000000    1.483402e+09\n",
       "max         5.000000    1.538525e+09"
      ]
     },
     "execution_count": 79,
     "metadata": {},
     "output_type": "execute_result"
    }
   ],
   "source": [
    "df.describe()"
   ]
  },
  {
   "cell_type": "code",
   "execution_count": 80,
   "metadata": {},
   "outputs": [
    {
     "data": {
      "text/plain": [
       "<seaborn.axisgrid.FacetGrid at 0x134b5f2c5e0>"
      ]
     },
     "execution_count": 80,
     "metadata": {},
     "output_type": "execute_result"
    },
    {
     "data": {
      "image/png": "[encoded data removed]",
      "text/plain": [
       "<Figure size 360x360 with 1 Axes>"
      ]
     },
     "metadata": {
      "needs_background": "light"
     },
     "output_type": "display_data"
    }
   ],
   "source": [
    "sns.displot(df.overall, discrete=True)"
   ]
  },
  {
   "cell_type": "code",
   "execution_count": 81,
   "metadata": {},
   "outputs": [
    {
     "data": {
      "text/plain": [
       "overall\n",
       "1     25394\n",
       "2     23489\n",
       "3     52973\n",
       "4    119795\n",
       "5    615214\n",
       "Name: reviewText, dtype: int64"
      ]
     },
     "execution_count": 81,
     "metadata": {},
     "output_type": "execute_result"
    }
   ],
   "source": [
    "df.groupby('overall').count().reviewText"
   ]
  },
  {
   "cell_type": "markdown",
   "metadata": {},
   "source": [
    "The high average overall score means, that we have to split the data differently as we have no normal distibution."
   ]
  },
  {
   "cell_type": "code",
   "execution_count": 82,
   "metadata": {},
   "outputs": [
    {
     "name": "stdout",
     "output_type": "stream",
     "text": [
      "Length whole Dataset: 837226\n",
      "Length Dataset without NA: 836865\n"
     ]
    }
   ],
   "source": [
    "print('Length whole Dataset:', len(df.reviewText))\n",
    "print('Length Dataset without NA:', len(df.reviewText.dropna()))"
   ]
  },
  {
   "cell_type": "markdown",
   "metadata": {},
   "source": [
    "There exists missing Data"
   ]
  },
  {
   "cell_type": "markdown",
   "metadata": {},
   "source": [
    "## Data Cleaning"
   ]
  },
  {
   "cell_type": "markdown",
   "metadata": {},
   "source": [
    "### Remove unnessesary columns"
   ]
  },
  {
   "cell_type": "code",
   "execution_count": 83,
   "metadata": {},
   "outputs": [],
   "source": [
    "df = df[['overall', 'reviewText']]"
   ]
  },
  {
   "cell_type": "markdown",
   "metadata": {},
   "source": [
    "### Remove missing data"
   ]
  },
  {
   "cell_type": "code",
   "execution_count": 84,
   "metadata": {},
   "outputs": [],
   "source": [
    "df = df.dropna()"
   ]
  },
  {
   "cell_type": "markdown",
   "metadata": {},
   "source": [
    "### Reduce data to a representative subset\n",
    "To reduce the data we take random 20.000 samples from each class, without replacement"
   ]
  },
  {
   "cell_type": "code",
   "execution_count": 85,
   "metadata": {},
   "outputs": [],
   "source": [
    "sampling_size = 20000\n",
    "\n",
    "li = [\n",
    "    df[df.overall == 1].sample(sampling_size),\n",
    "    df[df.overall == 2].sample(sampling_size),\n",
    "    df[df.overall == 3].sample(sampling_size),\n",
    "    df[df.overall == 4].sample(sampling_size),\n",
    "    df[df.overall == 5].sample(sampling_size)\n",
    "]\n",
    "\n",
    "df_cleaned = pd.concat(li, axis=0, ignore_index=True)"
   ]
  },
  {
   "cell_type": "code",
   "execution_count": 86,
   "metadata": {},
   "outputs": [
    {
     "data": {
      "text/html": [
       "<div>\n",
       "<style scoped>\n",
       "    .dataframe tbody tr th:only-of-type {\n",
       "        vertical-align: middle;\n",
       "    }\n",
       "\n",
       "    .dataframe tbody tr th {\n",
       "        vertical-align: top;\n",
       "    }\n",
       "\n",
       "    .dataframe thead th {\n",
       "        text-align: right;\n",
       "    }\n",
       "</style>\n",
       "<table border=\"1\" class=\"dataframe\">\n",
       "  <thead>\n",
       "    <tr style=\"text-align: right;\">\n",
       "      <th></th>\n",
       "      <th>overall</th>\n",
       "    </tr>\n",
       "  </thead>\n",
       "  <tbody>\n",
       "    <tr>\n",
       "      <th>count</th>\n",
       "      <td>100000.000000</td>\n",
       "    </tr>\n",
       "    <tr>\n",
       "      <th>mean</th>\n",
       "      <td>3.000000</td>\n",
       "    </tr>\n",
       "    <tr>\n",
       "      <th>std</th>\n",
       "      <td>1.414221</td>\n",
       "    </tr>\n",
       "    <tr>\n",
       "      <th>min</th>\n",
       "      <td>1.000000</td>\n",
       "    </tr>\n",
       "    <tr>\n",
       "      <th>25%</th>\n",
       "      <td>2.000000</td>\n",
       "    </tr>\n",
       "    <tr>\n",
       "      <th>50%</th>\n",
       "      <td>3.000000</td>\n",
       "    </tr>\n",
       "    <tr>\n",
       "      <th>75%</th>\n",
       "      <td>4.000000</td>\n",
       "    </tr>\n",
       "    <tr>\n",
       "      <th>max</th>\n",
       "      <td>5.000000</td>\n",
       "    </tr>\n",
       "  </tbody>\n",
       "</table>\n",
       "</div>"
      ],
      "text/plain": [
       "             overall\n",
       "count  100000.000000\n",
       "mean        3.000000\n",
       "std         1.414221\n",
       "min         1.000000\n",
       "25%         2.000000\n",
       "50%         3.000000\n",
       "75%         4.000000\n",
       "max         5.000000"
      ]
     },
     "execution_count": 86,
     "metadata": {},
     "output_type": "execute_result"
    }
   ],
   "source": [
    "df_cleaned.describe()"
   ]
  },
  {
   "cell_type": "code",
   "execution_count": 87,
   "metadata": {},
   "outputs": [
    {
     "data": {
      "text/html": [
       "<div>\n",
       "<style scoped>\n",
       "    .dataframe tbody tr th:only-of-type {\n",
       "        vertical-align: middle;\n",
       "    }\n",
       "\n",
       "    .dataframe tbody tr th {\n",
       "        vertical-align: top;\n",
       "    }\n",
       "\n",
       "    .dataframe thead th {\n",
       "        text-align: right;\n",
       "    }\n",
       "</style>\n",
       "<table border=\"1\" class=\"dataframe\">\n",
       "  <thead>\n",
       "    <tr style=\"text-align: right;\">\n",
       "      <th></th>\n",
       "      <th>overall</th>\n",
       "      <th>reviewText</th>\n",
       "    </tr>\n",
       "  </thead>\n",
       "  <tbody>\n",
       "    <tr>\n",
       "      <th>0</th>\n",
       "      <td>1</td>\n",
       "      <td>Run Away! Horribly cheap / shoddy items.  $6 s...</td>\n",
       "    </tr>\n",
       "    <tr>\n",
       "      <th>1</th>\n",
       "      <td>1</td>\n",
       "      <td>Terrible smell, unable to use.  I think whatev...</td>\n",
       "    </tr>\n",
       "    <tr>\n",
       "      <th>2</th>\n",
       "      <td>1</td>\n",
       "      <td>Ran Out of Ink in 5 minutes!!!!!!</td>\n",
       "    </tr>\n",
       "    <tr>\n",
       "      <th>3</th>\n",
       "      <td>1</td>\n",
       "      <td>Received with no contents. Envelope torn open</td>\n",
       "    </tr>\n",
       "    <tr>\n",
       "      <th>4</th>\n",
       "      <td>1</td>\n",
       "      <td>Holes for strap pins are too small for normal ...</td>\n",
       "    </tr>\n",
       "  </tbody>\n",
       "</table>\n",
       "</div>"
      ],
      "text/plain": [
       "   overall                                         reviewText\n",
       "0        1  Run Away! Horribly cheap / shoddy items.  $6 s...\n",
       "1        1  Terrible smell, unable to use.  I think whatev...\n",
       "2        1                  Ran Out of Ink in 5 minutes!!!!!!\n",
       "3        1      Received with no contents. Envelope torn open\n",
       "4        1  Holes for strap pins are too small for normal ..."
      ]
     },
     "execution_count": 87,
     "metadata": {},
     "output_type": "execute_result"
    }
   ],
   "source": [
    "df_cleaned.head()"
   ]
  },
  {
   "cell_type": "markdown",
   "metadata": {},
   "source": [
    "## Preprocessing"
   ]
  },
  {
   "cell_type": "markdown",
   "metadata": {},
   "source": [
    "### Lowercasing"
   ]
  },
  {
   "cell_type": "code",
   "execution_count": 88,
   "metadata": {},
   "outputs": [
    {
     "data": {
      "text/html": [
       "<div>\n",
       "<style scoped>\n",
       "    .dataframe tbody tr th:only-of-type {\n",
       "        vertical-align: middle;\n",
       "    }\n",
       "\n",
       "    .dataframe tbody tr th {\n",
       "        vertical-align: top;\n",
       "    }\n",
       "\n",
       "    .dataframe thead th {\n",
       "        text-align: right;\n",
       "    }\n",
       "</style>\n",
       "<table border=\"1\" class=\"dataframe\">\n",
       "  <thead>\n",
       "    <tr style=\"text-align: right;\">\n",
       "      <th></th>\n",
       "      <th>overall</th>\n",
       "      <th>reviewText</th>\n",
       "    </tr>\n",
       "  </thead>\n",
       "  <tbody>\n",
       "    <tr>\n",
       "      <th>0</th>\n",
       "      <td>1</td>\n",
       "      <td>run away! horribly cheap / shoddy items.  $6 s...</td>\n",
       "    </tr>\n",
       "    <tr>\n",
       "      <th>1</th>\n",
       "      <td>1</td>\n",
       "      <td>terrible smell, unable to use.  i think whatev...</td>\n",
       "    </tr>\n",
       "    <tr>\n",
       "      <th>2</th>\n",
       "      <td>1</td>\n",
       "      <td>ran out of ink in 5 minutes!!!!!!</td>\n",
       "    </tr>\n",
       "    <tr>\n",
       "      <th>3</th>\n",
       "      <td>1</td>\n",
       "      <td>received with no contents. envelope torn open</td>\n",
       "    </tr>\n",
       "    <tr>\n",
       "      <th>4</th>\n",
       "      <td>1</td>\n",
       "      <td>holes for strap pins are too small for normal ...</td>\n",
       "    </tr>\n",
       "  </tbody>\n",
       "</table>\n",
       "</div>"
      ],
      "text/plain": [
       "   overall                                         reviewText\n",
       "0        1  run away! horribly cheap / shoddy items.  $6 s...\n",
       "1        1  terrible smell, unable to use.  i think whatev...\n",
       "2        1                  ran out of ink in 5 minutes!!!!!!\n",
       "3        1      received with no contents. envelope torn open\n",
       "4        1  holes for strap pins are too small for normal ..."
      ]
     },
     "execution_count": 88,
     "metadata": {},
     "output_type": "execute_result"
    }
   ],
   "source": [
    "df_lowercase = df_cleaned.copy()\n",
    "df_lowercase.reviewText = df_lowercase.reviewText.str.lower()\n",
    "df_lowercase.head()"
   ]
  },
  {
   "cell_type": "markdown",
   "metadata": {},
   "source": [
    "### Remove Special Chars"
   ]
  },
  {
   "cell_type": "code",
   "execution_count": 89,
   "metadata": {},
   "outputs": [
    {
     "data": {
      "text/html": [
       "<div>\n",
       "<style scoped>\n",
       "    .dataframe tbody tr th:only-of-type {\n",
       "        vertical-align: middle;\n",
       "    }\n",
       "\n",
       "    .dataframe tbody tr th {\n",
       "        vertical-align: top;\n",
       "    }\n",
       "\n",
       "    .dataframe thead th {\n",
       "        text-align: right;\n",
       "    }\n",
       "</style>\n",
       "<table border=\"1\" class=\"dataframe\">\n",
       "  <thead>\n",
       "    <tr style=\"text-align: right;\">\n",
       "      <th></th>\n",
       "      <th>overall</th>\n",
       "      <th>reviewText</th>\n",
       "    </tr>\n",
       "  </thead>\n",
       "  <tbody>\n",
       "    <tr>\n",
       "      <th>0</th>\n",
       "      <td>1</td>\n",
       "      <td>run away horribly cheap  shoddy items   someth...</td>\n",
       "    </tr>\n",
       "    <tr>\n",
       "      <th>1</th>\n",
       "      <td>1</td>\n",
       "      <td>terrible smell unable to use  i think whatever...</td>\n",
       "    </tr>\n",
       "    <tr>\n",
       "      <th>2</th>\n",
       "      <td>1</td>\n",
       "      <td>ran out of ink in  minutes</td>\n",
       "    </tr>\n",
       "    <tr>\n",
       "      <th>3</th>\n",
       "      <td>1</td>\n",
       "      <td>received with no contents envelope torn open</td>\n",
       "    </tr>\n",
       "    <tr>\n",
       "      <th>4</th>\n",
       "      <td>1</td>\n",
       "      <td>holes for strap pins are too small for normal ...</td>\n",
       "    </tr>\n",
       "  </tbody>\n",
       "</table>\n",
       "</div>"
      ],
      "text/plain": [
       "   overall                                         reviewText\n",
       "0        1  run away horribly cheap  shoddy items   someth...\n",
       "1        1  terrible smell unable to use  i think whatever...\n",
       "2        1                         ran out of ink in  minutes\n",
       "3        1       received with no contents envelope torn open\n",
       "4        1  holes for strap pins are too small for normal ..."
      ]
     },
     "execution_count": 89,
     "metadata": {},
     "output_type": "execute_result"
    }
   ],
   "source": [
    "regex = '[^ A-Za-z]+'\n",
    "\n",
    "df_spec_cars_removed = df_lowercase.copy()\n",
    "df_spec_cars_removed.reviewText = df_spec_cars_removed.apply(lambda row: re.sub(regex, '', row.reviewText), axis=1)\n",
    "df_spec_cars_removed.head()"
   ]
  },
  {
   "cell_type": "markdown",
   "metadata": {},
   "source": [
    "### Tokenization"
   ]
  },
  {
   "cell_type": "code",
   "execution_count": 90,
   "metadata": {},
   "outputs": [
    {
     "data": {
      "text/html": [
       "<div>\n",
       "<style scoped>\n",
       "    .dataframe tbody tr th:only-of-type {\n",
       "        vertical-align: middle;\n",
       "    }\n",
       "\n",
       "    .dataframe tbody tr th {\n",
       "        vertical-align: top;\n",
       "    }\n",
       "\n",
       "    .dataframe thead th {\n",
       "        text-align: right;\n",
       "    }\n",
       "</style>\n",
       "<table border=\"1\" class=\"dataframe\">\n",
       "  <thead>\n",
       "    <tr style=\"text-align: right;\">\n",
       "      <th></th>\n",
       "      <th>overall</th>\n",
       "      <th>reviewText</th>\n",
       "    </tr>\n",
       "  </thead>\n",
       "  <tbody>\n",
       "    <tr>\n",
       "      <th>0</th>\n",
       "      <td>1</td>\n",
       "      <td>[run, away, horribly, cheap, shoddy, items, so...</td>\n",
       "    </tr>\n",
       "    <tr>\n",
       "      <th>1</th>\n",
       "      <td>1</td>\n",
       "      <td>[terrible, smell, unable, to, use, i, think, w...</td>\n",
       "    </tr>\n",
       "    <tr>\n",
       "      <th>2</th>\n",
       "      <td>1</td>\n",
       "      <td>[ran, out, of, ink, in, minutes]</td>\n",
       "    </tr>\n",
       "    <tr>\n",
       "      <th>3</th>\n",
       "      <td>1</td>\n",
       "      <td>[received, with, no, contents, envelope, torn,...</td>\n",
       "    </tr>\n",
       "    <tr>\n",
       "      <th>4</th>\n",
       "      <td>1</td>\n",
       "      <td>[holes, for, strap, pins, are, too, small, for...</td>\n",
       "    </tr>\n",
       "  </tbody>\n",
       "</table>\n",
       "</div>"
      ],
      "text/plain": [
       "   overall                                         reviewText\n",
       "0        1  [run, away, horribly, cheap, shoddy, items, so...\n",
       "1        1  [terrible, smell, unable, to, use, i, think, w...\n",
       "2        1                   [ran, out, of, ink, in, minutes]\n",
       "3        1  [received, with, no, contents, envelope, torn,...\n",
       "4        1  [holes, for, strap, pins, are, too, small, for..."
      ]
     },
     "execution_count": 90,
     "metadata": {},
     "output_type": "execute_result"
    }
   ],
   "source": [
    "df_token = df_spec_cars_removed.copy()\n",
    "df_token.reviewText = df_token.apply(lambda row: text_to_word_sequence(row.reviewText), axis=1)\n",
    "df_token.head()"
   ]
  },
  {
   "cell_type": "markdown",
   "metadata": {},
   "source": [
    "## Remove seldom used words"
   ]
  },
  {
   "cell_type": "code",
   "execution_count": 91,
   "metadata": {},
   "outputs": [
    {
     "name": "stdout",
     "output_type": "stream",
     "text": [
      "num_words before: 89187\n",
      "num_words after: 18163\n"
     ]
    },
    {
     "data": {
      "text/html": [
       "<div>\n",
       "<style scoped>\n",
       "    .dataframe tbody tr th:only-of-type {\n",
       "        vertical-align: middle;\n",
       "    }\n",
       "\n",
       "    .dataframe tbody tr th {\n",
       "        vertical-align: top;\n",
       "    }\n",
       "\n",
       "    .dataframe thead th {\n",
       "        text-align: right;\n",
       "    }\n",
       "</style>\n",
       "<table border=\"1\" class=\"dataframe\">\n",
       "  <thead>\n",
       "    <tr style=\"text-align: right;\">\n",
       "      <th></th>\n",
       "      <th>overall</th>\n",
       "      <th>reviewText</th>\n",
       "    </tr>\n",
       "  </thead>\n",
       "  <tbody>\n",
       "    <tr>\n",
       "      <th>0</th>\n",
       "      <td>1</td>\n",
       "      <td>[run, away, horribly, cheap, shoddy, items, so...</td>\n",
       "    </tr>\n",
       "    <tr>\n",
       "      <th>1</th>\n",
       "      <td>1</td>\n",
       "      <td>[terrible, smell, unable, to, use, i, think, w...</td>\n",
       "    </tr>\n",
       "    <tr>\n",
       "      <th>2</th>\n",
       "      <td>1</td>\n",
       "      <td>[ran, out, of, ink, in, minutes]</td>\n",
       "    </tr>\n",
       "    <tr>\n",
       "      <th>3</th>\n",
       "      <td>1</td>\n",
       "      <td>[received, with, no, contents, envelope, torn,...</td>\n",
       "    </tr>\n",
       "    <tr>\n",
       "      <th>4</th>\n",
       "      <td>1</td>\n",
       "      <td>[holes, for, strap, pins, are, too, small, for...</td>\n",
       "    </tr>\n",
       "  </tbody>\n",
       "</table>\n",
       "</div>"
      ],
      "text/plain": [
       "   overall                                         reviewText\n",
       "0        1  [run, away, horribly, cheap, shoddy, items, so...\n",
       "1        1  [terrible, smell, unable, to, use, i, think, w...\n",
       "2        1                   [ran, out, of, ink, in, minutes]\n",
       "3        1  [received, with, no, contents, envelope, torn,...\n",
       "4        1  [holes, for, strap, pins, are, too, small, for..."
      ]
     },
     "execution_count": 91,
     "metadata": {},
     "output_type": "execute_result"
    }
   ],
   "source": [
    "df_token_cleaned = df_token.copy()\n",
    "\n",
    "counts = Counter()\n",
    "for _, row in df_token_cleaned.iterrows():\n",
    "    counts.update(row.reviewText)\n",
    "\n",
    "print(\"num_words before:\",len(counts.keys()))\n",
    "for word in list(counts):\n",
    "    if counts[word] < 5:\n",
    "        del counts[word]\n",
    "print(\"num_words after:\",len(counts.keys()))\n",
    "\n",
    "\n",
    "for index, row in df_token_cleaned.iterrows():\n",
    "    df_token_cleaned.at[index, 'reviewText'] = [x for x in row.reviewText if x in counts.keys()]   \n",
    "\n",
    "df_token_cleaned.head()"
   ]
  },
  {
   "cell_type": "markdown",
   "metadata": {},
   "source": [
    "### Lemmatization "
   ]
  },
  {
   "cell_type": "code",
   "execution_count": 92,
   "metadata": {},
   "outputs": [
    {
     "data": {
      "text/html": [
       "<div>\n",
       "<style scoped>\n",
       "    .dataframe tbody tr th:only-of-type {\n",
       "        vertical-align: middle;\n",
       "    }\n",
       "\n",
       "    .dataframe tbody tr th {\n",
       "        vertical-align: top;\n",
       "    }\n",
       "\n",
       "    .dataframe thead th {\n",
       "        text-align: right;\n",
       "    }\n",
       "</style>\n",
       "<table border=\"1\" class=\"dataframe\">\n",
       "  <thead>\n",
       "    <tr style=\"text-align: right;\">\n",
       "      <th></th>\n",
       "      <th>overall</th>\n",
       "      <th>reviewText</th>\n",
       "    </tr>\n",
       "  </thead>\n",
       "  <tbody>\n",
       "    <tr>\n",
       "      <th>0</th>\n",
       "      <td>1</td>\n",
       "      <td>[run, away, horribly, cheap, shoddy, item, som...</td>\n",
       "    </tr>\n",
       "    <tr>\n",
       "      <th>1</th>\n",
       "      <td>1</td>\n",
       "      <td>[terrible, smell, unable, to, use, i, think, w...</td>\n",
       "    </tr>\n",
       "    <tr>\n",
       "      <th>2</th>\n",
       "      <td>1</td>\n",
       "      <td>[ran, out, of, ink, in, minute]</td>\n",
       "    </tr>\n",
       "    <tr>\n",
       "      <th>3</th>\n",
       "      <td>1</td>\n",
       "      <td>[received, with, no, content, envelope, torn, ...</td>\n",
       "    </tr>\n",
       "    <tr>\n",
       "      <th>4</th>\n",
       "      <td>1</td>\n",
       "      <td>[hole, for, strap, pin, are, too, small, for, ...</td>\n",
       "    </tr>\n",
       "  </tbody>\n",
       "</table>\n",
       "</div>"
      ],
      "text/plain": [
       "   overall                                         reviewText\n",
       "0        1  [run, away, horribly, cheap, shoddy, item, som...\n",
       "1        1  [terrible, smell, unable, to, use, i, think, w...\n",
       "2        1                    [ran, out, of, ink, in, minute]\n",
       "3        1  [received, with, no, content, envelope, torn, ...\n",
       "4        1  [hole, for, strap, pin, are, too, small, for, ..."
      ]
     },
     "execution_count": 92,
     "metadata": {},
     "output_type": "execute_result"
    }
   ],
   "source": [
    "lemmatizer = WordNetLemmatizer()\n",
    "\n",
    "df_lemm = df_token_cleaned.copy()\n",
    "df_lemm.reviewText = df_lemm.apply(lambda row: [lemmatizer.lemmatize(x) for x in row.reviewText], axis=1)\n",
    "df_lemm.head()"
   ]
  },
  {
   "cell_type": "markdown",
   "metadata": {},
   "source": [
    "### Stemming\n",
    "\n",
    "Stemming ist used additionally to lemtization, because time forms were not normalized"
   ]
  },
  {
   "cell_type": "code",
   "execution_count": 93,
   "metadata": {},
   "outputs": [
    {
     "data": {
      "text/html": [
       "<div>\n",
       "<style scoped>\n",
       "    .dataframe tbody tr th:only-of-type {\n",
       "        vertical-align: middle;\n",
       "    }\n",
       "\n",
       "    .dataframe tbody tr th {\n",
       "        vertical-align: top;\n",
       "    }\n",
       "\n",
       "    .dataframe thead th {\n",
       "        text-align: right;\n",
       "    }\n",
       "</style>\n",
       "<table border=\"1\" class=\"dataframe\">\n",
       "  <thead>\n",
       "    <tr style=\"text-align: right;\">\n",
       "      <th></th>\n",
       "      <th>overall</th>\n",
       "      <th>reviewText</th>\n",
       "    </tr>\n",
       "  </thead>\n",
       "  <tbody>\n",
       "    <tr>\n",
       "      <th>0</th>\n",
       "      <td>1</td>\n",
       "      <td>[run, away, horribl, cheap, shoddi, item, some...</td>\n",
       "    </tr>\n",
       "    <tr>\n",
       "      <th>1</th>\n",
       "      <td>1</td>\n",
       "      <td>[terribl, smell, unabl, to, use, i, think, wha...</td>\n",
       "    </tr>\n",
       "    <tr>\n",
       "      <th>2</th>\n",
       "      <td>1</td>\n",
       "      <td>[ran, out, of, ink, in, minut]</td>\n",
       "    </tr>\n",
       "    <tr>\n",
       "      <th>3</th>\n",
       "      <td>1</td>\n",
       "      <td>[receiv, with, no, content, envelop, torn, open]</td>\n",
       "    </tr>\n",
       "    <tr>\n",
       "      <th>4</th>\n",
       "      <td>1</td>\n",
       "      <td>[hole, for, strap, pin, are, too, small, for, ...</td>\n",
       "    </tr>\n",
       "  </tbody>\n",
       "</table>\n",
       "</div>"
      ],
      "text/plain": [
       "   overall                                         reviewText\n",
       "0        1  [run, away, horribl, cheap, shoddi, item, some...\n",
       "1        1  [terribl, smell, unabl, to, use, i, think, wha...\n",
       "2        1                     [ran, out, of, ink, in, minut]\n",
       "3        1   [receiv, with, no, content, envelop, torn, open]\n",
       "4        1  [hole, for, strap, pin, are, too, small, for, ..."
      ]
     },
     "execution_count": 93,
     "metadata": {},
     "output_type": "execute_result"
    }
   ],
   "source": [
    "stemmer = PorterStemmer()\n",
    "\n",
    "df_stemm = df_lemm.copy()\n",
    "df_stemm.reviewText = df_stemm.apply(lambda row: [stemmer.stem(x) for x in row.reviewText], axis=1)\n",
    "df_stemm.head()"
   ]
  },
  {
   "cell_type": "markdown",
   "metadata": {},
   "source": [
    "### Stopword removal"
   ]
  },
  {
   "cell_type": "code",
   "execution_count": 94,
   "metadata": {},
   "outputs": [
    {
     "data": {
      "text/html": [
       "<div>\n",
       "<style scoped>\n",
       "    .dataframe tbody tr th:only-of-type {\n",
       "        vertical-align: middle;\n",
       "    }\n",
       "\n",
       "    .dataframe tbody tr th {\n",
       "        vertical-align: top;\n",
       "    }\n",
       "\n",
       "    .dataframe thead th {\n",
       "        text-align: right;\n",
       "    }\n",
       "</style>\n",
       "<table border=\"1\" class=\"dataframe\">\n",
       "  <thead>\n",
       "    <tr style=\"text-align: right;\">\n",
       "      <th></th>\n",
       "      <th>overall</th>\n",
       "      <th>reviewText</th>\n",
       "    </tr>\n",
       "  </thead>\n",
       "  <tbody>\n",
       "    <tr>\n",
       "      <th>0</th>\n",
       "      <td>1</td>\n",
       "      <td>[run, away, horribl, cheap, shoddi, item, some...</td>\n",
       "    </tr>\n",
       "    <tr>\n",
       "      <th>1</th>\n",
       "      <td>1</td>\n",
       "      <td>[terribl, smell, unabl, use, think, whatev, ma...</td>\n",
       "    </tr>\n",
       "    <tr>\n",
       "      <th>2</th>\n",
       "      <td>1</td>\n",
       "      <td>[ran, ink, minut]</td>\n",
       "    </tr>\n",
       "    <tr>\n",
       "      <th>3</th>\n",
       "      <td>1</td>\n",
       "      <td>[receiv, content, envelop, torn, open]</td>\n",
       "    </tr>\n",
       "    <tr>\n",
       "      <th>4</th>\n",
       "      <td>1</td>\n",
       "      <td>[hole, strap, pin, small, normal, acoust, guit...</td>\n",
       "    </tr>\n",
       "  </tbody>\n",
       "</table>\n",
       "</div>"
      ],
      "text/plain": [
       "   overall                                         reviewText\n",
       "0        1  [run, away, horribl, cheap, shoddi, item, some...\n",
       "1        1  [terribl, smell, unabl, use, think, whatev, ma...\n",
       "2        1                                  [ran, ink, minut]\n",
       "3        1             [receiv, content, envelop, torn, open]\n",
       "4        1  [hole, strap, pin, small, normal, acoust, guit..."
      ]
     },
     "execution_count": 94,
     "metadata": {},
     "output_type": "execute_result"
    }
   ],
   "source": [
    "stopwords_en = stopwords.words('english')\n",
    "\n",
    "df_removed_stopwords = df_stemm.copy()\n",
    "df_removed_stopwords.reviewText = df_removed_stopwords.apply(lambda row: [x for x in row.reviewText if x not in stopwords_en and x not in ['\\n', '\\r']], axis=1)\n",
    "df_removed_stopwords.head()"
   ]
  },
  {
   "cell_type": "markdown",
   "metadata": {},
   "source": [
    "### Define final"
   ]
  },
  {
   "cell_type": "code",
   "execution_count": 95,
   "metadata": {},
   "outputs": [
    {
     "data": {
      "text/html": [
       "<div>\n",
       "<style scoped>\n",
       "    .dataframe tbody tr th:only-of-type {\n",
       "        vertical-align: middle;\n",
       "    }\n",
       "\n",
       "    .dataframe tbody tr th {\n",
       "        vertical-align: top;\n",
       "    }\n",
       "\n",
       "    .dataframe thead th {\n",
       "        text-align: right;\n",
       "    }\n",
       "</style>\n",
       "<table border=\"1\" class=\"dataframe\">\n",
       "  <thead>\n",
       "    <tr style=\"text-align: right;\">\n",
       "      <th></th>\n",
       "      <th>overall</th>\n",
       "      <th>reviewText</th>\n",
       "    </tr>\n",
       "  </thead>\n",
       "  <tbody>\n",
       "    <tr>\n",
       "      <th>0</th>\n",
       "      <td>1</td>\n",
       "      <td>[run, away, horribly, cheap, shoddy, items, so...</td>\n",
       "    </tr>\n",
       "    <tr>\n",
       "      <th>1</th>\n",
       "      <td>1</td>\n",
       "      <td>[terrible, smell, unable, to, use, i, think, w...</td>\n",
       "    </tr>\n",
       "    <tr>\n",
       "      <th>2</th>\n",
       "      <td>1</td>\n",
       "      <td>[ran, out, of, ink, in, minutes]</td>\n",
       "    </tr>\n",
       "    <tr>\n",
       "      <th>3</th>\n",
       "      <td>1</td>\n",
       "      <td>[received, with, no, contents, envelope, torn,...</td>\n",
       "    </tr>\n",
       "    <tr>\n",
       "      <th>4</th>\n",
       "      <td>1</td>\n",
       "      <td>[holes, for, strap, pins, are, too, small, for...</td>\n",
       "    </tr>\n",
       "    <tr>\n",
       "      <th>...</th>\n",
       "      <td>...</td>\n",
       "      <td>...</td>\n",
       "    </tr>\n",
       "    <tr>\n",
       "      <th>99995</th>\n",
       "      <td>5</td>\n",
       "      <td>[great, for, kids, art]</td>\n",
       "    </tr>\n",
       "    <tr>\n",
       "      <th>99996</th>\n",
       "      <td>5</td>\n",
       "      <td>[love, it, sewing, is, so, much, fun, when, yo...</td>\n",
       "    </tr>\n",
       "    <tr>\n",
       "      <th>99997</th>\n",
       "      <td>5</td>\n",
       "      <td>[there, are, a, couple, i, havent, used, yet, ...</td>\n",
       "    </tr>\n",
       "    <tr>\n",
       "      <th>99998</th>\n",
       "      <td>5</td>\n",
       "      <td>[this, was, a, great, gift]</td>\n",
       "    </tr>\n",
       "    <tr>\n",
       "      <th>99999</th>\n",
       "      <td>5</td>\n",
       "      <td>[nice, guitar, for, the, money]</td>\n",
       "    </tr>\n",
       "  </tbody>\n",
       "</table>\n",
       "<p>99875 rows × 2 columns</p>\n",
       "</div>"
      ],
      "text/plain": [
       "       overall                                         reviewText\n",
       "0            1  [run, away, horribly, cheap, shoddy, items, so...\n",
       "1            1  [terrible, smell, unable, to, use, i, think, w...\n",
       "2            1                   [ran, out, of, ink, in, minutes]\n",
       "3            1  [received, with, no, contents, envelope, torn,...\n",
       "4            1  [holes, for, strap, pins, are, too, small, for...\n",
       "...        ...                                                ...\n",
       "99995        5                            [great, for, kids, art]\n",
       "99996        5  [love, it, sewing, is, so, much, fun, when, yo...\n",
       "99997        5  [there, are, a, couple, i, havent, used, yet, ...\n",
       "99998        5                        [this, was, a, great, gift]\n",
       "99999        5                    [nice, guitar, for, the, money]\n",
       "\n",
       "[99875 rows x 2 columns]"
      ]
     },
     "execution_count": 95,
     "metadata": {},
     "output_type": "execute_result"
    }
   ],
   "source": [
    "df_final = df_token_cleaned[df_token_cleaned.reviewText.map(lambda d: len(d)) > 0]\n",
    "\n",
    "df_final"
   ]
  },
  {
   "cell_type": "markdown",
   "metadata": {},
   "source": [
    "## Data Exploration II"
   ]
  },
  {
   "cell_type": "code",
   "execution_count": 96,
   "metadata": {},
   "outputs": [
    {
     "data": {
      "image/png": "[encoded data removed]",
      "text/plain": [
       "<Figure size 432x288 with 1 Axes>"
      ]
     },
     "metadata": {
      "needs_background": "light"
     },
     "output_type": "display_data"
    }
   ],
   "source": [
    "word_list = df_final.reviewText.tolist()\n",
    "word_list = [i for j in word_list for i in j]\n",
    "\n",
    "word_list_text = ' '.join(word_list)\n",
    "\n",
    "wordcloud = WordCloud().generate(word_list_text)\n",
    "plt.imshow(wordcloud, interpolation=\"bilinear\")\n",
    "plt.show()"
   ]
  },
  {
   "cell_type": "code",
   "execution_count": 97,
   "metadata": {},
   "outputs": [
    {
     "data": {
      "text/plain": [
       "<seaborn.axisgrid.FacetGrid at 0x134b5cf2e20>"
      ]
     },
     "execution_count": 97,
     "metadata": {},
     "output_type": "execute_result"
    },
    {
     "data": {
      "image/png": "[encoded data removed]",
      "text/plain": [
       "<Figure size 360x360 with 1 Axes>"
      ]
     },
     "metadata": {
      "needs_background": "light"
     },
     "output_type": "display_data"
    }
   ],
   "source": [
    "word_counts = [df_final.reviewText.apply(len)][0]\n",
    "word_counts = [x for x in word_counts if x < 100]\n",
    "\n",
    "sns.displot(word_counts, kde=True)"
   ]
  },
  {
   "cell_type": "code",
   "execution_count": 98,
   "metadata": {},
   "outputs": [
    {
     "data": {
      "text/plain": [
       "[['very', 'bad', 'quality'],\n",
       " ['not', 'worth', 'the', 'effort'],\n",
       " ['will', 'return'],\n",
       " ['fine'],\n",
       " ['bad', 'suction'],\n",
       " ['poor', 'quality'],\n",
       " ['too', 'small'],\n",
       " ['this', 'is', 'fine'],\n",
       " ['poor', 'quality'],\n",
       " ['pure', 'junk']]"
      ]
     },
     "execution_count": 98,
     "metadata": {},
     "output_type": "execute_result"
    }
   ],
   "source": [
    "[x for x in df_final.reviewText if len(x) < 5][:10]\n"
   ]
  },
  {
   "cell_type": "markdown",
   "metadata": {},
   "source": [
    "These results with just one word seem plausible, thus they will be included"
   ]
  },
  {
   "cell_type": "markdown",
   "metadata": {},
   "source": [
    "## Feature Representation"
   ]
  },
  {
   "cell_type": "markdown",
   "metadata": {},
   "source": [
    "### n-Gram"
   ]
  },
  {
   "cell_type": "code",
   "execution_count": 99,
   "metadata": {},
   "outputs": [
    {
     "name": "stderr",
     "output_type": "stream",
     "text": [
      "C:\\Users\\micha\\anaconda3\\envs\\AIAPP_NLP\\lib\\site-packages\\numpy\\core\\_asarray.py:102: VisibleDeprecationWarning: Creating an ndarray from ragged nested sequences (which is a list-or-tuple of lists-or-tuples-or ndarrays with different lengths or shapes) is deprecated. If you meant to do this, you must specify 'dtype=object' when creating the ndarray.\n",
      "  return array(a, dtype, copy=False, order=order)\n"
     ]
    },
    {
     "data": {
      "text/html": [
       "<div>\n",
       "<style scoped>\n",
       "    .dataframe tbody tr th:only-of-type {\n",
       "        vertical-align: middle;\n",
       "    }\n",
       "\n",
       "    .dataframe tbody tr th {\n",
       "        vertical-align: top;\n",
       "    }\n",
       "\n",
       "    .dataframe thead th {\n",
       "        text-align: right;\n",
       "    }\n",
       "</style>\n",
       "<table border=\"1\" class=\"dataframe\">\n",
       "  <thead>\n",
       "    <tr style=\"text-align: right;\">\n",
       "      <th></th>\n",
       "      <th>overall</th>\n",
       "      <th>reviewText</th>\n",
       "      <th>ngram</th>\n",
       "    </tr>\n",
       "  </thead>\n",
       "  <tbody>\n",
       "    <tr>\n",
       "      <th>0</th>\n",
       "      <td>1</td>\n",
       "      <td>[run, away, horribly, cheap, shoddy, items, so...</td>\n",
       "      <td>[(run, away, horribly), (away, horribly, cheap...</td>\n",
       "    </tr>\n",
       "    <tr>\n",
       "      <th>1</th>\n",
       "      <td>1</td>\n",
       "      <td>[terrible, smell, unable, to, use, i, think, w...</td>\n",
       "      <td>[(terrible, smell, unable), (smell, unable, to...</td>\n",
       "    </tr>\n",
       "    <tr>\n",
       "      <th>2</th>\n",
       "      <td>1</td>\n",
       "      <td>[ran, out, of, ink, in, minutes]</td>\n",
       "      <td>[(ran, out, of), (out, of, ink), (of, ink, in)...</td>\n",
       "    </tr>\n",
       "    <tr>\n",
       "      <th>3</th>\n",
       "      <td>1</td>\n",
       "      <td>[received, with, no, contents, envelope, torn,...</td>\n",
       "      <td>[(received, with, no), (with, no, contents), (...</td>\n",
       "    </tr>\n",
       "    <tr>\n",
       "      <th>4</th>\n",
       "      <td>1</td>\n",
       "      <td>[holes, for, strap, pins, are, too, small, for...</td>\n",
       "      <td>[(holes, for, strap), (for, strap, pins), (str...</td>\n",
       "    </tr>\n",
       "    <tr>\n",
       "      <th>...</th>\n",
       "      <td>...</td>\n",
       "      <td>...</td>\n",
       "      <td>...</td>\n",
       "    </tr>\n",
       "    <tr>\n",
       "      <th>99995</th>\n",
       "      <td>5</td>\n",
       "      <td>[great, for, kids, art]</td>\n",
       "      <td>[(great, for, kids), (for, kids, art)]</td>\n",
       "    </tr>\n",
       "    <tr>\n",
       "      <th>99996</th>\n",
       "      <td>5</td>\n",
       "      <td>[love, it, sewing, is, so, much, fun, when, yo...</td>\n",
       "      <td>[(love, it, sewing), (it, sewing, is), (sewing...</td>\n",
       "    </tr>\n",
       "    <tr>\n",
       "      <th>99997</th>\n",
       "      <td>5</td>\n",
       "      <td>[there, are, a, couple, i, havent, used, yet, ...</td>\n",
       "      <td>[(there, are, a), (are, a, couple), (a, couple...</td>\n",
       "    </tr>\n",
       "    <tr>\n",
       "      <th>99998</th>\n",
       "      <td>5</td>\n",
       "      <td>[this, was, a, great, gift]</td>\n",
       "      <td>[(this, was, a), (was, a, great), (a, great, g...</td>\n",
       "    </tr>\n",
       "    <tr>\n",
       "      <th>99999</th>\n",
       "      <td>5</td>\n",
       "      <td>[nice, guitar, for, the, money]</td>\n",
       "      <td>[(nice, guitar, for), (guitar, for, the), (for...</td>\n",
       "    </tr>\n",
       "  </tbody>\n",
       "</table>\n",
       "<p>99875 rows × 3 columns</p>\n",
       "</div>"
      ],
      "text/plain": [
       "       overall                                         reviewText  \\\n",
       "0            1  [run, away, horribly, cheap, shoddy, items, so...   \n",
       "1            1  [terrible, smell, unable, to, use, i, think, w...   \n",
       "2            1                   [ran, out, of, ink, in, minutes]   \n",
       "3            1  [received, with, no, contents, envelope, torn,...   \n",
       "4            1  [holes, for, strap, pins, are, too, small, for...   \n",
       "...        ...                                                ...   \n",
       "99995        5                            [great, for, kids, art]   \n",
       "99996        5  [love, it, sewing, is, so, much, fun, when, yo...   \n",
       "99997        5  [there, are, a, couple, i, havent, used, yet, ...   \n",
       "99998        5                        [this, was, a, great, gift]   \n",
       "99999        5                    [nice, guitar, for, the, money]   \n",
       "\n",
       "                                                   ngram  \n",
       "0      [(run, away, horribly), (away, horribly, cheap...  \n",
       "1      [(terrible, smell, unable), (smell, unable, to...  \n",
       "2      [(ran, out, of), (out, of, ink), (of, ink, in)...  \n",
       "3      [(received, with, no), (with, no, contents), (...  \n",
       "4      [(holes, for, strap), (for, strap, pins), (str...  \n",
       "...                                                  ...  \n",
       "99995             [(great, for, kids), (for, kids, art)]  \n",
       "99996  [(love, it, sewing), (it, sewing, is), (sewing...  \n",
       "99997  [(there, are, a), (are, a, couple), (a, couple...  \n",
       "99998  [(this, was, a), (was, a, great), (a, great, g...  \n",
       "99999  [(nice, guitar, for), (guitar, for, the), (for...  \n",
       "\n",
       "[99875 rows x 3 columns]"
      ]
     },
     "execution_count": 99,
     "metadata": {},
     "output_type": "execute_result"
    }
   ],
   "source": [
    "n = 3\n",
    "ngram = ngrams(df_final.reviewText, n)\n",
    "\n",
    "df_ngram = df_final.copy()\n",
    "df_ngram['ngram'] = df_ngram.reviewText\n",
    "\n",
    "df_ngram.loc[df_ngram.reviewText.apply(len) >= n, 'ngram'] = [list(ngrams(x, n)) for x in df_ngram.reviewText if len(x) >= n]\n",
    "\n",
    "df_ngram"
   ]
  },
  {
   "cell_type": "markdown",
   "metadata": {},
   "source": [
    "### TF-IDF"
   ]
  },
  {
   "cell_type": "code",
   "execution_count": 100,
   "metadata": {},
   "outputs": [
    {
     "data": {
      "text/plain": [
       "[('run', 13401),\n",
       " ('away', 966),\n",
       " ('horribly', 7329),\n",
       " ('cheap', 2369),\n",
       " ('shoddy', 14071),\n",
       " ('items', 8093),\n",
       " ('something', 14609),\n",
       " ('is', 8038),\n",
       " ('too', 16294),\n",
       " ('much', 9976)]"
      ]
     },
     "execution_count": 100,
     "metadata": {},
     "output_type": "execute_result"
    }
   ],
   "source": [
    "def take(n, iterable):\n",
    "    return list(islice(iterable, n))\n",
    "\n",
    "vectorizer = TfidfVectorizer(\n",
    "    analyzer='word',\n",
    "    tokenizer=(lambda x:x),\n",
    "    preprocessor=(lambda x:x),\n",
    "    token_pattern=None\n",
    ")\n",
    "\n",
    "vectorizer.fit(df_final.reviewText)\n",
    "take(10, vectorizer.vocabulary_.items())"
   ]
  },
  {
   "cell_type": "markdown",
   "metadata": {},
   "source": [
    "### Word2Vec and Sentenec Vectors"
   ]
  },
  {
   "cell_type": "code",
   "execution_count": 101,
   "metadata": {},
   "outputs": [],
   "source": [
    "w2v_model = Word2Vec(df_final.reviewText, vector_size=100, window=5, min_count=2)\n",
    "\n",
    "def getSentenceAvgFromW2V(df):\n",
    "    words = set(w2v_model.wv.index_to_key )\n",
    "    vect = np.array([np.array([w2v_model.wv[i] for i in ls if i in words]) for ls in df.reviewText])\n",
    "\n",
    "    vect_avg = []\n",
    "    for v in vect:\n",
    "        if v.size:\n",
    "            vect_avg.append(v.mean(axis=0))\n",
    "        else:\n",
    "            vect_avg.append(np.zeros(100, dtype=float))\n",
    "\n",
    "    return vect_avg"
   ]
  },
  {
   "cell_type": "markdown",
   "metadata": {},
   "source": [
    "## Clustering"
   ]
  },
  {
   "cell_type": "markdown",
   "metadata": {},
   "source": [
    "### Preparing Sample\n",
    "A sample is needed because of memory Reasons"
   ]
  },
  {
   "cell_type": "code",
   "execution_count": 102,
   "metadata": {},
   "outputs": [
    {
     "data": {
      "text/plain": [
       "array([[0.        , 0.        , 0.        , ..., 0.        , 0.        ,\n",
       "        0.        ],\n",
       "       [0.2502811 , 0.        , 0.        , ..., 0.        , 0.        ,\n",
       "        0.        ],\n",
       "       [0.        , 0.        , 0.        , ..., 0.        , 0.        ,\n",
       "        0.        ],\n",
       "       ...,\n",
       "       [0.        , 0.        , 0.        , ..., 0.        , 0.        ,\n",
       "        0.        ],\n",
       "       [0.10474177, 0.        , 0.        , ..., 0.        , 0.        ,\n",
       "        0.        ],\n",
       "       [0.15050837, 0.        , 0.        , ..., 0.        , 0.        ,\n",
       "        0.        ]])"
      ]
     },
     "execution_count": 102,
     "metadata": {},
     "output_type": "execute_result"
    }
   ],
   "source": [
    "if final_Execution:\n",
    "    df_sample = df_final\n",
    "else:\n",
    "    df_sample = df_final.sample(n=(int)(sampling_size/20))\n",
    "X = vectorizer.transform(df_sample.reviewText)\n",
    "X.toarray()"
   ]
  },
  {
   "cell_type": "markdown",
   "metadata": {},
   "source": [
    "## KMeans + PCA"
   ]
  },
  {
   "cell_type": "code",
   "execution_count": 103,
   "metadata": {},
   "outputs": [],
   "source": [
    "# do Ellbow Plot only for final Execution, as this takes a very long time\n",
    "\n",
    "if final_Execution:\n",
    "    distortions = []\n",
    "    K = range(1,20)\n",
    "    for k in K:\n",
    "        kmeanModel = KMeans(n_clusters=k).fit(X)\n",
    "        distortions.append(kmeanModel.inertia_)    \n",
    "\n",
    "    plt.plot(K, distortions, 'bx-')\n",
    "    plt.xlabel('k')\n",
    "    plt.ylabel('Distortion')\n",
    "    plt.title('The Elbow Method showing the optimal k')\n",
    "    plt.show()\n",
    "\n"
   ]
  },
  {
   "cell_type": "markdown",
   "metadata": {},
   "source": [
    "Upper Limit of 20, because the Optimum (~35) cannot be displayed"
   ]
  },
  {
   "cell_type": "code",
   "execution_count": 104,
   "metadata": {},
   "outputs": [
    {
     "name": "stdout",
     "output_type": "stream",
     "text": [
      "\n",
      "Cluster 0\n",
      "felting,not,though,stencil,buy,for,product,price,very,good\n",
      "\n",
      "Cluster 1\n",
      "for,of,this,is,and,a,to,it,i,the\n",
      "\n",
      "Cluster 2\n",
      "travel,filament,moneythe,fabric,brush,capo,but,thin,very,nice\n",
      "\n",
      "Cluster 3\n",
      "formulations,formulation,formulated,formulas,fort,was,its,it,s,ok\n",
      "\n",
      "Cluster 4\n",
      "very,it,not,and,i,to,a,for,great,the\n"
     ]
    },
    {
     "data": {
      "image/png": "[encoded data removed]",
      "text/plain": [
       "<Figure size 864x504 with 1 Axes>"
      ]
     },
     "metadata": {
      "needs_background": "light"
     },
     "output_type": "display_data"
    }
   ],
   "source": [
    "def get_top_keywords(n_terms):\n",
    "    \"\"\"This function returns the keywords for each centroid of the KMeans\"\"\"\n",
    "    df = pd.DataFrame(X.todense()).groupby(clusters).mean() # groups the TF-IDF vector by cluster\n",
    "    terms = vectorizer.get_feature_names_out() # access tf-idf terms\n",
    "    for i,r in df.iterrows():\n",
    "        print('\\nCluster {}'.format(i))\n",
    "        print(','.join([terms[t] for t in np.argsort(r)[-n_terms:]])) # for each row of the dataframe, find the n terms that have the highest tf idf score\n",
    "            \n",
    "kmeans = KMeans(n_clusters=5, random_state=42)\n",
    "kmeans.fit(X)\n",
    "clusters = kmeans.labels_\n",
    "\n",
    "pca = PCA(n_components=2, random_state=42)\n",
    "pca_vecs = pca.fit_transform(X.toarray())\n",
    "\n",
    "df_sample['cluster'] = clusters\n",
    "df_sample['x0'] = pca_vecs[:, 0]\n",
    "df_sample['x1'] = pca_vecs[:, 1]\n",
    "\n",
    "get_top_keywords(10)\n",
    "\n",
    "plt.figure(figsize=(12, 7))\n",
    "plt.title(\"TF-IDF + KMeans clustering\")\n",
    "sns.scatterplot(data=df_sample, x='x0', y='x1', hue='cluster')\n",
    "plt.show()"
   ]
  },
  {
   "cell_type": "markdown",
   "metadata": {},
   "source": [
    "### TSNE"
   ]
  },
  {
   "cell_type": "code",
   "execution_count": 105,
   "metadata": {},
   "outputs": [
    {
     "name": "stderr",
     "output_type": "stream",
     "text": [
      "C:\\Users\\micha\\anaconda3\\envs\\AIAPP_NLP\\lib\\site-packages\\sklearn\\manifold\\_t_sne.py:780: FutureWarning: The default initialization in TSNE will change from 'random' to 'pca' in 1.2.\n",
      "  warnings.warn(\n",
      "C:\\Users\\micha\\anaconda3\\envs\\AIAPP_NLP\\lib\\site-packages\\sklearn\\manifold\\_t_sne.py:790: FutureWarning: The default learning rate in TSNE will change from 200.0 to 'auto' in 1.2.\n",
      "  warnings.warn(\n"
     ]
    },
    {
     "name": "stdout",
     "output_type": "stream",
     "text": [
      "[t-SNE] Computing 7 nearest neighbors...\n",
      "[t-SNE] Indexed 1000 samples in 0.000s...\n",
      "[t-SNE] Computed neighbors for 1000 samples in 0.031s...\n",
      "[t-SNE] Computed conditional probabilities for sample 1000 / 1000\n",
      "[t-SNE] Mean sigma: 0.000000\n",
      "[t-SNE] KL divergence after 250 iterations with early exaggeration: 101.764267\n",
      "[t-SNE] KL divergence after 1000 iterations: 1.464438\n"
     ]
    },
    {
     "data": {
      "image/png": "[encoded data removed]",
      "text/plain": [
       "<Figure size 864x504 with 1 Axes>"
      ]
     },
     "metadata": {
      "needs_background": "light"
     },
     "output_type": "display_data"
    }
   ],
   "source": [
    "model = TSNE(n_components=2, verbose=1, perplexity=2)\n",
    "z = model.fit_transform(X)\n",
    "\n",
    "#df_sample['cluster'] = clusters\n",
    "df_sample['x0'] = z[:,0]\n",
    "df_sample['x1'] = z[:,1]\n",
    "\n",
    "plt.figure(figsize=(12, 7))\n",
    "plt.title(\"TSNE clustering\")\n",
    "sns.scatterplot(data=df_sample, x='x0', y='x1', hue='overall')\n",
    "plt.show()"
   ]
  },
  {
   "cell_type": "markdown",
   "metadata": {},
   "source": [
    "## UMAP"
   ]
  },
  {
   "cell_type": "code",
   "execution_count": 106,
   "metadata": {},
   "outputs": [
    {
     "data": {
      "image/png": "[encoded data removed]",
      "text/plain": [
       "<Figure size 864x504 with 1 Axes>"
      ]
     },
     "metadata": {
      "needs_background": "light"
     },
     "output_type": "display_data"
    }
   ],
   "source": [
    "reducer = UMAP(n_neighbors=20, min_dist=0.8)\n",
    "v_embed = reducer.fit_transform(X)\n",
    "\n",
    "df_sample['x0'] = v_embed[:,0]\n",
    "df_sample['x1'] = v_embed[:,1]\n",
    "\n",
    "plt.figure(figsize=(12, 7))\n",
    "plt.title(\"UMAP clustering\")\n",
    "sns.scatterplot(x=\"x0\", y=\"x1\", data=df_sample, hue='overall')\n",
    "plt.show()"
   ]
  },
  {
   "cell_type": "markdown",
   "metadata": {},
   "source": [
    "# Preditction using Regression\n",
    "\n",
    "We will try two different approaches to predict the classes. Firstly we will try Regression, to find out if an approach weighting their similarity is suitable (A review rating 2 is more similar to a review rating 3 than a review rating 5).\n",
    "\n",
    "To do this we will use 4 approaches:\n",
    "- SVR\n",
    "- Random Forrest Regressor\n",
    "- LSTM \n",
    "- Transformer"
   ]
  },
  {
   "cell_type": "markdown",
   "metadata": {},
   "source": [
    "## SVR"
   ]
  },
  {
   "cell_type": "code",
   "execution_count": 107,
   "metadata": {},
   "outputs": [
    {
     "name": "stdout",
     "output_type": "stream",
     "text": [
      "MRSE: 1.3755016428258449\n"
     ]
    },
    {
     "name": "stderr",
     "output_type": "stream",
     "text": [
      "C:\\Users\\micha\\AppData\\Local\\Temp\\ipykernel_30532\\1217449317.py:5: VisibleDeprecationWarning: Creating an ndarray from ragged nested sequences (which is a list-or-tuple of lists-or-tuples-or ndarrays with different lengths or shapes) is deprecated. If you meant to do this, you must specify 'dtype=object' when creating the ndarray.\n",
      "  vect = np.array([np.array([w2v_model.wv[i] for i in ls if i in words]) for ls in df.reviewText])\n"
     ]
    }
   ],
   "source": [
    "x = getSentenceAvgFromW2V(df_sample)\n",
    "y = df_sample.overall.values\n",
    "\n",
    "x_train_total, x_test, y_train_total, y_test = train_test_split(x, y, test_size=0.2)\n",
    "x_train, x_val, y_train, y_val = train_test_split(x_train_total, y_train_total, test_size=0.2)\n",
    "\n",
    "svr_model = SVR()\n",
    "svr_model.fit(x_train, y_train)\n",
    "\n",
    "y_pred = svr_model.predict(x_val)\n",
    "print('MRSE:', mean_squared_error(y_val, y_pred))"
   ]
  },
  {
   "cell_type": "markdown",
   "metadata": {},
   "source": [
    "## Random Forrest"
   ]
  },
  {
   "cell_type": "code",
   "execution_count": 108,
   "metadata": {},
   "outputs": [
    {
     "name": "stderr",
     "output_type": "stream",
     "text": [
      "C:\\Users\\micha\\AppData\\Local\\Temp\\ipykernel_30532\\1217449317.py:5: VisibleDeprecationWarning: Creating an ndarray from ragged nested sequences (which is a list-or-tuple of lists-or-tuples-or ndarrays with different lengths or shapes) is deprecated. If you meant to do this, you must specify 'dtype=object' when creating the ndarray.\n",
      "  vect = np.array([np.array([w2v_model.wv[i] for i in ls if i in words]) for ls in df.reviewText])\n"
     ]
    },
    {
     "name": "stdout",
     "output_type": "stream",
     "text": [
      "MRSE: 1.22430445490111\n"
     ]
    }
   ],
   "source": [
    "x = getSentenceAvgFromW2V(df_sample)\n",
    "y = df_sample.overall.values\n",
    "\n",
    "x_train_total, x_test, y_train_total, y_test = train_test_split(x, y, test_size=0.2)\n",
    "x_train, x_val, y_train, y_val = train_test_split(x_train_total, y_train_total, test_size=0.2)\n",
    "\n",
    "rfr_model = RandomForestRegressor()\n",
    "rfr_model.fit(x_train, y_train)\n",
    "\n",
    "y_pred = rfr_model.predict(x_val)\n",
    "print('MRSE:', mean_squared_error(y_val, y_pred))"
   ]
  },
  {
   "cell_type": "markdown",
   "metadata": {},
   "source": [
    "## Pytorch"
   ]
  },
  {
   "cell_type": "markdown",
   "metadata": {},
   "source": [
    "### Pytorch Preprocessing"
   ]
  },
  {
   "cell_type": "code",
   "execution_count": 109,
   "metadata": {},
   "outputs": [
    {
     "name": "stderr",
     "output_type": "stream",
     "text": [
      "C:\\Users\\micha\\AppData\\Local\\Temp\\ipykernel_30532\\1532207141.py:14: VisibleDeprecationWarning: Creating an ndarray from ragged nested sequences (which is a list-or-tuple of lists-or-tuples-or ndarrays with different lengths or shapes) is deprecated. If you meant to do this, you must specify 'dtype=object' when creating the ndarray.\n",
      "  df_sample['encoded'] = df_sample['reviewText'].apply(lambda x: np.array(encode_sentence(x,vocab2index )))\n"
     ]
    }
   ],
   "source": [
    "vocab2index = {\"\":0, \"UNK\":1}\n",
    "words = [\"\", \"UNK\"]\n",
    "for word in counts:\n",
    "    vocab2index[word] = len(words)\n",
    "    words.append(word)\n",
    "\n",
    "def encode_sentence(tokenized, vocab2index, N=70):\n",
    "    encoded = np.zeros(N, dtype=int)\n",
    "    enc1 = np.array([vocab2index.get(word, vocab2index[\"UNK\"]) for word in tokenized])\n",
    "    length = min(N, len(enc1))\n",
    "    encoded[:length] = enc1[:length]\n",
    "    return encoded, length\n",
    "\n",
    "df_sample['encoded'] = df_sample['reviewText'].apply(lambda x: np.array(encode_sentence(x,vocab2index )))\n",
    "\n",
    "x = df_sample.encoded\n",
    "y = df_sample.overall\n",
    "\n",
    "x_train_total, x_test, y_train_total, y_test = train_test_split(x, y, test_size=0.2)\n",
    "x_train, x_val, y_train, y_val = train_test_split(x_train_total, y_train_total, test_size=0.2)\n",
    "\n",
    "x_train = x_train.reset_index(drop=True)\n",
    "x_val = x_val.reset_index(drop=True)\n",
    "x_test = x_test.reset_index(drop=True)\n",
    "\n",
    "y_train = y_train.reset_index(drop=True)\n",
    "y_val = y_val.reset_index(drop=True)\n",
    "y_test = y_test.reset_index(drop=True)\n"
   ]
  },
  {
   "cell_type": "markdown",
   "metadata": {},
   "source": [
    "### Pytorch Dataset"
   ]
  },
  {
   "cell_type": "code",
   "execution_count": 110,
   "metadata": {},
   "outputs": [],
   "source": [
    "class ReviewDataset(torch.utils.data.Dataset):\n",
    "    def __init__(self, X, Y):\n",
    "        self.x = X\n",
    "        self.y = Y\n",
    "        \n",
    "    def __len__(self):\n",
    "        return len(self.y)\n",
    "    \n",
    "    def __getitem__(self, idx):\n",
    "        #print(self.x)\n",
    "        return torch.from_numpy(self.x[idx][0].astype(np.int32)).to(device), self.y[idx], self.x[idx][1]\n",
    "        #return torch.from_numpy(self.x[idx][0].astype(np.int32)), self.y[idx], self.x[idx][1]\n",
    "\n",
    "train_ds = ReviewDataset(x_train, y_train)\n",
    "val_ds = ReviewDataset(x_val, y_val)\n",
    "test_ds = ReviewDataset(x_test, y_test)"
   ]
  },
  {
   "cell_type": "markdown",
   "metadata": {},
   "source": [
    "### Pytorch Training Loop"
   ]
  },
  {
   "cell_type": "code",
   "execution_count": 111,
   "metadata": {},
   "outputs": [],
   "source": [
    "def train_model_regr(model, epochs=10, lr=0.001):\n",
    "    parameters = filter(lambda p: p.requires_grad, model.parameters())\n",
    "    optimizer = torch.optim.Adam(parameters, lr=lr)\n",
    "    for i in range(epochs):\n",
    "        model.train()\n",
    "        sum_loss = 0.0\n",
    "        total = 0\n",
    "        for x, y, l in train_dl:\n",
    "            x = x.long().to(device)\n",
    "            y = y.float().to(device)\n",
    "            y_pred = model(x, l)\n",
    "            optimizer.zero_grad()\n",
    "            loss = F.mse_loss(y_pred, y.unsqueeze(-1))\n",
    "            loss.backward()\n",
    "            optimizer.step()\n",
    "            sum_loss += loss.item()*y.shape[0]\n",
    "            total += y.shape[0]\n",
    "        val_loss = validation_metrics_regr(model, val_dl)\n",
    "        if i % 5 == 1:\n",
    "            print(\"train mse %.3f val rmse %.3f\" % (sum_loss/total, val_loss))\n",
    "\n",
    "def validation_metrics_regr (model, valid_dl):\n",
    "    model.eval()\n",
    "    correct = 0\n",
    "    total = 0\n",
    "    sum_loss = 0.0\n",
    "    for x, y, l in valid_dl:\n",
    "        x = x.long()\n",
    "        y = y.float()\n",
    "        y_hat = model(x, l).cpu()\n",
    "        loss = np.sqrt(F.mse_loss(y_hat, y.unsqueeze(-1)).item())\n",
    "        total += y.shape[0]\n",
    "        sum_loss += loss.item()*y.shape[0]\n",
    "    return sum_loss/total\n",
    "\n",
    "batch_size = 5000\n",
    "vocab_size = len(words)\n",
    "train_dl = torch.utils.data.DataLoader(train_ds, batch_size=batch_size, shuffle=True)\n",
    "val_dl = torch.utils.data.DataLoader(val_ds, batch_size=batch_size)"
   ]
  },
  {
   "cell_type": "markdown",
   "metadata": {},
   "source": [
    "### Pytorch Model"
   ]
  },
  {
   "cell_type": "code",
   "execution_count": 112,
   "metadata": {},
   "outputs": [
    {
     "data": {
      "text/plain": [
       "my_LSTM(\n",
       "  (embeddings): Embedding(18165, 1000, padding_idx=0)\n",
       "  (lstm): LSTM(1000, 500, batch_first=True)\n",
       "  (linear): Linear(in_features=500, out_features=1, bias=True)\n",
       "  (dropout): Dropout(p=0.2, inplace=False)\n",
       ")"
      ]
     },
     "execution_count": 112,
     "metadata": {},
     "output_type": "execute_result"
    }
   ],
   "source": [
    "class my_LSTM(torch.nn.Module) :\n",
    "    def __init__(self, vocab_size, embedding_dim, hidden_dim) :\n",
    "        super().__init__()\n",
    "        self.embeddings = nn.Embedding(vocab_size, embedding_dim, padding_idx=0)\n",
    "        self.lstm = nn.LSTM(embedding_dim, hidden_dim, batch_first=True)\n",
    "        self.linear = nn.Linear(hidden_dim, 1)\n",
    "        self.dropout = nn.Dropout(0.2)\n",
    "        \n",
    "    def forward(self, x, l):\n",
    "        x = self.embeddings(x)\n",
    "        x = self.dropout(x)\n",
    "        lstm_out, (ht, ct) = self.lstm(x)\n",
    "        return self.linear(ht[-1])\n",
    "        \n",
    "lstm_model =  my_LSTM(vocab_size, 1000, 500)\n",
    "lstm_model.to(device)"
   ]
  },
  {
   "cell_type": "code",
   "execution_count": 113,
   "metadata": {},
   "outputs": [
    {
     "name": "stdout",
     "output_type": "stream",
     "text": [
      "train mse 6.004 val rmse 6.270\n",
      "train mse 5.189 val rmse 2.583\n",
      "train mse 5.679 val rmse 2.394\n",
      "train mse 2.146 val rmse 1.568\n",
      "train mse 1.658 val rmse 1.511\n",
      "train mse 1.602 val rmse 1.485\n",
      "train mse 1.604 val rmse 1.490\n",
      "train mse 1.572 val rmse 1.491\n"
     ]
    }
   ],
   "source": [
    "train_model_regr(lstm_model, epochs=40, lr=0.01)"
   ]
  },
  {
   "cell_type": "code",
   "execution_count": 114,
   "metadata": {},
   "outputs": [],
   "source": [
    "torch.save(lstm_model, './RNN_Reg_Model')"
   ]
  },
  {
   "cell_type": "markdown",
   "metadata": {},
   "source": [
    "## Huggingface / Transformer"
   ]
  },
  {
   "cell_type": "code",
   "execution_count": 115,
   "metadata": {},
   "outputs": [],
   "source": [
    "df_transformer = df_cleaned.reset_index(drop=True)\n",
    "\n",
    "df_transformer['label'] = df_transformer.overall\n",
    "df_transformer['text'] = df_transformer.reviewText\n",
    "\n",
    "df_transformer = df_transformer.drop(['overall', 'reviewText'], axis=1)\n",
    "\n",
    "train, test = train_test_split(df_transformer)\n",
    "\n",
    "ds_train = Dataset.from_pandas(train, preserve_index=False)\n",
    "ds_test = Dataset.from_pandas(test, preserve_index=False)\n",
    "\n",
    "tokenizer = AutoTokenizer.from_pretrained(\"distilbert-base-uncased\")\n",
    "\n",
    "def preprocess_function(examples):\n",
    "    return tokenizer(examples[\"text\"], truncation=True)\n",
    "\n",
    "def preprocess_function_amazon(examples):\n",
    "    return tokenizer(examples[\"review_body\"], truncation=True)\n",
    "\n",
    "ds_train.features['label'] = features.ClassLabel(1)\n",
    "ds_test.features['label'] = features.ClassLabel(1)"
   ]
  },
  {
   "cell_type": "code",
   "execution_count": 116,
   "metadata": {},
   "outputs": [
    {
     "name": "stderr",
     "output_type": "stream",
     "text": [
      "100%|██████████| 75/75 [00:04<00:00, 15.76ba/s]\n",
      "100%|██████████| 25/25 [00:01<00:00, 21.66ba/s]\n"
     ]
    }
   ],
   "source": [
    "tokenized_train = ds_train.map(preprocess_function, batched=True)\n",
    "tokenized_test = ds_test.map(preprocess_function, batched=True)"
   ]
  },
  {
   "cell_type": "code",
   "execution_count": 117,
   "metadata": {},
   "outputs": [],
   "source": [
    "data_collator = DataCollatorWithPadding(tokenizer=tokenizer, return_tensors=\"tf\")"
   ]
  },
  {
   "cell_type": "code",
   "execution_count": 118,
   "metadata": {},
   "outputs": [],
   "source": [
    "tf_train_set = tokenized_train.to_tf_dataset(\n",
    "    columns=[\"attention_mask\", \"input_ids\", \"label\"],\n",
    "    shuffle=True,\n",
    "    batch_size=4,\n",
    "    collate_fn=data_collator,\n",
    ")\n",
    "\n",
    "tf_validation_set = tokenized_test.to_tf_dataset(\n",
    "    columns=[\"attention_mask\", \"input_ids\", \"label\"],\n",
    "    shuffle=False,\n",
    "    batch_size=4,\n",
    "    collate_fn=data_collator,\n",
    ")"
   ]
  },
  {
   "cell_type": "code",
   "execution_count": 119,
   "metadata": {},
   "outputs": [],
   "source": [
    "batch_size = 4\n",
    "num_epochs = 1\n",
    "batches_per_epoch = len(tokenized_train) // batch_size\n",
    "total_train_steps = int(batches_per_epoch * num_epochs)\n",
    "optimizer, schedule = create_optimizer(init_lr=2e-5, num_warmup_steps=0, num_train_steps=total_train_steps)"
   ]
  },
  {
   "cell_type": "code",
   "execution_count": 135,
   "metadata": {},
   "outputs": [
    {
     "name": "stderr",
     "output_type": "stream",
     "text": [
      "Some layers from the model checkpoint at distilbert-base-uncased were not used when initializing TFDistilBertForSequenceClassification: ['vocab_transform', 'vocab_layer_norm', 'activation_13', 'vocab_projector']\n",
      "- This IS expected if you are initializing TFDistilBertForSequenceClassification from the checkpoint of a model trained on another task or with another architecture (e.g. initializing a BertForSequenceClassification model from a BertForPreTraining model).\n",
      "- This IS NOT expected if you are initializing TFDistilBertForSequenceClassification from the checkpoint of a model that you expect to be exactly identical (initializing a BertForSequenceClassification model from a BertForSequenceClassification model).\n",
      "Some layers of TFDistilBertForSequenceClassification were not initialized from the model checkpoint at distilbert-base-uncased and are newly initialized: ['pre_classifier', 'classifier', 'dropout_99']\n",
      "You should probably TRAIN this model on a down-stream task to be able to use it for predictions and inference.\n",
      "No loss specified in compile() - the model's internal loss computation will be used as the loss. Don't panic - this is a common way to train TensorFlow models in Transformers! Please ensure your labels are passed as keys in the input dict so that they are accessible to the model during the forward pass. To disable this behaviour, please pass a loss argument, or explicitly pass loss=None if you do not want your model to compute a loss.\n"
     ]
    }
   ],
   "source": [
    "from transformers import TFAutoModelForSequenceClassification\n",
    "\n",
    "model = TFAutoModelForSequenceClassification.from_pretrained(\"distilbert-base-uncased\", num_labels=1, output_attentions=True)\n",
    "\n",
    "model.compile(optimizer=optimizer)\n",
    "if final_Execution: #Only run on final execution as this takes a long time\n",
    "    model.fit(x=tf_train_set, validation_data=tf_validation_set, epochs=2)"
   ]
  },
  {
   "cell_type": "code",
   "execution_count": 121,
   "metadata": {},
   "outputs": [
    {
     "name": "stdout",
     "output_type": "stream",
     "text": [
      "Loss:  0.0115\n"
     ]
    }
   ],
   "source": [
    "print('Loss: ', 0.0115)"
   ]
  },
  {
   "cell_type": "markdown",
   "metadata": {},
   "source": [
    "This result seems to good -> so it is unplausible"
   ]
  },
  {
   "cell_type": "code",
   "execution_count": 122,
   "metadata": {},
   "outputs": [],
   "source": [
    "model.save_pretrained(save_directory='./Transformer_Model')"
   ]
  },
  {
   "cell_type": "markdown",
   "metadata": {},
   "source": [
    "## Prediction using Classification\n",
    "\n",
    "In the second step we will predict the classes without weighting the result on other classes (A review result 2 is as dissimilar to a review result 1 as a review result 5)\n",
    "\n",
    "In this step we will use 3 approaches:\n",
    "- SVM\n",
    "- Random Forrest\n",
    "- RNN"
   ]
  },
  {
   "cell_type": "markdown",
   "metadata": {},
   "source": [
    "## SVM"
   ]
  },
  {
   "cell_type": "code",
   "execution_count": 123,
   "metadata": {},
   "outputs": [
    {
     "name": "stdout",
     "output_type": "stream",
     "text": [
      "Accuracy: 0.3125\n"
     ]
    },
    {
     "name": "stderr",
     "output_type": "stream",
     "text": [
      "C:\\Users\\micha\\AppData\\Local\\Temp\\ipykernel_30532\\1217449317.py:5: VisibleDeprecationWarning: Creating an ndarray from ragged nested sequences (which is a list-or-tuple of lists-or-tuples-or ndarrays with different lengths or shapes) is deprecated. If you meant to do this, you must specify 'dtype=object' when creating the ndarray.\n",
      "  vect = np.array([np.array([w2v_model.wv[i] for i in ls if i in words]) for ls in df.reviewText])\n"
     ]
    }
   ],
   "source": [
    "x = getSentenceAvgFromW2V(df_sample)\n",
    "y = df_sample.overall.values\n",
    "\n",
    "x_train_total, x_test, y_train_total, y_test = train_test_split(x, y, test_size=0.2)\n",
    "x_train, x_val, y_train, y_val = train_test_split(x_train_total, y_train_total, test_size=0.2)\n",
    "\n",
    "svm_model = SVC()\n",
    "svm_model.fit(x_train, y_train)\n",
    "\n",
    "y_pred = svm_model.predict(x_val)\n",
    "\n",
    "print('Accuracy:', accuracy_score(y_val, y_pred))"
   ]
  },
  {
   "cell_type": "markdown",
   "metadata": {},
   "source": [
    "## Random Forrest"
   ]
  },
  {
   "cell_type": "code",
   "execution_count": 124,
   "metadata": {},
   "outputs": [
    {
     "name": "stderr",
     "output_type": "stream",
     "text": [
      "C:\\Users\\micha\\AppData\\Local\\Temp\\ipykernel_30532\\1217449317.py:5: VisibleDeprecationWarning: Creating an ndarray from ragged nested sequences (which is a list-or-tuple of lists-or-tuples-or ndarrays with different lengths or shapes) is deprecated. If you meant to do this, you must specify 'dtype=object' when creating the ndarray.\n",
      "  vect = np.array([np.array([w2v_model.wv[i] for i in ls if i in words]) for ls in df.reviewText])\n"
     ]
    },
    {
     "name": "stdout",
     "output_type": "stream",
     "text": [
      "Accuracy: 0.38125\n"
     ]
    }
   ],
   "source": [
    "x = getSentenceAvgFromW2V(df_sample)\n",
    "y = df_sample.overall.values\n",
    "\n",
    "x_train_total, x_test, y_train_total, y_test = train_test_split(x, y, test_size=0.2)\n",
    "x_train, x_val, y_train, y_val = train_test_split(x_train_total, y_train_total, test_size=0.2)\n",
    "\n",
    "rfc_model = RandomForestClassifier()\n",
    "rfc_model.fit(x_train, y_train)\n",
    "\n",
    "y_pred = rfc_model.predict(x_val)\n",
    "\n",
    "print('Accuracy:', accuracy_score(y_val, y_pred))"
   ]
  },
  {
   "cell_type": "markdown",
   "metadata": {},
   "source": [
    "# RNN"
   ]
  },
  {
   "cell_type": "markdown",
   "metadata": {},
   "source": [
    "Show content of dataset."
   ]
  },
  {
   "cell_type": "code",
   "execution_count": 125,
   "metadata": {},
   "outputs": [
    {
     "data": {
      "text/html": [
       "<div>\n",
       "<style scoped>\n",
       "    .dataframe tbody tr th:only-of-type {\n",
       "        vertical-align: middle;\n",
       "    }\n",
       "\n",
       "    .dataframe tbody tr th {\n",
       "        vertical-align: top;\n",
       "    }\n",
       "\n",
       "    .dataframe thead th {\n",
       "        text-align: right;\n",
       "    }\n",
       "</style>\n",
       "<table border=\"1\" class=\"dataframe\">\n",
       "  <thead>\n",
       "    <tr style=\"text-align: right;\">\n",
       "      <th></th>\n",
       "      <th>overall</th>\n",
       "      <th>reviewText</th>\n",
       "    </tr>\n",
       "  </thead>\n",
       "  <tbody>\n",
       "    <tr>\n",
       "      <th>0</th>\n",
       "      <td>1</td>\n",
       "      <td>[run, away, horribly, cheap, shoddy, items, so...</td>\n",
       "    </tr>\n",
       "    <tr>\n",
       "      <th>1</th>\n",
       "      <td>1</td>\n",
       "      <td>[terrible, smell, unable, to, use, i, think, w...</td>\n",
       "    </tr>\n",
       "    <tr>\n",
       "      <th>2</th>\n",
       "      <td>1</td>\n",
       "      <td>[ran, out, of, ink, in, minutes]</td>\n",
       "    </tr>\n",
       "    <tr>\n",
       "      <th>3</th>\n",
       "      <td>1</td>\n",
       "      <td>[received, with, no, contents, envelope, torn,...</td>\n",
       "    </tr>\n",
       "    <tr>\n",
       "      <th>4</th>\n",
       "      <td>1</td>\n",
       "      <td>[holes, for, strap, pins, are, too, small, for...</td>\n",
       "    </tr>\n",
       "  </tbody>\n",
       "</table>\n",
       "</div>"
      ],
      "text/plain": [
       "   overall                                         reviewText\n",
       "0        1  [run, away, horribly, cheap, shoddy, items, so...\n",
       "1        1  [terrible, smell, unable, to, use, i, think, w...\n",
       "2        1                   [ran, out, of, ink, in, minutes]\n",
       "3        1  [received, with, no, contents, envelope, torn,...\n",
       "4        1  [holes, for, strap, pins, are, too, small, for..."
      ]
     },
     "execution_count": 125,
     "metadata": {},
     "output_type": "execute_result"
    }
   ],
   "source": [
    "df_tf_input = df_final.copy()\n",
    "df_tf_input.head()"
   ]
  },
  {
   "cell_type": "markdown",
   "metadata": {},
   "source": [
    "Tokenize the review texts."
   ]
  },
  {
   "cell_type": "code",
   "execution_count": 126,
   "metadata": {},
   "outputs": [
    {
     "name": "stdout",
     "output_type": "stream",
     "text": [
      "Found 18163 unique tokens.\n"
     ]
    }
   ],
   "source": [
    "# The maximum number of words to be used (most frequent)\n",
    "MAX_NB_WORDS = 50000\n",
    "# Max number of words in each review.\n",
    "MAX_SEQUENCE_LENGTH = 200\n",
    "# This is fixed.\n",
    "EMBEDDING_DIM = 100\n",
    "\n",
    "tokenizer = Tokenizer(num_words=MAX_NB_WORDS \n",
    "                      #,filters='!\"#$%&()*+,-./:;<=>?@[\\]^_`{|}~'\n",
    "                      #,ower=True\n",
    "                      )\n",
    "tokenizer.fit_on_texts(df_tf_input['reviewText'].values)\n",
    "word_index = tokenizer.word_index\n",
    "print('Found %s unique tokens.' % len(word_index))"
   ]
  },
  {
   "cell_type": "markdown",
   "metadata": {},
   "source": [
    "Convert text to number sequences and create the feature tensor X."
   ]
  },
  {
   "cell_type": "code",
   "execution_count": 127,
   "metadata": {},
   "outputs": [
    {
     "name": "stdout",
     "output_type": "stream",
     "text": [
      "Shape of data tensor: (99875, 200)\n",
      "[[   0    0    0 ...   70  512  265]\n",
      " [   0    0    0 ... 1538    6  265]\n",
      " [   0    0    0 ...  438   13  538]\n",
      " ...\n",
      " [   0    0    0 ...   13   32  994]\n",
      " [   0    0    0 ...    3   42  632]\n",
      " [   0    0    0 ...    9    1  139]]\n"
     ]
    }
   ],
   "source": [
    "X = tokenizer.texts_to_sequences(df_tf_input['reviewText'].values)\n",
    "X = pad_sequences(X, maxlen=MAX_SEQUENCE_LENGTH)\n",
    "print('Shape of data tensor:', X.shape)\n",
    "print(X)"
   ]
  },
  {
   "cell_type": "markdown",
   "metadata": {},
   "source": [
    "Create the target tensor Y."
   ]
  },
  {
   "cell_type": "code",
   "execution_count": 128,
   "metadata": {},
   "outputs": [
    {
     "name": "stdout",
     "output_type": "stream",
     "text": [
      "Shape of label tensor: (99875, 5)\n"
     ]
    }
   ],
   "source": [
    "Y = pd.get_dummies(df_tf_input['overall']).values\n",
    "print('Shape of label tensor:', Y.shape)"
   ]
  },
  {
   "cell_type": "markdown",
   "metadata": {},
   "source": [
    "Create train/test datasets. Test dataset contains 10% of the data. Set random_state to ensure reproductability."
   ]
  },
  {
   "cell_type": "code",
   "execution_count": 129,
   "metadata": {},
   "outputs": [
    {
     "name": "stdout",
     "output_type": "stream",
     "text": [
      "(89887, 200) (89887, 5)\n",
      "(9988, 200) (9988, 5)\n"
     ]
    }
   ],
   "source": [
    "X_train, X_test, Y_train, Y_test = train_test_split(X,Y, test_size = 0.10, random_state = 42)\n",
    "print(X_train.shape,Y_train.shape)\n",
    "print(X_test.shape,Y_test.shape)"
   ]
  },
  {
   "cell_type": "markdown",
   "metadata": {},
   "source": [
    "Create new model of no saved model was found."
   ]
  },
  {
   "cell_type": "code",
   "execution_count": 130,
   "metadata": {},
   "outputs": [
    {
     "name": "stdout",
     "output_type": "stream",
     "text": [
      "Loading saved model...\n",
      "Model: \"sequential_1\"\n",
      "_________________________________________________________________\n",
      " Layer (type)                Output Shape              Param #   \n",
      "=================================================================\n",
      " embedding_1 (Embedding)     (None, 200, 100)          5000000   \n",
      "                                                                 \n",
      " spatial_dropout1d_1 (Spatia  (None, 200, 100)         0         \n",
      " lDropout1D)                                                     \n",
      "                                                                 \n",
      " lstm (LSTM)                 (None, 100)               80400     \n",
      "                                                                 \n",
      " dense (Dense)               (None, 5)                 505       \n",
      "                                                                 \n",
      "=================================================================\n",
      "Total params: 5,080,905\n",
      "Trainable params: 5,080,905\n",
      "Non-trainable params: 0\n",
      "_________________________________________________________________\n",
      "None\n"
     ]
    }
   ],
   "source": [
    "\n",
    "if os.path.exists(\"./RNN_model\") == False:\n",
    "    print(\"Created new model as no saved model was found...\")\n",
    "    model = Sequential()\n",
    "    model.add(Embedding(MAX_NB_WORDS, EMBEDDING_DIM, input_length=X.shape[1]))\n",
    "    model.add(SpatialDropout1D(0.2))\n",
    "    model.add(LSTM(100, dropout=0.2))\n",
    "    model.add(Dense(5, activation='softmax'))\n",
    "    model.compile(loss='categorical_crossentropy', optimizer='adam', metrics=['accuracy'])\n",
    "    new_model = True\n",
    "else:\n",
    "    print(\"Loading saved model...\")\n",
    "    model = kmodels.load_model(\"./RNN_model\")\n",
    "    new_model = False\n",
    "print(model.summary())"
   ]
  },
  {
   "cell_type": "markdown",
   "metadata": {},
   "source": [
    "If new model was created: Start training. Otherwise skip training phase."
   ]
  },
  {
   "cell_type": "code",
   "execution_count": 131,
   "metadata": {},
   "outputs": [
    {
     "name": "stdout",
     "output_type": "stream",
     "text": [
      "Skip training and use existing model\n"
     ]
    }
   ],
   "source": [
    "if(new_model):\n",
    "    print(\"New model created - training starts...\")\n",
    "    epochs = 5\n",
    "    batch_size = 64\n",
    "\n",
    "    history = model.fit(X_train, Y_train, epochs=epochs, batch_size=batch_size,validation_split=0.1,callbacks=[EarlyStopping(monitor='val_loss', patience=3, min_delta=0.0001)])\n",
    "else:\n",
    "    print(\"Skip training and use existing model\")\n"
   ]
  },
  {
   "cell_type": "markdown",
   "metadata": {},
   "source": [
    "Determine accuracy."
   ]
  },
  {
   "cell_type": "code",
   "execution_count": 132,
   "metadata": {},
   "outputs": [
    {
     "name": "stdout",
     "output_type": "stream",
     "text": [
      "313/313 [==============================] - 7s 22ms/step - loss: 2.0574 - accuracy: 0.2362\n",
      "Test set\n",
      "  Loss: 2.057\n",
      "  Accuracy: 0.236\n"
     ]
    }
   ],
   "source": [
    "accr = model.evaluate(X_test,Y_test)\n",
    "print('Test set\\n  Loss: {:0.3f}\\n  Accuracy: {:0.3f}'.format(accr[0],accr[1]))"
   ]
  },
  {
   "cell_type": "markdown",
   "metadata": {},
   "source": [
    "Save the model and training history if it was newly created."
   ]
  },
  {
   "cell_type": "code",
   "execution_count": 133,
   "metadata": {},
   "outputs": [],
   "source": [
    "if new_model:\n",
    "    np.save('./rnn_history.npy', history)\n",
    "    model.save(\"./RNN_model\")"
   ]
  },
  {
   "cell_type": "markdown",
   "metadata": {},
   "source": [
    "Load history to plot loss an accuracy values."
   ]
  },
  {
   "cell_type": "code",
   "execution_count": 134,
   "metadata": {},
   "outputs": [
    {
     "ename": "FileNotFoundError",
     "evalue": "Unsuccessful TensorSliceReader constructor: Failed to find any matching files for ram://2d00a32e-79b0-4fd8-a983-e22d2107c98b/variables/variables\n You may be trying to load on a different device from the computational device. Consider setting the `experimental_io_device` option in `tf.saved_model.LoadOptions` to the io_device such as '/job:localhost'.",
     "output_type": "error",
     "traceback": [
      "\u001b[1;31m---------------------------------------------------------------------------\u001b[0m",
      "\u001b[1;31mFileNotFoundError\u001b[0m                         Traceback (most recent call last)",
      "\u001b[1;32mc:\\Users\\micha\\OneDrive\\Dokumente\\Technikum\\MAI\\Semester 2\\AIAPP\\AIAPP_NLP\\project.ipynb Cell 118'\u001b[0m in \u001b[0;36m<cell line: 1>\u001b[1;34m()\u001b[0m\n\u001b[0;32m      <a href='vscode-notebook-cell:/c%3A/Users/micha/OneDrive/Dokumente/Technikum/MAI/Semester%202/AIAPP/AIAPP_NLP/project.ipynb#ch0000128?line=1'>2</a>\u001b[0m     history \u001b[39m=\u001b[39m history\u001b[39m.\u001b[39mhistory\n\u001b[0;32m      <a href='vscode-notebook-cell:/c%3A/Users/micha/OneDrive/Dokumente/Technikum/MAI/Semester%202/AIAPP/AIAPP_NLP/project.ipynb#ch0000128?line=2'>3</a>\u001b[0m \u001b[39melse\u001b[39;00m:\n\u001b[1;32m----> <a href='vscode-notebook-cell:/c%3A/Users/micha/OneDrive/Dokumente/Technikum/MAI/Semester%202/AIAPP/AIAPP_NLP/project.ipynb#ch0000128?line=3'>4</a>\u001b[0m     history \u001b[39m=\u001b[39m np\u001b[39m.\u001b[39;49mload(\u001b[39m'\u001b[39;49m\u001b[39m./rnn_history.npy\u001b[39;49m\u001b[39m'\u001b[39;49m, allow_pickle\u001b[39m=\u001b[39;49m\u001b[39m'\u001b[39;49m\u001b[39mTRUE\u001b[39;49m\u001b[39m'\u001b[39;49m)\u001b[39m.\u001b[39mitem()\n\u001b[0;32m      <a href='vscode-notebook-cell:/c%3A/Users/micha/OneDrive/Dokumente/Technikum/MAI/Semester%202/AIAPP/AIAPP_NLP/project.ipynb#ch0000128?line=4'>5</a>\u001b[0m     \u001b[39mprint\u001b[39m(history)\n",
      "File \u001b[1;32m~\\anaconda3\\envs\\AIAPP_NLP\\lib\\site-packages\\numpy\\lib\\npyio.py:440\u001b[0m, in \u001b[0;36mload\u001b[1;34m(file, mmap_mode, allow_pickle, fix_imports, encoding)\u001b[0m\n\u001b[0;32m    <a href='file:///c%3A/Users/micha/anaconda3/envs/AIAPP_NLP/lib/site-packages/numpy/lib/npyio.py?line=437'>438</a>\u001b[0m         \u001b[39mreturn\u001b[39;00m \u001b[39mformat\u001b[39m\u001b[39m.\u001b[39mopen_memmap(file, mode\u001b[39m=\u001b[39mmmap_mode)\n\u001b[0;32m    <a href='file:///c%3A/Users/micha/anaconda3/envs/AIAPP_NLP/lib/site-packages/numpy/lib/npyio.py?line=438'>439</a>\u001b[0m     \u001b[39melse\u001b[39;00m:\n\u001b[1;32m--> <a href='file:///c%3A/Users/micha/anaconda3/envs/AIAPP_NLP/lib/site-packages/numpy/lib/npyio.py?line=439'>440</a>\u001b[0m         \u001b[39mreturn\u001b[39;00m \u001b[39mformat\u001b[39;49m\u001b[39m.\u001b[39;49mread_array(fid, allow_pickle\u001b[39m=\u001b[39;49mallow_pickle,\n\u001b[0;32m    <a href='file:///c%3A/Users/micha/anaconda3/envs/AIAPP_NLP/lib/site-packages/numpy/lib/npyio.py?line=440'>441</a>\u001b[0m                                  pickle_kwargs\u001b[39m=\u001b[39;49mpickle_kwargs)\n\u001b[0;32m    <a href='file:///c%3A/Users/micha/anaconda3/envs/AIAPP_NLP/lib/site-packages/numpy/lib/npyio.py?line=441'>442</a>\u001b[0m \u001b[39melse\u001b[39;00m:\n\u001b[0;32m    <a href='file:///c%3A/Users/micha/anaconda3/envs/AIAPP_NLP/lib/site-packages/numpy/lib/npyio.py?line=442'>443</a>\u001b[0m     \u001b[39m# Try a pickle\u001b[39;00m\n\u001b[0;32m    <a href='file:///c%3A/Users/micha/anaconda3/envs/AIAPP_NLP/lib/site-packages/numpy/lib/npyio.py?line=443'>444</a>\u001b[0m     \u001b[39mif\u001b[39;00m \u001b[39mnot\u001b[39;00m allow_pickle:\n",
      "File \u001b[1;32m~\\anaconda3\\envs\\AIAPP_NLP\\lib\\site-packages\\numpy\\lib\\format.py:744\u001b[0m, in \u001b[0;36mread_array\u001b[1;34m(fp, allow_pickle, pickle_kwargs)\u001b[0m\n\u001b[0;32m    <a href='file:///c%3A/Users/micha/anaconda3/envs/AIAPP_NLP/lib/site-packages/numpy/lib/format.py?line=741'>742</a>\u001b[0m     pickle_kwargs \u001b[39m=\u001b[39m {}\n\u001b[0;32m    <a href='file:///c%3A/Users/micha/anaconda3/envs/AIAPP_NLP/lib/site-packages/numpy/lib/format.py?line=742'>743</a>\u001b[0m \u001b[39mtry\u001b[39;00m:\n\u001b[1;32m--> <a href='file:///c%3A/Users/micha/anaconda3/envs/AIAPP_NLP/lib/site-packages/numpy/lib/format.py?line=743'>744</a>\u001b[0m     array \u001b[39m=\u001b[39m pickle\u001b[39m.\u001b[39;49mload(fp, \u001b[39m*\u001b[39;49m\u001b[39m*\u001b[39;49mpickle_kwargs)\n\u001b[0;32m    <a href='file:///c%3A/Users/micha/anaconda3/envs/AIAPP_NLP/lib/site-packages/numpy/lib/format.py?line=744'>745</a>\u001b[0m \u001b[39mexcept\u001b[39;00m \u001b[39mUnicodeError\u001b[39;00m \u001b[39mas\u001b[39;00m err:\n\u001b[0;32m    <a href='file:///c%3A/Users/micha/anaconda3/envs/AIAPP_NLP/lib/site-packages/numpy/lib/format.py?line=745'>746</a>\u001b[0m     \u001b[39m# Friendlier error message\u001b[39;00m\n\u001b[0;32m    <a href='file:///c%3A/Users/micha/anaconda3/envs/AIAPP_NLP/lib/site-packages/numpy/lib/format.py?line=746'>747</a>\u001b[0m     \u001b[39mraise\u001b[39;00m \u001b[39mUnicodeError\u001b[39;00m(\u001b[39m\"\u001b[39m\u001b[39mUnpickling a python object failed: \u001b[39m\u001b[39m%r\u001b[39;00m\u001b[39m\\n\u001b[39;00m\u001b[39m\"\u001b[39m\n\u001b[0;32m    <a href='file:///c%3A/Users/micha/anaconda3/envs/AIAPP_NLP/lib/site-packages/numpy/lib/format.py?line=747'>748</a>\u001b[0m                        \u001b[39m\"\u001b[39m\u001b[39mYou may need to pass the encoding= option \u001b[39m\u001b[39m\"\u001b[39m\n\u001b[0;32m    <a href='file:///c%3A/Users/micha/anaconda3/envs/AIAPP_NLP/lib/site-packages/numpy/lib/format.py?line=748'>749</a>\u001b[0m                        \u001b[39m\"\u001b[39m\u001b[39mto numpy.load\u001b[39m\u001b[39m\"\u001b[39m \u001b[39m%\u001b[39m (err,)) \u001b[39mfrom\u001b[39;00m \u001b[39merr\u001b[39;00m\n",
      "File \u001b[1;32m~\\anaconda3\\envs\\AIAPP_NLP\\lib\\site-packages\\keras\\saving\\pickle_utils.py:48\u001b[0m, in \u001b[0;36mdeserialize_model_from_bytecode\u001b[1;34m(serialized_model)\u001b[0m\n\u001b[0;32m     <a href='file:///c%3A/Users/micha/anaconda3/envs/AIAPP_NLP/lib/site-packages/keras/saving/pickle_utils.py?line=45'>46</a>\u001b[0m       \u001b[39mwith\u001b[39;00m tf\u001b[39m.\u001b[39mio\u001b[39m.\u001b[39mgfile\u001b[39m.\u001b[39mGFile(dest_path, \u001b[39m\"\u001b[39m\u001b[39mwb\u001b[39m\u001b[39m\"\u001b[39m) \u001b[39mas\u001b[39;00m f:\n\u001b[0;32m     <a href='file:///c%3A/Users/micha/anaconda3/envs/AIAPP_NLP/lib/site-packages/keras/saving/pickle_utils.py?line=46'>47</a>\u001b[0m         f\u001b[39m.\u001b[39mwrite(archive\u001b[39m.\u001b[39mextractfile(name)\u001b[39m.\u001b[39mread())\n\u001b[1;32m---> <a href='file:///c%3A/Users/micha/anaconda3/envs/AIAPP_NLP/lib/site-packages/keras/saving/pickle_utils.py?line=47'>48</a>\u001b[0m model \u001b[39m=\u001b[39m save_module\u001b[39m.\u001b[39;49mload_model(temp_dir)\n\u001b[0;32m     <a href='file:///c%3A/Users/micha/anaconda3/envs/AIAPP_NLP/lib/site-packages/keras/saving/pickle_utils.py?line=48'>49</a>\u001b[0m tf\u001b[39m.\u001b[39mio\u001b[39m.\u001b[39mgfile\u001b[39m.\u001b[39mrmtree(temp_dir)\n\u001b[0;32m     <a href='file:///c%3A/Users/micha/anaconda3/envs/AIAPP_NLP/lib/site-packages/keras/saving/pickle_utils.py?line=49'>50</a>\u001b[0m \u001b[39mreturn\u001b[39;00m model\n",
      "File \u001b[1;32m~\\anaconda3\\envs\\AIAPP_NLP\\lib\\site-packages\\keras\\utils\\traceback_utils.py:67\u001b[0m, in \u001b[0;36mfilter_traceback.<locals>.error_handler\u001b[1;34m(*args, **kwargs)\u001b[0m\n\u001b[0;32m     <a href='file:///c%3A/Users/micha/anaconda3/envs/AIAPP_NLP/lib/site-packages/keras/utils/traceback_utils.py?line=64'>65</a>\u001b[0m \u001b[39mexcept\u001b[39;00m \u001b[39mException\u001b[39;00m \u001b[39mas\u001b[39;00m e:  \u001b[39m# pylint: disable=broad-except\u001b[39;00m\n\u001b[0;32m     <a href='file:///c%3A/Users/micha/anaconda3/envs/AIAPP_NLP/lib/site-packages/keras/utils/traceback_utils.py?line=65'>66</a>\u001b[0m   filtered_tb \u001b[39m=\u001b[39m _process_traceback_frames(e\u001b[39m.\u001b[39m__traceback__)\n\u001b[1;32m---> <a href='file:///c%3A/Users/micha/anaconda3/envs/AIAPP_NLP/lib/site-packages/keras/utils/traceback_utils.py?line=66'>67</a>\u001b[0m   \u001b[39mraise\u001b[39;00m e\u001b[39m.\u001b[39mwith_traceback(filtered_tb) \u001b[39mfrom\u001b[39;00m \u001b[39mNone\u001b[39m\n\u001b[0;32m     <a href='file:///c%3A/Users/micha/anaconda3/envs/AIAPP_NLP/lib/site-packages/keras/utils/traceback_utils.py?line=67'>68</a>\u001b[0m \u001b[39mfinally\u001b[39;00m:\n\u001b[0;32m     <a href='file:///c%3A/Users/micha/anaconda3/envs/AIAPP_NLP/lib/site-packages/keras/utils/traceback_utils.py?line=68'>69</a>\u001b[0m   \u001b[39mdel\u001b[39;00m filtered_tb\n",
      "File \u001b[1;32m~\\anaconda3\\envs\\AIAPP_NLP\\lib\\site-packages\\tensorflow\\python\\saved_model\\load.py:977\u001b[0m, in \u001b[0;36mload_internal\u001b[1;34m(export_dir, tags, options, loader_cls, filters)\u001b[0m\n\u001b[0;32m    <a href='file:///c%3A/Users/micha/anaconda3/envs/AIAPP_NLP/lib/site-packages/tensorflow/python/saved_model/load.py?line=973'>974</a>\u001b[0m   loader \u001b[39m=\u001b[39m loader_cls(object_graph_proto, saved_model_proto, export_dir,\n\u001b[0;32m    <a href='file:///c%3A/Users/micha/anaconda3/envs/AIAPP_NLP/lib/site-packages/tensorflow/python/saved_model/load.py?line=974'>975</a>\u001b[0m                       ckpt_options, options, filters)\n\u001b[0;32m    <a href='file:///c%3A/Users/micha/anaconda3/envs/AIAPP_NLP/lib/site-packages/tensorflow/python/saved_model/load.py?line=975'>976</a>\u001b[0m \u001b[39mexcept\u001b[39;00m errors\u001b[39m.\u001b[39mNotFoundError \u001b[39mas\u001b[39;00m err:\n\u001b[1;32m--> <a href='file:///c%3A/Users/micha/anaconda3/envs/AIAPP_NLP/lib/site-packages/tensorflow/python/saved_model/load.py?line=976'>977</a>\u001b[0m   \u001b[39mraise\u001b[39;00m \u001b[39mFileNotFoundError\u001b[39;00m(\n\u001b[0;32m    <a href='file:///c%3A/Users/micha/anaconda3/envs/AIAPP_NLP/lib/site-packages/tensorflow/python/saved_model/load.py?line=977'>978</a>\u001b[0m       \u001b[39mstr\u001b[39m(err) \u001b[39m+\u001b[39m \u001b[39m\"\u001b[39m\u001b[39m\\n\u001b[39;00m\u001b[39m You may be trying to load on a different device \u001b[39m\u001b[39m\"\u001b[39m\n\u001b[0;32m    <a href='file:///c%3A/Users/micha/anaconda3/envs/AIAPP_NLP/lib/site-packages/tensorflow/python/saved_model/load.py?line=978'>979</a>\u001b[0m       \u001b[39m\"\u001b[39m\u001b[39mfrom the computational device. Consider setting the \u001b[39m\u001b[39m\"\u001b[39m\n\u001b[0;32m    <a href='file:///c%3A/Users/micha/anaconda3/envs/AIAPP_NLP/lib/site-packages/tensorflow/python/saved_model/load.py?line=979'>980</a>\u001b[0m       \u001b[39m\"\u001b[39m\u001b[39m`experimental_io_device` option in `tf.saved_model.LoadOptions` \u001b[39m\u001b[39m\"\u001b[39m\n\u001b[0;32m    <a href='file:///c%3A/Users/micha/anaconda3/envs/AIAPP_NLP/lib/site-packages/tensorflow/python/saved_model/load.py?line=980'>981</a>\u001b[0m       \u001b[39m\"\u001b[39m\u001b[39mto the io_device such as \u001b[39m\u001b[39m'\u001b[39m\u001b[39m/job:localhost\u001b[39m\u001b[39m'\u001b[39m\u001b[39m.\u001b[39m\u001b[39m\"\u001b[39m)\n\u001b[0;32m    <a href='file:///c%3A/Users/micha/anaconda3/envs/AIAPP_NLP/lib/site-packages/tensorflow/python/saved_model/load.py?line=981'>982</a>\u001b[0m root \u001b[39m=\u001b[39m loader\u001b[39m.\u001b[39mget(\u001b[39m0\u001b[39m)\n\u001b[0;32m    <a href='file:///c%3A/Users/micha/anaconda3/envs/AIAPP_NLP/lib/site-packages/tensorflow/python/saved_model/load.py?line=982'>983</a>\u001b[0m \u001b[39mif\u001b[39;00m \u001b[39misinstance\u001b[39m(loader, Loader):\n",
      "\u001b[1;31mFileNotFoundError\u001b[0m: Unsuccessful TensorSliceReader constructor: Failed to find any matching files for ram://2d00a32e-79b0-4fd8-a983-e22d2107c98b/variables/variables\n You may be trying to load on a different device from the computational device. Consider setting the `experimental_io_device` option in `tf.saved_model.LoadOptions` to the io_device such as '/job:localhost'."
     ]
    }
   ],
   "source": [
    "if new_model:\n",
    "    history = history.history\n",
    "else:\n",
    "    history = np.load('./rnn_history.npy', allow_pickle='TRUE').item()\n",
    "    print(history)"
   ]
  },
  {
   "cell_type": "markdown",
   "metadata": {},
   "source": [
    "Plot loss an accuracy."
   ]
  },
  {
   "cell_type": "code",
   "execution_count": null,
   "metadata": {},
   "outputs": [
    {
     "data": {
      "image/png": "[encoded data removed]",
      "text/plain": [
       "<Figure size 432x288 with 1 Axes>"
      ]
     },
     "metadata": {
      "needs_background": "light"
     },
     "output_type": "display_data"
    }
   ],
   "source": [
    "plt.title('Loss')\n",
    "plt.plot(history['loss'], label='train')\n",
    "plt.plot(history['val_loss'], label='test')\n",
    "plt.legend()\n",
    "plt.show()"
   ]
  },
  {
   "cell_type": "code",
   "execution_count": null,
   "metadata": {},
   "outputs": [
    {
     "data": {
      "image/png": "[encoded data removed]",
      "text/plain": [
       "<Figure size 432x288 with 1 Axes>"
      ]
     },
     "metadata": {
      "needs_background": "light"
     },
     "output_type": "display_data"
    }
   ],
   "source": [
    "plt.title('Accuracy')\n",
    "plt.plot(history['accuracy'], label='train')\n",
    "plt.plot(history['val_accuracy'], label='test')\n",
    "plt.legend()\n",
    "plt.show()"
   ]
  }
 ],
 "metadata": {
  "interpreter": {
   "hash": "f974761abf908fb6a9f457c6a23a631485246efe566291ef9aa7ebf87bee0e83"
  },
  "kernelspec": {
   "display_name": "Python 3.7.5 64-bit ('base': conda)",
   "name": "python3"
  },
  "language_info": {
   "codemirror_mode": {
    "name": "ipython",
    "version": 3
   },
   "file_extension": ".py",
   "mimetype": "text/x-python",
   "name": "python",
   "nbconvert_exporter": "python",
   "pygments_lexer": "ipython3",
   "version": "3.8.13"
  },
  "orig_nbformat": 4
 },
 "nbformat": 4,
 "nbformat_minor": 2
}
